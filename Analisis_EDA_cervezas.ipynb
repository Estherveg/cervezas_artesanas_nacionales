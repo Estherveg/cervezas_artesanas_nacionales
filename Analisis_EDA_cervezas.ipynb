{
 "cells": [
  {
   "cell_type": "markdown",
   "metadata": {},
   "source": [
    "# ANÁLISIS EXPLORATORIO DE CERVEZAS ARTESANAS NACIONALES\n",
    "\n",
    "A partir de los datos obtenidos y preprocesados sobre una base de datos de cerevezas artesanas de origen español, vamos a hacer un estudio del que pretendemos sacer información sobre cómo es la cerveza artesana nacional.\n",
    "Para ello, estudiaremos los diferentes parámetros y sus relaciones de modo que podamos extraer conclusiones."
   ]
  },
  {
   "cell_type": "code",
   "execution_count": 13,
   "metadata": {},
   "outputs": [],
   "source": [
    "import numpy as np\n",
    "import pandas as pd\n",
    "\n",
    "import matplotlib.pyplot as plt\n",
    "plt.rcParams[\"image.cmap\"] = \"terrain\"\n",
    "palette = plt.get_cmap('terrain')\n",
    "import seaborn as sns\n",
    "import plotly.graph_objs as go"
   ]
  },
  {
   "cell_type": "code",
   "execution_count": 9,
   "metadata": {},
   "outputs": [
    {
     "data": {
      "text/html": [
       "<div>\n",
       "<style scoped>\n",
       "    .dataframe tbody tr th:only-of-type {\n",
       "        vertical-align: middle;\n",
       "    }\n",
       "\n",
       "    .dataframe tbody tr th {\n",
       "        vertical-align: top;\n",
       "    }\n",
       "\n",
       "    .dataframe thead th {\n",
       "        text-align: right;\n",
       "    }\n",
       "</style>\n",
       "<table border=\"1\" class=\"dataframe\">\n",
       "  <thead>\n",
       "    <tr style=\"text-align: right;\">\n",
       "      <th></th>\n",
       "      <th>id</th>\n",
       "      <th>color</th>\n",
       "      <th>name</th>\n",
       "      <th>brand</th>\n",
       "      <th>description</th>\n",
       "      <th>image</th>\n",
       "      <th>Estilo</th>\n",
       "      <th>Graduación</th>\n",
       "      <th>Fermentación</th>\n",
       "      <th>IBU</th>\n",
       "      <th>Lúpulos</th>\n",
       "      <th>European Brewing Convention (EBC)</th>\n",
       "      <th>Maltas</th>\n",
       "      <th>Temperatura de consumo</th>\n",
       "      <th>Grano</th>\n",
       "      <th>Población</th>\n",
       "      <th>Provincia</th>\n",
       "      <th>Comunidad Autónoma</th>\n",
       "      <th>País</th>\n",
       "    </tr>\n",
       "  </thead>\n",
       "  <tbody>\n",
       "    <tr>\n",
       "      <th>0</th>\n",
       "      <td>2</td>\n",
       "      <td>rubia</td>\n",
       "      <td>Alegría &amp; Boris Brew Ipanosuarus Rex</td>\n",
       "      <td>Cervezas Alegría</td>\n",
       "      <td>\\nUna doble IPA rubia, potente y seca. Elabora...</td>\n",
       "      <td>https://static3.soloartesanas.es/3333-large_de...</td>\n",
       "      <td>Imperial / Double IPA</td>\n",
       "      <td>8.2</td>\n",
       "      <td>Ale</td>\n",
       "      <td>60.0</td>\n",
       "      <td>NaN</td>\n",
       "      <td>NaN</td>\n",
       "      <td>NaN</td>\n",
       "      <td>NaN</td>\n",
       "      <td>NaN</td>\n",
       "      <td>Massanassa</td>\n",
       "      <td>Valencia</td>\n",
       "      <td>Valencia</td>\n",
       "      <td>España</td>\n",
       "    </tr>\n",
       "    <tr>\n",
       "      <th>1</th>\n",
       "      <td>3</td>\n",
       "      <td>rubia</td>\n",
       "      <td>Roy The Bull Mango</td>\n",
       "      <td>Roy The Bull</td>\n",
       "      <td>\\nAquí está la primera cerveza de Roy The Bull...</td>\n",
       "      <td>https://static3.soloartesanas.es/3332-large_de...</td>\n",
       "      <td>Fruit Beer</td>\n",
       "      <td>6.0</td>\n",
       "      <td>Ale</td>\n",
       "      <td>38.0</td>\n",
       "      <td>Citra</td>\n",
       "      <td>NaN</td>\n",
       "      <td>NaN</td>\n",
       "      <td>NaN</td>\n",
       "      <td>NaN</td>\n",
       "      <td>Vigo</td>\n",
       "      <td>Pontevedra</td>\n",
       "      <td>Galicia</td>\n",
       "      <td>España</td>\n",
       "    </tr>\n",
       "    <tr>\n",
       "      <th>2</th>\n",
       "      <td>4</td>\n",
       "      <td>rubia</td>\n",
       "      <td>Marijuana</td>\n",
       "      <td>Marijuana</td>\n",
       "      <td>\\nLa única cerveza cerveza artesana que podrás...</td>\n",
       "      <td>https://static1.soloartesanas.es/3223-large_de...</td>\n",
       "      <td>Pale Ale</td>\n",
       "      <td>5.7</td>\n",
       "      <td>Ale</td>\n",
       "      <td>999.0</td>\n",
       "      <td>NaN</td>\n",
       "      <td>NaN</td>\n",
       "      <td>NaN</td>\n",
       "      <td>NaN</td>\n",
       "      <td>NaN</td>\n",
       "      <td>Hoyoasero</td>\n",
       "      <td>Ávila</td>\n",
       "      <td>Castilla y León</td>\n",
       "      <td>España</td>\n",
       "    </tr>\n",
       "    <tr>\n",
       "      <th>3</th>\n",
       "      <td>5</td>\n",
       "      <td>rubia</td>\n",
       "      <td>Arriaca Trigo (lata)</td>\n",
       "      <td>Cervezas Arriaca</td>\n",
       "      <td>\\nUna cerveza de trigo muy afrutada y ligera. ...</td>\n",
       "      <td>https://static2.soloartesanas.es/3449-large_de...</td>\n",
       "      <td>Weizen - Weissbier</td>\n",
       "      <td>4.7</td>\n",
       "      <td>Ale</td>\n",
       "      <td>999.0</td>\n",
       "      <td>NaN</td>\n",
       "      <td>NaN</td>\n",
       "      <td>NaN</td>\n",
       "      <td>NaN</td>\n",
       "      <td>NaN</td>\n",
       "      <td>Yunquera de Henares</td>\n",
       "      <td>Guadalajara</td>\n",
       "      <td>Castilla-La Mancha</td>\n",
       "      <td>España</td>\n",
       "    </tr>\n",
       "    <tr>\n",
       "      <th>4</th>\n",
       "      <td>6</td>\n",
       "      <td>rubia</td>\n",
       "      <td>Bertus White IPA</td>\n",
       "      <td>Bertus</td>\n",
       "      <td>\\nCerveza de estilo IPA elaborada con trigo, j...</td>\n",
       "      <td>https://static2.soloartesanas.es/3201-large_de...</td>\n",
       "      <td>White IPA</td>\n",
       "      <td>6.6</td>\n",
       "      <td>Ale</td>\n",
       "      <td>50.0</td>\n",
       "      <td>NaN</td>\n",
       "      <td>8,1</td>\n",
       "      <td>NaN</td>\n",
       "      <td>NaN</td>\n",
       "      <td>NaN</td>\n",
       "      <td>Rubí</td>\n",
       "      <td>Barcelona</td>\n",
       "      <td>Cataluña</td>\n",
       "      <td>España</td>\n",
       "    </tr>\n",
       "  </tbody>\n",
       "</table>\n",
       "</div>"
      ],
      "text/plain": [
       "   id  color                                  name             brand  \\\n",
       "0   2  rubia  Alegría & Boris Brew Ipanosuarus Rex  Cervezas Alegría   \n",
       "1   3  rubia                    Roy The Bull Mango      Roy The Bull   \n",
       "2   4  rubia                             Marijuana         Marijuana   \n",
       "3   5  rubia                  Arriaca Trigo (lata)  Cervezas Arriaca   \n",
       "4   6  rubia                      Bertus White IPA            Bertus   \n",
       "\n",
       "                                         description  \\\n",
       "0  \\nUna doble IPA rubia, potente y seca. Elabora...   \n",
       "1  \\nAquí está la primera cerveza de Roy The Bull...   \n",
       "2  \\nLa única cerveza cerveza artesana que podrás...   \n",
       "3  \\nUna cerveza de trigo muy afrutada y ligera. ...   \n",
       "4  \\nCerveza de estilo IPA elaborada con trigo, j...   \n",
       "\n",
       "                                               image                  Estilo  \\\n",
       "0  https://static3.soloartesanas.es/3333-large_de...   Imperial / Double IPA   \n",
       "1  https://static3.soloartesanas.es/3332-large_de...              Fruit Beer   \n",
       "2  https://static1.soloartesanas.es/3223-large_de...                Pale Ale   \n",
       "3  https://static2.soloartesanas.es/3449-large_de...      Weizen - Weissbier   \n",
       "4  https://static2.soloartesanas.es/3201-large_de...               White IPA   \n",
       "\n",
       "   Graduación Fermentación    IBU Lúpulos European Brewing Convention (EBC)  \\\n",
       "0         8.2          Ale   60.0     NaN                               NaN   \n",
       "1         6.0          Ale   38.0   Citra                               NaN   \n",
       "2         5.7          Ale  999.0     NaN                               NaN   \n",
       "3         4.7          Ale  999.0     NaN                               NaN   \n",
       "4         6.6          Ale   50.0     NaN                               8,1   \n",
       "\n",
       "  Maltas Temperatura de consumo Grano            Población    Provincia  \\\n",
       "0    NaN                    NaN   NaN           Massanassa     Valencia   \n",
       "1    NaN                    NaN   NaN                 Vigo   Pontevedra   \n",
       "2    NaN                    NaN   NaN            Hoyoasero        Ávila   \n",
       "3    NaN                    NaN   NaN  Yunquera de Henares  Guadalajara   \n",
       "4    NaN                    NaN   NaN                 Rubí    Barcelona   \n",
       "\n",
       "   Comunidad Autónoma    País  \n",
       "0            Valencia  España  \n",
       "1             Galicia  España  \n",
       "2     Castilla y León  España  \n",
       "3  Castilla-La Mancha  España  \n",
       "4            Cataluña  España  "
      ]
     },
     "execution_count": 9,
     "metadata": {},
     "output_type": "execute_result"
    }
   ],
   "source": [
    "# leemos el fichero de datos\n",
    "df=pd.read_csv(\"data/soloartesanas_limpio.csv\", sep=\";\")\n",
    "df.head()"
   ]
  },
  {
   "cell_type": "code",
   "execution_count": 10,
   "metadata": {},
   "outputs": [
    {
     "name": "stdout",
     "output_type": "stream",
     "text": [
      "<class 'pandas.core.frame.DataFrame'>\n",
      "RangeIndex: 427 entries, 0 to 426\n",
      "Data columns (total 19 columns):\n",
      " #   Column                             Non-Null Count  Dtype  \n",
      "---  ------                             --------------  -----  \n",
      " 0   id                                 427 non-null    int64  \n",
      " 1   color                              427 non-null    object \n",
      " 2   name                               427 non-null    object \n",
      " 3   brand                              427 non-null    object \n",
      " 4   description                        427 non-null    object \n",
      " 5   image                              427 non-null    object \n",
      " 6   Estilo                             427 non-null    object \n",
      " 7   Graduación                         427 non-null    float64\n",
      " 8   Fermentación                       427 non-null    object \n",
      " 9   IBU                                427 non-null    float64\n",
      " 10  Lúpulos                            98 non-null     object \n",
      " 11  European Brewing Convention (EBC)  101 non-null    object \n",
      " 12  Maltas                             87 non-null     object \n",
      " 13  Temperatura de consumo             137 non-null    object \n",
      " 14  Grano                              310 non-null    object \n",
      " 15  Población                          427 non-null    object \n",
      " 16  Provincia                          427 non-null    object \n",
      " 17  Comunidad Autónoma                 427 non-null    object \n",
      " 18  País                               427 non-null    object \n",
      "dtypes: float64(2), int64(1), object(16)\n",
      "memory usage: 63.5+ KB\n"
     ]
    }
   ],
   "source": [
    "df.info()"
   ]
  },
  {
   "cell_type": "markdown",
   "metadata": {},
   "source": [
    "## Analizamos el origien de estas cervezas\n",
    "Son todas españolas, pero queremos saber en qué provincias y comunidades se registran más marcas"
   ]
  },
  {
   "cell_type": "code",
   "execution_count": 19,
   "metadata": {},
   "outputs": [
    {
     "name": "stderr",
     "output_type": "stream",
     "text": [
      "/opt/anaconda3/lib/python3.8/site-packages/seaborn/_decorators.py:36: FutureWarning: Pass the following variable as a keyword arg: x. From version 0.12, the only valid positional argument will be `data`, and passing other arguments without an explicit keyword will result in an error or misinterpretation.\n",
      "  warnings.warn(\n"
     ]
    },
    {
     "data": {
      "image/png": "[encoded data removed]",
      "text/plain": [
       "<Figure size 504x360 with 1 Axes>"
      ]
     },
     "metadata": {
      "needs_background": "light"
     },
     "output_type": "display_data"
    }
   ],
   "source": [
    "# Por comunidades autónomas. Ordenadas\n",
    "\n",
    "plt.figure(figsize=(7,5))\n",
    "sns.countplot(df['Comunidad Autónoma'], \n",
    "              palette=\"terrain\",\n",
    "              order = df['Comunidad Autónoma'].value_counts().index)\n",
    "plt.xticks(rotation=45)\n",
    "plt.title(\"Comunidad Autónoma\");\n"
   ]
  },
  {
   "cell_type": "code",
   "execution_count": 21,
   "metadata": {},
   "outputs": [
    {
     "ename": "AttributeError",
     "evalue": "'list' object has no attribute 'value_counts'",
     "output_type": "error",
     "traceback": [
      "\u001b[0;31m---------------------------------------------------------------------------\u001b[0m",
      "\u001b[0;31mAttributeError\u001b[0m                            Traceback (most recent call last)",
      "\u001b[0;32m<ipython-input-21-937d72974b70>\u001b[0m in \u001b[0;36m<module>\u001b[0;34m\u001b[0m\n\u001b[1;32m      2\u001b[0m \u001b[0;31m#df_7CCAA=df[df['Comunidad Autónoma'].value_counts()]\u001b[0m\u001b[0;34m\u001b[0m\u001b[0;34m\u001b[0m\u001b[0;34m\u001b[0m\u001b[0m\n\u001b[1;32m      3\u001b[0m \u001b[0;34m\u001b[0m\u001b[0m\n\u001b[0;32m----> 4\u001b[0;31m \u001b[0mdf\u001b[0m\u001b[0;34m.\u001b[0m\u001b[0msort_values\u001b[0m\u001b[0;34m(\u001b[0m\u001b[0;34m[\u001b[0m\u001b[0;34m'Comunidad Autónoma'\u001b[0m\u001b[0;34m]\u001b[0m\u001b[0;34m.\u001b[0m\u001b[0mvalue_counts\u001b[0m\u001b[0;34m(\u001b[0m\u001b[0;34m)\u001b[0m\u001b[0;34m.\u001b[0m\u001b[0mindex\u001b[0m\u001b[0;34m,\u001b[0m \u001b[0mascending\u001b[0m\u001b[0;34m=\u001b[0m\u001b[0;32mFalse\u001b[0m\u001b[0;34m)\u001b[0m\u001b[0;34m.\u001b[0m\u001b[0mgroupby\u001b[0m\u001b[0;34m(\u001b[0m\u001b[0;34m'Comunidad Autónoma'\u001b[0m\u001b[0;34m)\u001b[0m\u001b[0;34m.\u001b[0m\u001b[0mhead\u001b[0m\u001b[0;34m(\u001b[0m\u001b[0;36m10\u001b[0m\u001b[0;34m)\u001b[0m\u001b[0;34m\u001b[0m\u001b[0;34m\u001b[0m\u001b[0m\n\u001b[0m",
      "\u001b[0;31mAttributeError\u001b[0m: 'list' object has no attribute 'value_counts'"
     ]
    }
   ],
   "source": [
    "# Tomando el top7 de comunidades ¿cómo es el reparto por provincias?\n",
    "#df_7CCAA=df[df['Comunidad Autónoma'].value_counts()]\n",
    "\n",
    "df.sort_values(['Comunidad Autónoma'].value_counts().index, ascending=False).groupby('Comunidad Autónoma').head(10)"
   ]
  },
  {
   "cell_type": "code",
   "execution_count": null,
   "metadata": {},
   "outputs": [],
   "source": []
  }
 ],
 "metadata": {
  "kernelspec": {
   "display_name": "Python 3",
   "language": "python",
   "name": "python3"
  },
  "language_info": {
   "codemirror_mode": {
    "name": "ipython",
    "version": 3
   },
   "file_extension": ".py",
   "mimetype": "text/x-python",
   "name": "python",
   "nbconvert_exporter": "python",
   "pygments_lexer": "ipython3",
   "version": "3.8.3"
  }
 },
 "nbformat": 4,
 "nbformat_minor": 4
}
