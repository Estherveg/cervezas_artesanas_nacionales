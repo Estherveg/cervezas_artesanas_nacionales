{
 "cells": [
  {
   "cell_type": "markdown",
   "metadata": {},
   "source": [
    "# Tratamiento del fichero csv de cervezas obtenido de la web *soloartesanas.es*"
   ]
  },
  {
   "cell_type": "code",
   "execution_count": 1,
   "metadata": {},
   "outputs": [],
   "source": [
    "import numpy as np\n",
    "import pandas as pd\n",
    "import yaml\n",
    "\n",
    "#pd.options.display.max_colwidth = 300"
   ]
  },
  {
   "cell_type": "code",
   "execution_count": 2,
   "metadata": {},
   "outputs": [],
   "source": [
    "# Importo el fichero \"soloartesanas.csv\""
   ]
  },
  {
   "cell_type": "code",
   "execution_count": 3,
   "metadata": {},
   "outputs": [
    {
     "data": {
      "text/html": [
       "<div>\n",
       "<style scoped>\n",
       "    .dataframe tbody tr th:only-of-type {\n",
       "        vertical-align: middle;\n",
       "    }\n",
       "\n",
       "    .dataframe tbody tr th {\n",
       "        vertical-align: top;\n",
       "    }\n",
       "\n",
       "    .dataframe thead th {\n",
       "        text-align: right;\n",
       "    }\n",
       "</style>\n",
       "<table border=\"1\" class=\"dataframe\">\n",
       "  <thead>\n",
       "    <tr style=\"text-align: right;\">\n",
       "      <th></th>\n",
       "      <th>Unnamed: 0</th>\n",
       "      <th>id</th>\n",
       "      <th>color</th>\n",
       "      <th>name</th>\n",
       "      <th>brand</th>\n",
       "      <th>rate_beer</th>\n",
       "      <th>features</th>\n",
       "      <th>description</th>\n",
       "      <th>image</th>\n",
       "    </tr>\n",
       "  </thead>\n",
       "  <tbody>\n",
       "    <tr>\n",
       "      <th>0</th>\n",
       "      <td>0</td>\n",
       "      <td>1</td>\n",
       "      <td>rubia</td>\n",
       "      <td>Arriaca Radler, cerveza artesana con limón (lata)</td>\n",
       "      <td>(cervezas artesanas Cervezas Arriaca)</td>\n",
       "      <td>NaN</td>\n",
       "      <td>{'Estilo de cerveza': ' Blonde Ale', 'Graduaci...</td>\n",
       "      <td>\\nLa primera cerveza Radler artesana creada en...</td>\n",
       "      <td>https://static2.soloartesanas.es/3437-large_de...</td>\n",
       "    </tr>\n",
       "    <tr>\n",
       "      <th>1</th>\n",
       "      <td>1</td>\n",
       "      <td>2</td>\n",
       "      <td>rubia</td>\n",
       "      <td>Alegría &amp; Boris Brew Ipanosuarus Rex</td>\n",
       "      <td>(cervezas artesanas Cervezas Alegría)</td>\n",
       "      <td>NaN</td>\n",
       "      <td>{'Estilo de cerveza': ' Imperial / Double IPA'...</td>\n",
       "      <td>\\nUna doble IPA rubia, potente y seca. Elabora...</td>\n",
       "      <td>https://static3.soloartesanas.es/3333-large_de...</td>\n",
       "    </tr>\n",
       "    <tr>\n",
       "      <th>2</th>\n",
       "      <td>2</td>\n",
       "      <td>3</td>\n",
       "      <td>rubia</td>\n",
       "      <td>Roy The Bull Mango</td>\n",
       "      <td>(cervezas artesanas Roy The Bull)</td>\n",
       "      <td>NaN</td>\n",
       "      <td>{'Estilo de cerveza': ' Fruit Beer', 'Graduaci...</td>\n",
       "      <td>\\nAquí está la primera cerveza de Roy The Bull...</td>\n",
       "      <td>https://static3.soloartesanas.es/3332-large_de...</td>\n",
       "    </tr>\n",
       "    <tr>\n",
       "      <th>3</th>\n",
       "      <td>3</td>\n",
       "      <td>4</td>\n",
       "      <td>rubia</td>\n",
       "      <td>Marijuana</td>\n",
       "      <td>(cervezas artesanas Marijuana)</td>\n",
       "      <td>NaN</td>\n",
       "      <td>{'Estilo de cerveza': ' Pale Ale', 'Graduación...</td>\n",
       "      <td>\\nLa única cerveza cerveza artesana que podrás...</td>\n",
       "      <td>https://static1.soloartesanas.es/3223-large_de...</td>\n",
       "    </tr>\n",
       "    <tr>\n",
       "      <th>4</th>\n",
       "      <td>4</td>\n",
       "      <td>5</td>\n",
       "      <td>rubia</td>\n",
       "      <td>Arriaca Trigo (lata)</td>\n",
       "      <td>(cervezas artesanas Cervezas Arriaca)</td>\n",
       "      <td>NaN</td>\n",
       "      <td>{'Estilo de cerveza': ' Weizen - Weissbier', '...</td>\n",
       "      <td>\\nUna cerveza de trigo muy afrutada y ligera. ...</td>\n",
       "      <td>https://static2.soloartesanas.es/3449-large_de...</td>\n",
       "    </tr>\n",
       "  </tbody>\n",
       "</table>\n",
       "</div>"
      ],
      "text/plain": [
       "   Unnamed: 0  id  color                                               name  \\\n",
       "0           0   1  rubia  Arriaca Radler, cerveza artesana con limón (lata)   \n",
       "1           1   2  rubia               Alegría & Boris Brew Ipanosuarus Rex   \n",
       "2           2   3  rubia                                 Roy The Bull Mango   \n",
       "3           3   4  rubia                                          Marijuana   \n",
       "4           4   5  rubia                               Arriaca Trigo (lata)   \n",
       "\n",
       "                                   brand rate_beer  \\\n",
       "0  (cervezas artesanas Cervezas Arriaca)       NaN   \n",
       "1  (cervezas artesanas Cervezas Alegría)       NaN   \n",
       "2      (cervezas artesanas Roy The Bull)       NaN   \n",
       "3         (cervezas artesanas Marijuana)       NaN   \n",
       "4  (cervezas artesanas Cervezas Arriaca)       NaN   \n",
       "\n",
       "                                            features  \\\n",
       "0  {'Estilo de cerveza': ' Blonde Ale', 'Graduaci...   \n",
       "1  {'Estilo de cerveza': ' Imperial / Double IPA'...   \n",
       "2  {'Estilo de cerveza': ' Fruit Beer', 'Graduaci...   \n",
       "3  {'Estilo de cerveza': ' Pale Ale', 'Graduación...   \n",
       "4  {'Estilo de cerveza': ' Weizen - Weissbier', '...   \n",
       "\n",
       "                                         description  \\\n",
       "0  \\nLa primera cerveza Radler artesana creada en...   \n",
       "1  \\nUna doble IPA rubia, potente y seca. Elabora...   \n",
       "2  \\nAquí está la primera cerveza de Roy The Bull...   \n",
       "3  \\nLa única cerveza cerveza artesana que podrás...   \n",
       "4  \\nUna cerveza de trigo muy afrutada y ligera. ...   \n",
       "\n",
       "                                               image  \n",
       "0  https://static2.soloartesanas.es/3437-large_de...  \n",
       "1  https://static3.soloartesanas.es/3333-large_de...  \n",
       "2  https://static3.soloartesanas.es/3332-large_de...  \n",
       "3  https://static1.soloartesanas.es/3223-large_de...  \n",
       "4  https://static2.soloartesanas.es/3449-large_de...  "
      ]
     },
     "execution_count": 3,
     "metadata": {},
     "output_type": "execute_result"
    }
   ],
   "source": [
    "df_soloartesanas=pd.read_csv(\"data/df_soloartesanas.csv\", sep=\";\")\n",
    "df_soloartesanas.head()"
   ]
  },
  {
   "cell_type": "code",
   "execution_count": 4,
   "metadata": {},
   "outputs": [
    {
     "name": "stdout",
     "output_type": "stream",
     "text": [
      "<class 'pandas.core.frame.DataFrame'>\n",
      "RangeIndex: 435 entries, 0 to 434\n",
      "Data columns (total 9 columns):\n",
      " #   Column       Non-Null Count  Dtype \n",
      "---  ------       --------------  ----- \n",
      " 0   Unnamed: 0   435 non-null    int64 \n",
      " 1   id           435 non-null    int64 \n",
      " 2   color        435 non-null    object\n",
      " 3   name         435 non-null    object\n",
      " 4   brand        435 non-null    object\n",
      " 5   rate_beer    157 non-null    object\n",
      " 6   features     435 non-null    object\n",
      " 7   description  433 non-null    object\n",
      " 8   image        435 non-null    object\n",
      "dtypes: int64(2), object(7)\n",
      "memory usage: 30.7+ KB\n"
     ]
    }
   ],
   "source": [
    "df_soloartesanas.info()"
   ]
  },
  {
   "cell_type": "markdown",
   "metadata": {},
   "source": [
    "## Limpieza inicial del fichero\n",
    "Revisión inicial del dataframe para eliminar columnas inncecesarias, agrupar información, unificar tipos y contenidos, etc. de modo que se pueda realizar después un análisis de la información.\n",
    "\n",
    "Para empezar, gran parte de la información está recogida en el campo \"features\" que tiene estructura de diccionario y al que habrá que extraer la información separándola en columnas."
   ]
  },
  {
   "cell_type": "code",
   "execution_count": 5,
   "metadata": {},
   "outputs": [
    {
     "data": {
      "text/plain": [
       "\"{'Estilo de cerveza': ' Stout', 'Graduación alcohólica': ' 4,2% Alc./Vol.', 'Amargor (según la Unidad Internacional de Amargor)': ' 40 IBUs', 'Color': 'Negra', 'Grano': 'Avena', 'Fermentación': 'Ale', 'European Brewing Convention (EBC)': '110', 'Maltas': 'Maris Otter Floor Malt, Chocolate, Roasted Barley, Crystal y Avena', 'Lúpulos': 'Cascade', 'Población': 'Liérganes', 'Provincia': 'Cantabria', 'Comunidad Autónoma': 'Cantabria', 'País': 'España'}\""
      ]
     },
     "execution_count": 5,
     "metadata": {},
     "output_type": "execute_result"
    }
   ],
   "source": [
    "# Veo cómo es el campo \"features\" con un ejemplo\n",
    "df_soloartesanas.iloc[355, :]['features']"
   ]
  },
  {
   "cell_type": "code",
   "execution_count": 6,
   "metadata": {},
   "outputs": [
    {
     "data": {
      "text/plain": [
       "array([\"{'Estilo de cerveza': ' Amber Ale', 'Graduación alcohólica': ' 5.3% Alc./Vol.', 'Amargor (según la Unidad Internacional de Amargor)': ' 30 IBUs', 'Color': 'Tostada', 'Grano': 'Cebada', 'Fermentación': 'Ale', 'European Brewing Convention (EBC)': '40', 'Maltas': 'Pale Ale, Crystal, Victoria y CaraAroma', 'Lúpulos': 'Kent Golding y Fuggles', 'Población': 'Oviedo', 'Provincia': 'Asturias', 'Comunidad Autónoma': 'Asturias', 'País': 'España', 'Temperatura de consumo': '10-13ºC', 'Vaso recomendado': 'Vaso ancho'}\"],\n",
       "      dtype=object)"
      ]
     },
     "execution_count": 6,
     "metadata": {},
     "output_type": "execute_result"
    }
   ],
   "source": [
    "# para ver las características del registro más largo\n",
    "\n",
    "df_soloartesanas[\"num_caract\"]= df_soloartesanas['features'].apply(len)\n",
    "\n",
    "features_mas_largo=df_soloartesanas[df_soloartesanas[\"num_caract\"]==df_soloartesanas[\"num_caract\"].max()]['features']\n",
    "df_soloartesanas.drop(columns=\"num_caract\",inplace=True)\n",
    "\n",
    "features_mas_largo.values"
   ]
  },
  {
   "cell_type": "code",
   "execution_count": 7,
   "metadata": {},
   "outputs": [
    {
     "data": {
      "text/plain": [
       "0      {'Estilo de cerveza': ' Blonde Ale', 'Graduaci...\n",
       "1      {'Estilo de cerveza': ' Imperial / Double IPA'...\n",
       "2      {'Estilo de cerveza': ' Fruit Beer', 'Graduaci...\n",
       "3      {'Estilo de cerveza': ' Pale Ale', 'Graduación...\n",
       "4      {'Estilo de cerveza': ' Weizen - Weissbier', '...\n",
       "                             ...                        \n",
       "430    {'Estilo de cerveza': ' English Pale Ale', 'Gr...\n",
       "431    {'Estilo de cerveza': ' Red Ale', 'Graduación ...\n",
       "432    {'Estilo de cerveza': ' Irish Red Ale', 'Gradu...\n",
       "433    {'Estilo de cerveza': ' Red Ale', 'Graduación ...\n",
       "434    {'Estilo de cerveza': ' Red Ale', 'Graduación ...\n",
       "Name: features, Length: 435, dtype: object"
      ]
     },
     "execution_count": 7,
     "metadata": {},
     "output_type": "execute_result"
    }
   ],
   "source": [
    "# Hay que transformar la columna de features, que es un diccionario, en varias columnas \n",
    "df_soloartesanas['features']"
   ]
  },
  {
   "cell_type": "code",
   "execution_count": 8,
   "metadata": {},
   "outputs": [
    {
     "name": "stderr",
     "output_type": "stream",
     "text": [
      "<ipython-input-8-f3f490e69a13>:4: YAMLLoadWarning: calling yaml.load() without Loader=... is deprecated, as the default Loader is unsafe. Please read https://msg.pyyaml.org/load for full details.\n",
      "  df_soloartesanas['features'] = df_soloartesanas.features.map(lambda x: yaml.load(x))\n"
     ]
    }
   ],
   "source": [
    "# aplicar yaml a columna features y convertirla en diccionario aplicando map\n",
    "# Para un registro sería: mi_dict2 = yaml.load(df_soloartesanas.features[0])\n",
    "\n",
    "df_soloartesanas['features'] = df_soloartesanas.features.map(lambda x: yaml.load(x))"
   ]
  },
  {
   "cell_type": "code",
   "execution_count": 9,
   "metadata": {},
   "outputs": [
    {
     "data": {
      "text/plain": [
       "0      {'Estilo de cerveza': ' Blonde Ale', 'Graduaci...\n",
       "1      {'Estilo de cerveza': ' Imperial / Double IPA'...\n",
       "2      {'Estilo de cerveza': ' Fruit Beer', 'Graduaci...\n",
       "3      {'Estilo de cerveza': ' Pale Ale', 'Graduación...\n",
       "4      {'Estilo de cerveza': ' Weizen - Weissbier', '...\n",
       "                             ...                        \n",
       "430    {'Estilo de cerveza': ' English Pale Ale', 'Gr...\n",
       "431    {'Estilo de cerveza': ' Red Ale', 'Graduación ...\n",
       "432    {'Estilo de cerveza': ' Irish Red Ale', 'Gradu...\n",
       "433    {'Estilo de cerveza': ' Red Ale', 'Graduación ...\n",
       "434    {'Estilo de cerveza': ' Red Ale', 'Graduación ...\n",
       "Name: features, Length: 435, dtype: object"
      ]
     },
     "execution_count": 9,
     "metadata": {},
     "output_type": "execute_result"
    }
   ],
   "source": [
    "df_soloartesanas['features']"
   ]
  },
  {
   "cell_type": "code",
   "execution_count": 10,
   "metadata": {},
   "outputs": [
    {
     "name": "stdout",
     "output_type": "stream",
     "text": [
      "Unnamed: 0                                                   355\n",
      "id                                                           356\n",
      "color                                                      negra\n",
      "name                                     Dougall's Session Stout\n",
      "brand                             (cervezas artesanas Dougall's)\n",
      "rate_beer                                               92 / 100\n",
      "features       {'Estilo de cerveza': ' Stout', 'Graduación al...\n",
      "description    \\nDougalls Session Stout es una excelente cerv...\n",
      "image          https://static3.soloartesanas.es/2095-large_de...\n",
      "Name: 355, dtype: object\n"
     ]
    }
   ],
   "source": [
    "# veo un ejemplo\n",
    "print(df_soloartesanas.iloc[355, :])"
   ]
  },
  {
   "cell_type": "code",
   "execution_count": 11,
   "metadata": {},
   "outputs": [],
   "source": [
    "# Separo en columnas cada clave/valor del dicc de features\n",
    "\n",
    "df_soloartesanas = pd.concat([df_soloartesanas.drop(['features'], axis=1), df_soloartesanas['features'].apply(pd.Series)], axis=1)"
   ]
  },
  {
   "cell_type": "code",
   "execution_count": 12,
   "metadata": {},
   "outputs": [
    {
     "data": {
      "text/html": [
       "<div>\n",
       "<style scoped>\n",
       "    .dataframe tbody tr th:only-of-type {\n",
       "        vertical-align: middle;\n",
       "    }\n",
       "\n",
       "    .dataframe tbody tr th {\n",
       "        vertical-align: top;\n",
       "    }\n",
       "\n",
       "    .dataframe thead th {\n",
       "        text-align: right;\n",
       "    }\n",
       "</style>\n",
       "<table border=\"1\" class=\"dataframe\">\n",
       "  <thead>\n",
       "    <tr style=\"text-align: right;\">\n",
       "      <th></th>\n",
       "      <th>Unnamed: 0</th>\n",
       "      <th>id</th>\n",
       "      <th>color</th>\n",
       "      <th>name</th>\n",
       "      <th>brand</th>\n",
       "      <th>rate_beer</th>\n",
       "      <th>description</th>\n",
       "      <th>image</th>\n",
       "      <th>Estilo de cerveza</th>\n",
       "      <th>Graduación alcohólica</th>\n",
       "      <th>...</th>\n",
       "      <th>Comunidad Autónoma</th>\n",
       "      <th>Lúpulos</th>\n",
       "      <th>European Brewing Convention (EBC)</th>\n",
       "      <th>Maltas</th>\n",
       "      <th>Temperatura de consumo</th>\n",
       "      <th>Vaso recomendado</th>\n",
       "      <th>Grano</th>\n",
       "      <th>Sin gluten</th>\n",
       "      <th>Ecológica</th>\n",
       "      <th>País</th>\n",
       "    </tr>\n",
       "  </thead>\n",
       "  <tbody>\n",
       "    <tr>\n",
       "      <th>0</th>\n",
       "      <td>0</td>\n",
       "      <td>1</td>\n",
       "      <td>rubia</td>\n",
       "      <td>Arriaca Radler, cerveza artesana con limón (lata)</td>\n",
       "      <td>(cervezas artesanas Cervezas Arriaca)</td>\n",
       "      <td>NaN</td>\n",
       "      <td>\\nLa primera cerveza Radler artesana creada en...</td>\n",
       "      <td>https://static2.soloartesanas.es/3437-large_de...</td>\n",
       "      <td>Blonde Ale</td>\n",
       "      <td>2,7% Alc./Vol.</td>\n",
       "      <td>...</td>\n",
       "      <td>NaN</td>\n",
       "      <td>NaN</td>\n",
       "      <td>NaN</td>\n",
       "      <td>NaN</td>\n",
       "      <td>NaN</td>\n",
       "      <td>NaN</td>\n",
       "      <td>NaN</td>\n",
       "      <td>NaN</td>\n",
       "      <td>NaN</td>\n",
       "      <td>NaN</td>\n",
       "    </tr>\n",
       "    <tr>\n",
       "      <th>1</th>\n",
       "      <td>1</td>\n",
       "      <td>2</td>\n",
       "      <td>rubia</td>\n",
       "      <td>Alegría &amp; Boris Brew Ipanosuarus Rex</td>\n",
       "      <td>(cervezas artesanas Cervezas Alegría)</td>\n",
       "      <td>NaN</td>\n",
       "      <td>\\nUna doble IPA rubia, potente y seca. Elabora...</td>\n",
       "      <td>https://static3.soloartesanas.es/3333-large_de...</td>\n",
       "      <td>Imperial / Double IPA</td>\n",
       "      <td>8,2% Alc./Vol.</td>\n",
       "      <td>...</td>\n",
       "      <td>Valencia</td>\n",
       "      <td>NaN</td>\n",
       "      <td>NaN</td>\n",
       "      <td>NaN</td>\n",
       "      <td>NaN</td>\n",
       "      <td>NaN</td>\n",
       "      <td>NaN</td>\n",
       "      <td>NaN</td>\n",
       "      <td>NaN</td>\n",
       "      <td>NaN</td>\n",
       "    </tr>\n",
       "  </tbody>\n",
       "</table>\n",
       "<p>2 rows × 25 columns</p>\n",
       "</div>"
      ],
      "text/plain": [
       "   Unnamed: 0  id  color                                               name  \\\n",
       "0           0   1  rubia  Arriaca Radler, cerveza artesana con limón (lata)   \n",
       "1           1   2  rubia               Alegría & Boris Brew Ipanosuarus Rex   \n",
       "\n",
       "                                   brand rate_beer  \\\n",
       "0  (cervezas artesanas Cervezas Arriaca)       NaN   \n",
       "1  (cervezas artesanas Cervezas Alegría)       NaN   \n",
       "\n",
       "                                         description  \\\n",
       "0  \\nLa primera cerveza Radler artesana creada en...   \n",
       "1  \\nUna doble IPA rubia, potente y seca. Elabora...   \n",
       "\n",
       "                                               image       Estilo de cerveza  \\\n",
       "0  https://static2.soloartesanas.es/3437-large_de...              Blonde Ale   \n",
       "1  https://static3.soloartesanas.es/3333-large_de...   Imperial / Double IPA   \n",
       "\n",
       "  Graduación alcohólica  ... Comunidad Autónoma Lúpulos  \\\n",
       "0        2,7% Alc./Vol.  ...                NaN     NaN   \n",
       "1        8,2% Alc./Vol.  ...           Valencia     NaN   \n",
       "\n",
       "  European Brewing Convention (EBC) Maltas Temperatura de consumo  \\\n",
       "0                               NaN    NaN                    NaN   \n",
       "1                               NaN    NaN                    NaN   \n",
       "\n",
       "  Vaso recomendado Grano Sin gluten Ecológica País  \n",
       "0              NaN   NaN        NaN       NaN  NaN  \n",
       "1              NaN   NaN        NaN       NaN  NaN  \n",
       "\n",
       "[2 rows x 25 columns]"
      ]
     },
     "execution_count": 12,
     "metadata": {},
     "output_type": "execute_result"
    }
   ],
   "source": [
    "df_soloartesanas.head(2)"
   ]
  },
  {
   "cell_type": "code",
   "execution_count": 13,
   "metadata": {},
   "outputs": [
    {
     "name": "stdout",
     "output_type": "stream",
     "text": [
      "<class 'pandas.core.frame.DataFrame'>\n",
      "RangeIndex: 435 entries, 0 to 434\n",
      "Data columns (total 25 columns):\n",
      " #   Column                                              Non-Null Count  Dtype \n",
      "---  ------                                              --------------  ----- \n",
      " 0   Unnamed: 0                                          435 non-null    int64 \n",
      " 1   id                                                  435 non-null    int64 \n",
      " 2   color                                               435 non-null    object\n",
      " 3   name                                                435 non-null    object\n",
      " 4   brand                                               435 non-null    object\n",
      " 5   rate_beer                                           157 non-null    object\n",
      " 6   description                                         433 non-null    object\n",
      " 7   image                                               435 non-null    object\n",
      " 8   Estilo de cerveza                                   419 non-null    object\n",
      " 9   Graduación alcohólica                               415 non-null    object\n",
      " 10  Color                                               418 non-null    object\n",
      " 11  Fermentación                                        399 non-null    object\n",
      " 12  Amargor (según la Unidad Internacional de Amargor)  275 non-null    object\n",
      " 13  Población                                           409 non-null    object\n",
      " 14  Provincia                                           426 non-null    object\n",
      " 15  Comunidad Autónoma                                  424 non-null    object\n",
      " 16  Lúpulos                                             99 non-null     object\n",
      " 17  European Brewing Convention (EBC)                   101 non-null    object\n",
      " 18  Maltas                                              87 non-null     object\n",
      " 19  Temperatura de consumo                              137 non-null    object\n",
      " 20  Vaso recomendado                                    52 non-null     object\n",
      " 21  Grano                                               310 non-null    object\n",
      " 22  Sin gluten                                          2 non-null      object\n",
      " 23  Ecológica                                           3 non-null      object\n",
      " 24  País                                                45 non-null     object\n",
      "dtypes: int64(2), object(23)\n",
      "memory usage: 85.1+ KB\n"
     ]
    }
   ],
   "source": [
    "# Compruebo las nuevas columnas de features, tus tipos y misings\n",
    "df_soloartesanas.info()"
   ]
  },
  {
   "cell_type": "markdown",
   "metadata": {},
   "source": [
    "Algunas de estas nuevas columnas las podré borrar si no aportan información porque falten muchos valores. En otras ocasiones, en las que se puedan deducir los datos o sean relativamente pocos como para poder imputar valores medios o modas, se podrán dejar esas características."
   ]
  },
  {
   "cell_type": "code",
   "execution_count": 14,
   "metadata": {},
   "outputs": [
    {
     "name": "stdout",
     "output_type": "stream",
     "text": [
      " \n"
     ]
    }
   ],
   "source": [
    "'''\n",
    "RangeIndex: 435 entries, 0 to 434\n",
    "Data columns (total 25 columns):\n",
    " #   Column                                              Non-Null Count  Dtype \n",
    "---  ------                                              --------------  ----- \n",
    " 0   Unnamed: 0                                          435 non-null    int64 -- Borrar\n",
    " 1   id                                                  435 non-null    int64 \n",
    " 2   color                                               435 non-null    object\n",
    " 3   name                                                435 non-null    object\n",
    " 4   brand                                               435 non-null    object\n",
    " 5   rate_beer                                           157 non-null    object -- Borrar\n",
    " 6   description                                         433 non-null    object -- completar\n",
    " 7   image                                               435 non-null    object\n",
    " 8   Estilo de cerveza                                   419 non-null    object\n",
    " 9   Graduación alcohólica                               415 non-null    object\n",
    " 10  Color                                               418 non-null    object -- Borrar (duplicada)\n",
    " 11  Fermentación                                        399 non-null    object\n",
    " 12  Amargor (según la Unidad Internacional de Amargor)  275 non-null    object\n",
    " 13  Población                                           409 non-null    object -- completar\n",
    " 14  Provincia                                           426 non-null    object -- completar\n",
    " 15  Comunidad Autónoma                                  424 non-null    object -- completar\n",
    " 16  Lúpulos                                             99 non-null     object\n",
    " 17  European Brewing Convention (EBC)                   101 non-null    object\n",
    " 18  Maltas                                              87 non-null     object\n",
    " 19  Temperatura de consumo                              137 non-null    object\n",
    " 20  Vaso recomendado                                    52 non-null     object -- Borrar/añadir a descr\n",
    " 21  Grano                                               310 non-null    object -- Analizar antes de decidir\n",
    " 22  Sin gluten                                          2 non-null      object -- Borrar\n",
    " 23  Ecológica                                           3 non-null      object -- Borrar\n",
    " 24  País                                                45 non-null     object -- completar\n",
    "dtypes: int64(2), object(23)\n",
    "\n",
    "'''\n",
    "print(\" \")"
   ]
  },
  {
   "cell_type": "code",
   "execution_count": 15,
   "metadata": {},
   "outputs": [],
   "source": [
    "# borro las columnas que no aportan valor por estar repetidas o tener muy pocos datos: \n",
    "# \"Unnamed: 0\",\"Vaso recomendado\",\"Sin gluten\",\"Ecológica\" y \"Color\"\n",
    "\n",
    "df_soloartesanas.drop(columns=[\"Unnamed: 0\",\"rate_beer\",\"Color\",\"Vaso recomendado\",\"Sin gluten\",\"Ecológica\"], inplace=True)"
   ]
  },
  {
   "cell_type": "code",
   "execution_count": 16,
   "metadata": {},
   "outputs": [
    {
     "name": "stdout",
     "output_type": "stream",
     "text": [
      "<class 'pandas.core.frame.DataFrame'>\n",
      "RangeIndex: 435 entries, 0 to 434\n",
      "Data columns (total 19 columns):\n",
      " #   Column                                              Non-Null Count  Dtype \n",
      "---  ------                                              --------------  ----- \n",
      " 0   id                                                  435 non-null    int64 \n",
      " 1   color                                               435 non-null    object\n",
      " 2   name                                                435 non-null    object\n",
      " 3   brand                                               435 non-null    object\n",
      " 4   description                                         433 non-null    object\n",
      " 5   image                                               435 non-null    object\n",
      " 6   Estilo de cerveza                                   419 non-null    object\n",
      " 7   Graduación alcohólica                               415 non-null    object\n",
      " 8   Fermentación                                        399 non-null    object\n",
      " 9   Amargor (según la Unidad Internacional de Amargor)  275 non-null    object\n",
      " 10  Población                                           409 non-null    object\n",
      " 11  Provincia                                           426 non-null    object\n",
      " 12  Comunidad Autónoma                                  424 non-null    object\n",
      " 13  Lúpulos                                             99 non-null     object\n",
      " 14  European Brewing Convention (EBC)                   101 non-null    object\n",
      " 15  Maltas                                              87 non-null     object\n",
      " 16  Temperatura de consumo                              137 non-null    object\n",
      " 17  Grano                                               310 non-null    object\n",
      " 18  País                                                45 non-null     object\n",
      "dtypes: int64(1), object(18)\n",
      "memory usage: 64.7+ KB\n"
     ]
    }
   ],
   "source": [
    "df_soloartesanas.info()"
   ]
  },
  {
   "cell_type": "code",
   "execution_count": 17,
   "metadata": {},
   "outputs": [
    {
     "data": {
      "text/html": [
       "<div>\n",
       "<style scoped>\n",
       "    .dataframe tbody tr th:only-of-type {\n",
       "        vertical-align: middle;\n",
       "    }\n",
       "\n",
       "    .dataframe tbody tr th {\n",
       "        vertical-align: top;\n",
       "    }\n",
       "\n",
       "    .dataframe thead th {\n",
       "        text-align: right;\n",
       "    }\n",
       "</style>\n",
       "<table border=\"1\" class=\"dataframe\">\n",
       "  <thead>\n",
       "    <tr style=\"text-align: right;\">\n",
       "      <th></th>\n",
       "      <th>id</th>\n",
       "      <th>color</th>\n",
       "      <th>name</th>\n",
       "      <th>brand</th>\n",
       "      <th>description</th>\n",
       "      <th>image</th>\n",
       "      <th>Estilo de cerveza</th>\n",
       "      <th>Graduación alcohólica</th>\n",
       "      <th>Fermentación</th>\n",
       "      <th>Amargor (según la Unidad Internacional de Amargor)</th>\n",
       "      <th>Población</th>\n",
       "      <th>Provincia</th>\n",
       "      <th>Comunidad Autónoma</th>\n",
       "      <th>Lúpulos</th>\n",
       "      <th>European Brewing Convention (EBC)</th>\n",
       "      <th>Maltas</th>\n",
       "      <th>Temperatura de consumo</th>\n",
       "      <th>Grano</th>\n",
       "      <th>País</th>\n",
       "    </tr>\n",
       "  </thead>\n",
       "  <tbody>\n",
       "    <tr>\n",
       "      <th>171</th>\n",
       "      <td>172</td>\n",
       "      <td>rubia</td>\n",
       "      <td>Catalina</td>\n",
       "      <td>(cervezas artesanas Torquemada)</td>\n",
       "      <td>NaN</td>\n",
       "      <td>https://static2.soloartesanas.es/886-large_def...</td>\n",
       "      <td>Pilsner</td>\n",
       "      <td>4,8% Alc./Vol.</td>\n",
       "      <td>Ale</td>\n",
       "      <td>NaN</td>\n",
       "      <td>Torquemada</td>\n",
       "      <td>Palencia</td>\n",
       "      <td>Castilla y León</td>\n",
       "      <td>NaN</td>\n",
       "      <td>NaN</td>\n",
       "      <td>NaN</td>\n",
       "      <td>2-4ºC</td>\n",
       "      <td>Cebada</td>\n",
       "      <td>NaN</td>\n",
       "    </tr>\n",
       "    <tr>\n",
       "      <th>223</th>\n",
       "      <td>224</td>\n",
       "      <td>rubia</td>\n",
       "      <td>Illusió</td>\n",
       "      <td>(cervezas artesanas Ginesart)</td>\n",
       "      <td>NaN</td>\n",
       "      <td>https://static2.soloartesanas.es/2664-large_de...</td>\n",
       "      <td>Iber Ale</td>\n",
       "      <td>5,0% Alc./Vol.</td>\n",
       "      <td>Ale</td>\n",
       "      <td>NaN</td>\n",
       "      <td>Ginesart</td>\n",
       "      <td>Tarragona</td>\n",
       "      <td>Cataluña</td>\n",
       "      <td>Cascade y Saaz. Salvo</td>\n",
       "      <td>NaN</td>\n",
       "      <td>Pale ale, Pilsen y de trigo</td>\n",
       "      <td>8-12 ºC</td>\n",
       "      <td>Trigo</td>\n",
       "      <td>NaN</td>\n",
       "    </tr>\n",
       "  </tbody>\n",
       "</table>\n",
       "</div>"
      ],
      "text/plain": [
       "      id  color      name                            brand description  \\\n",
       "171  172  rubia  Catalina  (cervezas artesanas Torquemada)         NaN   \n",
       "223  224  rubia   Illusió    (cervezas artesanas Ginesart)         NaN   \n",
       "\n",
       "                                                 image Estilo de cerveza  \\\n",
       "171  https://static2.soloartesanas.es/886-large_def...           Pilsner   \n",
       "223  https://static2.soloartesanas.es/2664-large_de...          Iber Ale   \n",
       "\n",
       "    Graduación alcohólica Fermentación  \\\n",
       "171        4,8% Alc./Vol.          Ale   \n",
       "223        5,0% Alc./Vol.          Ale   \n",
       "\n",
       "    Amargor (según la Unidad Internacional de Amargor)   Población  Provincia  \\\n",
       "171                                                NaN  Torquemada   Palencia   \n",
       "223                                                NaN    Ginesart  Tarragona   \n",
       "\n",
       "    Comunidad Autónoma                Lúpulos  \\\n",
       "171    Castilla y León                    NaN   \n",
       "223           Cataluña  Cascade y Saaz. Salvo   \n",
       "\n",
       "    European Brewing Convention (EBC)                       Maltas  \\\n",
       "171                               NaN                          NaN   \n",
       "223                               NaN  Pale ale, Pilsen y de trigo   \n",
       "\n",
       "    Temperatura de consumo   Grano País  \n",
       "171                  2-4ºC  Cebada  NaN  \n",
       "223                8-12 ºC   Trigo  NaN  "
      ]
     },
     "execution_count": 17,
     "metadata": {},
     "output_type": "execute_result"
    }
   ],
   "source": [
    "# veo qué cervezas están sin descripción\n",
    "df_soloartesanas[df_soloartesanas[\"description\"].isna()]"
   ]
  },
  {
   "cell_type": "code",
   "execution_count": 18,
   "metadata": {},
   "outputs": [],
   "source": [
    "# Añado una descripción de las cervezas que faltan y que encuentro en otras webs\n",
    "df_soloartesanas.loc[171,\"description\"]=\"Se trata de una cerveza rubia tipo Pils, ligera y refrescante a base de malta Pilsner y lúpulos alemanes y checos. Catalina debe su nombre al nacimiento, el 14 de enero de 1507, de la Infanta Catalina de Austria (reina de Portugal) en la localidad Torquemada. Hija de Juana de Castilla y Felipe de Habsburgo. La cerveza Catalina es una cerveza rubia brillante, ligeramente amarga, con olores a cereal y una espuma equilibrada. El contenido alcohólico es de 4,8% Vol. lo que hace que esta cerveza sea la más ligera de toda la gama. Temperatura de consumo recomendada: 2º-4º\"\n",
    "df_soloartesanas.loc[223,\"description\"]=\"Estilo cervecero: Iber Ale. Cerveza rubia de alta fermentación adaptada al estilo de nuestro país. Nota de cata: Toda la intensidad del lúpulo en combinación con la malta, para hacer pasar la sed. Ingredientes: Malta Pale ale, Pilsen y de trigo. de los lúpulos: Cascade y Saaz. Levadura. Temperatura de consumo: entre 8 y 12 º C Graduación alcohólica: 5% Alc. Vol.\""
   ]
  },
  {
   "cell_type": "code",
   "execution_count": 19,
   "metadata": {},
   "outputs": [
    {
     "data": {
      "text/plain": [
       "'Estilo cervecero: Iber Ale. Cerveza rubia de alta fermentación adaptada al estilo de nuestro país. Nota de cata: Toda la intensidad del lúpulo en combinación con la malta, para hacer pasar la sed. Ingredientes: Malta Pale ale, Pilsen y de trigo. de los lúpulos: Cascade y Saaz. Levadura. Temperatura de consumo: entre 8 y 12 º C Graduación alcohólica: 5% Alc. Vol.'"
      ]
     },
     "execution_count": 19,
     "metadata": {},
     "output_type": "execute_result"
    }
   ],
   "source": [
    "df_soloartesanas.iloc[223][\"description\"]"
   ]
  },
  {
   "cell_type": "markdown",
   "metadata": {},
   "source": [
    "## Unificación la información sobre el origen de fabricación\n",
    "Por la propia página web sabemos que todas las cervezas son de origen español, pero revisamos los datos para ver si falta información y si hay uniformidad en la nomenclaruta."
   ]
  },
  {
   "cell_type": "code",
   "execution_count": 20,
   "metadata": {},
   "outputs": [
    {
     "name": "stdout",
     "output_type": "stream",
     "text": [
      "Sin país:  390\n"
     ]
    },
    {
     "data": {
      "text/plain": [
       "País\n",
       "ESpaña     1\n",
       "España    44\n",
       "Name: id, dtype: int64"
      ]
     },
     "execution_count": 20,
     "metadata": {},
     "output_type": "execute_result"
    }
   ],
   "source": [
    "# compruebo que efectivamente solo hay cervezas españolas\n",
    "print(\"Sin país: \", df_soloartesanas[\"País\"].isna().sum())\n",
    "df_soloartesanas.groupby(\"País\")[\"id\"].nunique()"
   ]
  },
  {
   "cell_type": "markdown",
   "metadata": {},
   "source": [
    "Hay demasiadas cervezas sin identifiador de país. Puedo forzar la columna y poner en todas \"España\", pero antes voy a comprobar los otros campos sobre población, provincia y comunidad autónoma, para asegurarme de que no hay cervezas de otros.\n",
    "\n",
    "Del total de 435 tenemos datos sobre:\n",
    "- Población:                                           409 \n",
    "- Provincia:                                           426 \n",
    "- Comunidad Autónoma:                                 424 \n",
    "\n"
   ]
  },
  {
   "cell_type": "code",
   "execution_count": 21,
   "metadata": {},
   "outputs": [
    {
     "data": {
      "text/plain": [
       "array([nan, 'Valencia', 'Pontevedra', 'Ávila', 'Guadalajara', 'Barcelona',\n",
       "       'Segovia', 'Alicante', 'Burgos', 'La Rioja', 'Vizcaya', 'Madrid',\n",
       "       'Córdoba', 'Málaga', 'Teruel', 'Valladolid', 'Badajoz',\n",
       "       'Castellón', 'Cuenca', 'Tarragona', 'Girona', 'Álava', 'Albacete',\n",
       "       'Soria', 'Lugo', 'Navarra', 'León', 'Palencia', 'Murcia', 'Huelva',\n",
       "       'Asturias', 'Toledo', 'Cantabria', 'Sevilla', 'Ciudad Real',\n",
       "       'Orense', 'La Coruña', 'Huesca', 'Lérida', 'Cádiz', 'Granada',\n",
       "       'Guipúzcoa', 'Zaragoza', 'Zamora', 'Salamanca', 'Cáceres'],\n",
       "      dtype=object)"
      ]
     },
     "execution_count": 21,
     "metadata": {},
     "output_type": "execute_result"
    }
   ],
   "source": [
    "# Compruebo las provincias que aparecen\n",
    "df_soloartesanas[\"Provincia\"].unique()"
   ]
  },
  {
   "cell_type": "code",
   "execution_count": 22,
   "metadata": {},
   "outputs": [
    {
     "data": {
      "text/plain": [
       "array([nan, 'Valencia', 'Galicia', 'Castilla y León',\n",
       "       'Castilla-La Mancha', 'Cataluña', 'La Rioja', 'País Vasco',\n",
       "       'Madrid', 'Andalucía', 'Aragón', 'Extremadura', 'Navarra',\n",
       "       'Murcia', 'Asturias', 'Canarias', 'Cantabria'], dtype=object)"
      ]
     },
     "execution_count": 22,
     "metadata": {},
     "output_type": "execute_result"
    }
   ],
   "source": [
    "# Estas son las CC.AA que aparecen\n",
    "df_soloartesanas[\"Comunidad Autónoma\"].unique()"
   ]
  },
  {
   "cell_type": "code",
   "execution_count": 23,
   "metadata": {},
   "outputs": [
    {
     "data": {
      "text/html": [
       "<div>\n",
       "<style scoped>\n",
       "    .dataframe tbody tr th:only-of-type {\n",
       "        vertical-align: middle;\n",
       "    }\n",
       "\n",
       "    .dataframe tbody tr th {\n",
       "        vertical-align: top;\n",
       "    }\n",
       "\n",
       "    .dataframe thead th {\n",
       "        text-align: right;\n",
       "    }\n",
       "</style>\n",
       "<table border=\"1\" class=\"dataframe\">\n",
       "  <thead>\n",
       "    <tr style=\"text-align: right;\">\n",
       "      <th></th>\n",
       "      <th>id</th>\n",
       "      <th>color</th>\n",
       "      <th>name</th>\n",
       "      <th>brand</th>\n",
       "      <th>description</th>\n",
       "      <th>image</th>\n",
       "      <th>Estilo de cerveza</th>\n",
       "      <th>Graduación alcohólica</th>\n",
       "      <th>Fermentación</th>\n",
       "      <th>Amargor (según la Unidad Internacional de Amargor)</th>\n",
       "      <th>Población</th>\n",
       "      <th>Provincia</th>\n",
       "      <th>Comunidad Autónoma</th>\n",
       "      <th>Lúpulos</th>\n",
       "      <th>European Brewing Convention (EBC)</th>\n",
       "      <th>Maltas</th>\n",
       "      <th>Temperatura de consumo</th>\n",
       "      <th>Grano</th>\n",
       "      <th>País</th>\n",
       "    </tr>\n",
       "  </thead>\n",
       "  <tbody>\n",
       "    <tr>\n",
       "      <th>95</th>\n",
       "      <td>96</td>\n",
       "      <td>rubia</td>\n",
       "      <td>Smach Pale Ale</td>\n",
       "      <td>(cervezas artesanas Smach)</td>\n",
       "      <td>\\nSi lo que quieres es disfrutar de una cervez...</td>\n",
       "      <td>https://static1.soloartesanas.es/1722-large_de...</td>\n",
       "      <td>Pale Ale</td>\n",
       "      <td>5,0% Alc./Vol.</td>\n",
       "      <td>Ale</td>\n",
       "      <td>25 IBUs</td>\n",
       "      <td>Camargo</td>\n",
       "      <td>Cantabria</td>\n",
       "      <td>Canarias</td>\n",
       "      <td>NaN</td>\n",
       "      <td>NaN</td>\n",
       "      <td>NaN</td>\n",
       "      <td>NaN</td>\n",
       "      <td>Cebada</td>\n",
       "      <td>España</td>\n",
       "    </tr>\n",
       "    <tr>\n",
       "      <th>97</th>\n",
       "      <td>98</td>\n",
       "      <td>rubia</td>\n",
       "      <td>Dougall's Happy Otter</td>\n",
       "      <td>(cervezas artesanas Dougall's)</td>\n",
       "      <td>\\nCerveza de temporada de Dougalls. Una Pale A...</td>\n",
       "      <td>https://static3.soloartesanas.es/1719-large_de...</td>\n",
       "      <td>Pale Ale</td>\n",
       "      <td>NaN</td>\n",
       "      <td>Ale</td>\n",
       "      <td>NaN</td>\n",
       "      <td>NaN</td>\n",
       "      <td>Cantabria</td>\n",
       "      <td>Canarias</td>\n",
       "      <td>NaN</td>\n",
       "      <td>NaN</td>\n",
       "      <td>NaN</td>\n",
       "      <td>NaN</td>\n",
       "      <td>Cebada</td>\n",
       "      <td>NaN</td>\n",
       "    </tr>\n",
       "  </tbody>\n",
       "</table>\n",
       "</div>"
      ],
      "text/plain": [
       "    id  color                   name                           brand  \\\n",
       "95  96  rubia         Smach Pale Ale      (cervezas artesanas Smach)   \n",
       "97  98  rubia  Dougall's Happy Otter  (cervezas artesanas Dougall's)   \n",
       "\n",
       "                                          description  \\\n",
       "95  \\nSi lo que quieres es disfrutar de una cervez...   \n",
       "97  \\nCerveza de temporada de Dougalls. Una Pale A...   \n",
       "\n",
       "                                                image Estilo de cerveza  \\\n",
       "95  https://static1.soloartesanas.es/1722-large_de...          Pale Ale   \n",
       "97  https://static3.soloartesanas.es/1719-large_de...          Pale Ale   \n",
       "\n",
       "   Graduación alcohólica Fermentación  \\\n",
       "95        5,0% Alc./Vol.          Ale   \n",
       "97                   NaN          Ale   \n",
       "\n",
       "   Amargor (según la Unidad Internacional de Amargor) Población  Provincia  \\\n",
       "95                                            25 IBUs   Camargo  Cantabria   \n",
       "97                                                NaN       NaN  Cantabria   \n",
       "\n",
       "   Comunidad Autónoma Lúpulos European Brewing Convention (EBC) Maltas  \\\n",
       "95           Canarias     NaN                               NaN    NaN   \n",
       "97           Canarias     NaN                               NaN    NaN   \n",
       "\n",
       "   Temperatura de consumo   Grano    País  \n",
       "95                    NaN  Cebada  España  \n",
       "97                    NaN  Cebada     NaN  "
      ]
     },
     "execution_count": 23,
     "metadata": {},
     "output_type": "execute_result"
    }
   ],
   "source": [
    "# Durante las pruebas he comprobado que hay un error en la asignación de la C.A de Canarias\n",
    "df_soloartesanas[df_soloartesanas[\"Comunidad Autónoma\"]==\"Canarias\"]"
   ]
  },
  {
   "cell_type": "code",
   "execution_count": 24,
   "metadata": {},
   "outputs": [],
   "source": [
    "# Corrijo el dato \n",
    "df_soloartesanas.loc[df_soloartesanas[\"Comunidad Autónoma\"]==\"Canarias\",\"Comunidad Autónoma\"]='Cantabria'"
   ]
  },
  {
   "cell_type": "code",
   "execution_count": 25,
   "metadata": {},
   "outputs": [
    {
     "data": {
      "text/plain": [
       "0         NaN\n",
       "29        NaN\n",
       "30        NaN\n",
       "41        NaN\n",
       "63     Girona\n",
       "69        NaN\n",
       "230       NaN\n",
       "351    Girona\n",
       "352    Girona\n",
       "372       NaN\n",
       "396       NaN\n",
       "Name: Provincia, dtype: object"
      ]
     },
     "execution_count": 25,
     "metadata": {},
     "output_type": "execute_result"
    }
   ],
   "source": [
    "# ¿Que CCAA faltan de las que sí sabemos la provincia?\n",
    "df_soloartesanas[df_soloartesanas[\"Comunidad Autónoma\"].isna()][\"Provincia\"]\n"
   ]
  },
  {
   "cell_type": "code",
   "execution_count": 26,
   "metadata": {},
   "outputs": [],
   "source": [
    "# como son todas de Girona, actualizamos la CCAA con Cataluña\n",
    "mask=(df_soloartesanas[\"Comunidad Autónoma\"].isna()) & (df_soloartesanas[\"Provincia\"]==\"Girona\")\n",
    "df_soloartesanas.loc[mask,\"Comunidad Autónoma\"]=\"Cataluña\""
   ]
  },
  {
   "cell_type": "code",
   "execution_count": 27,
   "metadata": {},
   "outputs": [
    {
     "data": {
      "text/plain": [
       "0      NaN\n",
       "29     NaN\n",
       "30     NaN\n",
       "41     NaN\n",
       "69     NaN\n",
       "230    NaN\n",
       "372    NaN\n",
       "396    NaN\n",
       "Name: Provincia, dtype: object"
      ]
     },
     "execution_count": 27,
     "metadata": {},
     "output_type": "execute_result"
    }
   ],
   "source": [
    "# comprobamos que se han actualizado bien\n",
    "df_soloartesanas[df_soloartesanas[\"Comunidad Autónoma\"].isna()][\"Provincia\"]"
   ]
  },
  {
   "cell_type": "code",
   "execution_count": 28,
   "metadata": {},
   "outputs": [
    {
     "data": {
      "text/plain": [
       "0           NaN\n",
       "29          NaN\n",
       "30          NaN\n",
       "41          NaN\n",
       "69          NaN\n",
       "230         NaN\n",
       "257    Cataluña\n",
       "372         NaN\n",
       "396         NaN\n",
       "Name: Comunidad Autónoma, dtype: object"
      ]
     },
     "execution_count": 28,
     "metadata": {},
     "output_type": "execute_result"
    }
   ],
   "source": [
    "# A la inversa, en las provincias faltan ¿cuál es la CC.AA.?\n",
    "df_soloartesanas[df_soloartesanas[\"Provincia\"].isna()][\"Comunidad Autónoma\"]"
   ]
  },
  {
   "cell_type": "markdown",
   "metadata": {},
   "source": [
    "Comprobamos que las 8 provincias que faltan no tienen información sobre CC.AA, salvo 1 que es de Cataluña.\n",
    "El siguiente paso será averiguar qué información tenemos y falta respecto a la población de origen, para ver si se pueden completar las otras columnas."
   ]
  },
  {
   "cell_type": "code",
   "execution_count": 29,
   "metadata": {},
   "outputs": [
    {
     "data": {
      "text/plain": [
       "0             NaN\n",
       "29            NaN\n",
       "30            NaN\n",
       "41            NaN\n",
       "69            NaN\n",
       "230           NaN\n",
       "257    Granollers\n",
       "372           NaN\n",
       "396           NaN\n",
       "Name: Población, dtype: object"
      ]
     },
     "execution_count": 29,
     "metadata": {},
     "output_type": "execute_result"
    }
   ],
   "source": [
    "# Por un lado, en las provincias que faltan ¿cuál es población?\n",
    "df_soloartesanas[df_soloartesanas[\"Provincia\"].isna()][\"Población\"]"
   ]
  },
  {
   "cell_type": "code",
   "execution_count": 30,
   "metadata": {},
   "outputs": [
    {
     "data": {
      "text/plain": [
       "0      NaN\n",
       "29     NaN\n",
       "30     NaN\n",
       "41     NaN\n",
       "69     NaN\n",
       "230    NaN\n",
       "372    NaN\n",
       "396    NaN\n",
       "Name: Población, dtype: object"
      ]
     },
     "execution_count": 30,
     "metadata": {},
     "output_type": "execute_result"
    }
   ],
   "source": [
    "# Lo mismo para las CC.AA.\n",
    "df_soloartesanas[df_soloartesanas[\"Comunidad Autónoma\"].isna()][\"Población\"]"
   ]
  },
  {
   "cell_type": "markdown",
   "metadata": {},
   "source": [
    "Con la información de la columna \"Población\" solamente podemos completar los datos del registro 257 (Granollers), que corresponden a la provincia de Barcelona en Cataluña."
   ]
  },
  {
   "cell_type": "code",
   "execution_count": 31,
   "metadata": {},
   "outputs": [],
   "source": [
    "# Actualizo el registro 257 (Granollers)\n",
    "df_soloartesanas.loc[257,\"Provincia\"]=\"Barcelona\""
   ]
  },
  {
   "cell_type": "code",
   "execution_count": 32,
   "metadata": {},
   "outputs": [
    {
     "name": "stdout",
     "output_type": "stream",
     "text": [
      "Cervezas con población de origen 409\n",
      "Cervezas con provincia 427\n",
      "Cervezas con CC.AA 427\n"
     ]
    }
   ],
   "source": [
    "print(\"Cervezas con población de origen\",df_soloartesanas[\"Población\"].count())\n",
    "print(\"Cervezas con provincia\",df_soloartesanas[\"Provincia\"].count())\n",
    "print(\"Cervezas con CC.AA\",df_soloartesanas[\"Comunidad Autónoma\"].count())\n"
   ]
  },
  {
   "cell_type": "markdown",
   "metadata": {},
   "source": [
    "Esto significa que de las 435 cervezas recogidas 409 tienen toda la información, 8 no tienen ningún dato sobre procedencia y 18 tienen información regional.\n",
    "Dada esta circunstancia, se decide:\n",
    "1. Eliminar los 8 registros con origen totalmente desconocido.\n",
    "2. Conservar los 18 incompletos, indicando que la población de origen está \"sin especificar\". \n",
    "3. Unificar como país España\n",
    "\n",
    "Con ello, conseguiríamos un dataset con 427 registros documentados."
   ]
  },
  {
   "cell_type": "code",
   "execution_count": 33,
   "metadata": {},
   "outputs": [],
   "source": [
    "# Elimino los 8 registros sin ninguna información sobre su origien\n",
    "mask=df_soloartesanas[df_soloartesanas[\"Comunidad Autónoma\"].isna()]\n",
    "df_soloartesanas=df_soloartesanas.drop(mask.index)\n"
   ]
  },
  {
   "cell_type": "code",
   "execution_count": 34,
   "metadata": {},
   "outputs": [
    {
     "data": {
      "text/plain": [
       "18        Valencia\n",
       "27          Madrid\n",
       "39      Valladolid\n",
       "40      Valladolid\n",
       "88         Navarra\n",
       "94       Barcelona\n",
       "97       Cantabria\n",
       "172    Guadalajara\n",
       "173    Guadalajara\n",
       "263        Vizcaya\n",
       "283         Madrid\n",
       "347         Girona\n",
       "353    Guadalajara\n",
       "386    Guadalajara\n",
       "417     Valladolid\n",
       "419      Barcelona\n",
       "421      Salamanca\n",
       "428    Guadalajara\n",
       "Name: Provincia, dtype: object"
      ]
     },
     "execution_count": 34,
     "metadata": {},
     "output_type": "execute_result"
    }
   ],
   "source": [
    "# ¿Cuáles son las poblaciones que faltan?\n",
    "df_soloartesanas[df_soloartesanas[\"Población\"].isna()][\"Provincia\"]"
   ]
  },
  {
   "cell_type": "code",
   "execution_count": 35,
   "metadata": {},
   "outputs": [
    {
     "data": {
      "text/plain": [
       "array(['Valencia', 'Madrid', 'Valladolid', 'Navarra', 'Barcelona',\n",
       "       'Cantabria', 'Guadalajara', 'Vizcaya', 'Girona', 'Salamanca'],\n",
       "      dtype=object)"
      ]
     },
     "execution_count": 35,
     "metadata": {},
     "output_type": "execute_result"
    }
   ],
   "source": [
    "# guardo las provincias de las poblaciones que faltan\n",
    "prov_para_pobl=df_soloartesanas[df_soloartesanas[\"Población\"].isna()][\"Provincia\"].unique()\n",
    "prov_para_pobl"
   ]
  },
  {
   "cell_type": "code",
   "execution_count": 36,
   "metadata": {},
   "outputs": [
    {
     "data": {
      "text/html": [
       "<div>\n",
       "<style scoped>\n",
       "    .dataframe tbody tr th:only-of-type {\n",
       "        vertical-align: middle;\n",
       "    }\n",
       "\n",
       "    .dataframe tbody tr th {\n",
       "        vertical-align: top;\n",
       "    }\n",
       "\n",
       "    .dataframe thead th {\n",
       "        text-align: right;\n",
       "    }\n",
       "</style>\n",
       "<table border=\"1\" class=\"dataframe\">\n",
       "  <thead>\n",
       "    <tr style=\"text-align: right;\">\n",
       "      <th></th>\n",
       "      <th>id</th>\n",
       "      <th>color</th>\n",
       "      <th>name</th>\n",
       "      <th>brand</th>\n",
       "      <th>description</th>\n",
       "      <th>image</th>\n",
       "      <th>Estilo de cerveza</th>\n",
       "      <th>Graduación alcohólica</th>\n",
       "      <th>Fermentación</th>\n",
       "      <th>Amargor (según la Unidad Internacional de Amargor)</th>\n",
       "      <th>Población</th>\n",
       "      <th>Provincia</th>\n",
       "      <th>Comunidad Autónoma</th>\n",
       "      <th>Lúpulos</th>\n",
       "      <th>European Brewing Convention (EBC)</th>\n",
       "      <th>Maltas</th>\n",
       "      <th>Temperatura de consumo</th>\n",
       "      <th>Grano</th>\n",
       "      <th>País</th>\n",
       "    </tr>\n",
       "  </thead>\n",
       "  <tbody>\n",
       "    <tr>\n",
       "      <th>18</th>\n",
       "      <td>19</td>\n",
       "      <td>rubia</td>\n",
       "      <td>Birra &amp; Blues Mago de Oz</td>\n",
       "      <td>(cervezas artesanas Birra &amp; Blues)</td>\n",
       "      <td>\\nLa banda de rock Mago de Oz ya tiene su prop...</td>\n",
       "      <td>https://static1.soloartesanas.es/3014-large_de...</td>\n",
       "      <td>Blonde Ale</td>\n",
       "      <td>4,5% Alc./Vol.</td>\n",
       "      <td>Ale</td>\n",
       "      <td>21 IBUs</td>\n",
       "      <td>NaN</td>\n",
       "      <td>Valencia</td>\n",
       "      <td>Valencia</td>\n",
       "      <td>NaN</td>\n",
       "      <td>7</td>\n",
       "      <td>NaN</td>\n",
       "      <td>NaN</td>\n",
       "      <td>NaN</td>\n",
       "      <td>NaN</td>\n",
       "    </tr>\n",
       "  </tbody>\n",
       "</table>\n",
       "</div>"
      ],
      "text/plain": [
       "    id  color                      name                               brand  \\\n",
       "18  19  rubia  Birra & Blues Mago de Oz  (cervezas artesanas Birra & Blues)   \n",
       "\n",
       "                                          description  \\\n",
       "18  \\nLa banda de rock Mago de Oz ya tiene su prop...   \n",
       "\n",
       "                                                image Estilo de cerveza  \\\n",
       "18  https://static1.soloartesanas.es/3014-large_de...        Blonde Ale   \n",
       "\n",
       "   Graduación alcohólica Fermentación  \\\n",
       "18        4,5% Alc./Vol.          Ale   \n",
       "\n",
       "   Amargor (según la Unidad Internacional de Amargor) Población Provincia  \\\n",
       "18                                            21 IBUs       NaN  Valencia   \n",
       "\n",
       "   Comunidad Autónoma Lúpulos European Brewing Convention (EBC) Maltas  \\\n",
       "18           Valencia     NaN                                 7    NaN   \n",
       "\n",
       "   Temperatura de consumo Grano País  \n",
       "18                    NaN   NaN  NaN  "
      ]
     },
     "execution_count": 36,
     "metadata": {},
     "output_type": "execute_result"
    }
   ],
   "source": [
    "# ejemplo para comprobar\n",
    "mask_prov_ej=(df_soloartesanas[\"Provincia\"]=='Valencia') \n",
    "mask_sin_pobl_ej=mask_prov_ej & (df_soloartesanas[\"Población\"].isna())\n",
    "df_soloartesanas[mask_sin_pobl_ej]"
   ]
  },
  {
   "cell_type": "code",
   "execution_count": 37,
   "metadata": {},
   "outputs": [
    {
     "data": {
      "text/plain": [
       "0    Massalfassar\n",
       "dtype: object"
      ]
     },
     "execution_count": 37,
     "metadata": {},
     "output_type": "execute_result"
    }
   ],
   "source": [
    "prov_moda_ej=df_soloartesanas[mask_prov_ej][\"Población\"].mode()\n",
    "prov_moda_ej"
   ]
  },
  {
   "cell_type": "code",
   "execution_count": 38,
   "metadata": {},
   "outputs": [
    {
     "data": {
      "text/html": [
       "<div>\n",
       "<style scoped>\n",
       "    .dataframe tbody tr th:only-of-type {\n",
       "        vertical-align: middle;\n",
       "    }\n",
       "\n",
       "    .dataframe tbody tr th {\n",
       "        vertical-align: top;\n",
       "    }\n",
       "\n",
       "    .dataframe thead th {\n",
       "        text-align: right;\n",
       "    }\n",
       "</style>\n",
       "<table border=\"1\" class=\"dataframe\">\n",
       "  <thead>\n",
       "    <tr style=\"text-align: right;\">\n",
       "      <th></th>\n",
       "      <th>id</th>\n",
       "      <th>color</th>\n",
       "      <th>name</th>\n",
       "      <th>brand</th>\n",
       "      <th>description</th>\n",
       "      <th>image</th>\n",
       "      <th>Estilo de cerveza</th>\n",
       "      <th>Graduación alcohólica</th>\n",
       "      <th>Fermentación</th>\n",
       "      <th>Amargor (según la Unidad Internacional de Amargor)</th>\n",
       "      <th>Población</th>\n",
       "      <th>Provincia</th>\n",
       "      <th>Comunidad Autónoma</th>\n",
       "      <th>Lúpulos</th>\n",
       "      <th>European Brewing Convention (EBC)</th>\n",
       "      <th>Maltas</th>\n",
       "      <th>Temperatura de consumo</th>\n",
       "      <th>Grano</th>\n",
       "      <th>País</th>\n",
       "    </tr>\n",
       "  </thead>\n",
       "  <tbody>\n",
       "  </tbody>\n",
       "</table>\n",
       "</div>"
      ],
      "text/plain": [
       "Empty DataFrame\n",
       "Columns: [id, color, name, brand, description, image, Estilo de cerveza, Graduación alcohólica, Fermentación, Amargor (según la Unidad Internacional de Amargor), Población, Provincia, Comunidad Autónoma, Lúpulos, European Brewing Convention (EBC), Maltas, Temperatura de consumo, Grano, País]\n",
       "Index: []"
      ]
     },
     "execution_count": 38,
     "metadata": {},
     "output_type": "execute_result"
    }
   ],
   "source": [
    "# Para completar el dato de población, les voy a asignar por defecto\n",
    "# la población que sea la moda en esa provincia\n",
    "\n",
    "for provincia in prov_para_pobl:\n",
    "    mask_prov=(df_soloartesanas[\"Provincia\"]==provincia) \n",
    "    mask_sin_pobl=mask_prov & (df_soloartesanas[\"Población\"].isna())\n",
    "    prov_moda=df_soloartesanas[mask_prov][\"Población\"].mode()\n",
    "    \n",
    "    df_soloartesanas.loc[mask_sin_pobl,\"Población\"]=prov_moda[0]\n",
    "\n",
    "# comprobamos\n",
    "df_soloartesanas[df_soloartesanas[\"Población\"].isna()]\n"
   ]
  },
  {
   "cell_type": "code",
   "execution_count": 39,
   "metadata": {},
   "outputs": [
    {
     "data": {
      "text/plain": [
       "'Massalfassar'"
      ]
     },
     "execution_count": 39,
     "metadata": {},
     "output_type": "execute_result"
    }
   ],
   "source": [
    "# ejemplo para comprobar\n",
    "df_soloartesanas.loc[18,\"Población\"]"
   ]
  },
  {
   "cell_type": "code",
   "execution_count": 40,
   "metadata": {},
   "outputs": [],
   "source": [
    "# Asigno \"sin especificar\" a las poblaciones que faltan pero sí conocemos su provincia y CC.AA\n",
    "df_soloartesanas[\"Población\"]=df_soloartesanas[\"Población\"].fillna(\"sin especificar\")"
   ]
  },
  {
   "cell_type": "code",
   "execution_count": 41,
   "metadata": {},
   "outputs": [
    {
     "name": "stdout",
     "output_type": "stream",
     "text": [
      "<class 'pandas.core.frame.DataFrame'>\n",
      "Int64Index: 427 entries, 1 to 434\n",
      "Data columns (total 19 columns):\n",
      " #   Column                                              Non-Null Count  Dtype \n",
      "---  ------                                              --------------  ----- \n",
      " 0   id                                                  427 non-null    int64 \n",
      " 1   color                                               427 non-null    object\n",
      " 2   name                                                427 non-null    object\n",
      " 3   brand                                               427 non-null    object\n",
      " 4   description                                         427 non-null    object\n",
      " 5   image                                               427 non-null    object\n",
      " 6   Estilo de cerveza                                   416 non-null    object\n",
      " 7   Graduación alcohólica                               412 non-null    object\n",
      " 8   Fermentación                                        396 non-null    object\n",
      " 9   Amargor (según la Unidad Internacional de Amargor)  274 non-null    object\n",
      " 10  Población                                           427 non-null    object\n",
      " 11  Provincia                                           427 non-null    object\n",
      " 12  Comunidad Autónoma                                  427 non-null    object\n",
      " 13  Lúpulos                                             98 non-null     object\n",
      " 14  European Brewing Convention (EBC)                   101 non-null    object\n",
      " 15  Maltas                                              87 non-null     object\n",
      " 16  Temperatura de consumo                              137 non-null    object\n",
      " 17  Grano                                               310 non-null    object\n",
      " 18  País                                                45 non-null     object\n",
      "dtypes: int64(1), object(18)\n",
      "memory usage: 86.7+ KB\n"
     ]
    }
   ],
   "source": [
    "df_soloartesanas.info()"
   ]
  },
  {
   "cell_type": "code",
   "execution_count": 42,
   "metadata": {},
   "outputs": [
    {
     "data": {
      "text/plain": [
       "Index(['id', 'color', 'name', 'brand', 'description', 'image',\n",
       "       'Estilo de cerveza', 'Graduación alcohólica', 'Fermentación',\n",
       "       'Amargor (según la Unidad Internacional de Amargor)', 'Población',\n",
       "       'Provincia', 'Comunidad Autónoma', 'Lúpulos',\n",
       "       'European Brewing Convention (EBC)', 'Maltas', 'Temperatura de consumo',\n",
       "       'Grano', 'País'],\n",
       "      dtype='object')"
      ]
     },
     "execution_count": 42,
     "metadata": {},
     "output_type": "execute_result"
    }
   ],
   "source": [
    "df_soloartesanas.columns"
   ]
  },
  {
   "cell_type": "code",
   "execution_count": 43,
   "metadata": {},
   "outputs": [],
   "source": [
    "# Unifico el campo \"País\" que tiene Nan y distintas grafías\n",
    "df_soloartesanas[\"País\"]=\"España\"\n",
    "\n",
    "# Muevo las columnas para que la información sobre la procedencia esté ordenada y al final del dataset\n",
    "df_soloartesanas=df_soloartesanas[['id', 'color', 'name', 'brand', 'description', 'image',\n",
    "       'Estilo de cerveza', 'Graduación alcohólica', 'Fermentación',\n",
    "       'Amargor (según la Unidad Internacional de Amargor)', 'Lúpulos',\n",
    "       'European Brewing Convention (EBC)', 'Maltas', 'Temperatura de consumo',\n",
    "       'Grano', 'Población',\n",
    "       'Provincia', 'Comunidad Autónoma', 'País']]\n"
   ]
  },
  {
   "cell_type": "markdown",
   "metadata": {},
   "source": [
    "## Normalización de datos específicos sobre cervezas\n",
    "A continuación se procede a revisar las columnas con información específica sobre las características de las cervezas, con el objetivo de que los datos sean uniformes y los tipos se correspondan con ellos. También se cambiarán los nombres de algunas columnas que resultan demasiado largos para trabajar."
   ]
  },
  {
   "cell_type": "code",
   "execution_count": 44,
   "metadata": {},
   "outputs": [
    {
     "data": {
      "text/plain": [
       "Index(['id', 'color', 'name', 'brand', 'description', 'image',\n",
       "       'Estilo de cerveza', 'Graduación alcohólica', 'Fermentación',\n",
       "       'Amargor (según la Unidad Internacional de Amargor)', 'Lúpulos',\n",
       "       'European Brewing Convention (EBC)', 'Maltas', 'Temperatura de consumo',\n",
       "       'Grano', 'Población', 'Provincia', 'Comunidad Autónoma', 'País'],\n",
       "      dtype='object')"
      ]
     },
     "execution_count": 44,
     "metadata": {},
     "output_type": "execute_result"
    }
   ],
   "source": [
    "df_soloartesanas.columns"
   ]
  },
  {
   "cell_type": "code",
   "execution_count": 45,
   "metadata": {},
   "outputs": [],
   "source": [
    "# cambio nombres de columnas demasiado largos\n",
    "df_soloartesanas.rename(columns={'Estilo de cerveza':\"Estilo\",'Graduación alcohólica':\"Graduación\",'Amargor (según la Unidad Internacional de Amargor)':\"IBU\", },inplace=True)"
   ]
  },
  {
   "cell_type": "markdown",
   "metadata": {},
   "source": [
    "### Datos sobre el estilo de las cervezas\n",
    "Uno de los datos más importantes en la valoración de las cervezas es su estilo. Encontramos que este campo tiene algunos registros sin especificar, por lo que buscamos la manera de completar la información basándonos en otros datos o, de manera puntual, buscando el estilo para unos casos concretos.\n",
    "\n"
   ]
  },
  {
   "cell_type": "code",
   "execution_count": 46,
   "metadata": {},
   "outputs": [
    {
     "data": {
      "text/plain": [
       " Pale Ale                   34\n",
       " India Pale Ale - IPA       19\n",
       " Brown Ale                  17\n",
       " Blonde Ale                 14\n",
       " American Pale Ale - APA    11\n",
       "                            ..\n",
       " IPA Single Hop Motueka      1\n",
       " Farmhouse Ale               1\n",
       " Pumpkin Ale                 1\n",
       " Red IPA                     1\n",
       " Bohemian Amber Ale          1\n",
       "Name: Estilo, Length: 152, dtype: int64"
      ]
     },
     "execution_count": 46,
     "metadata": {},
     "output_type": "execute_result"
    }
   ],
   "source": [
    "df_soloartesanas[\"Estilo\"].value_counts()"
   ]
  },
  {
   "cell_type": "code",
   "execution_count": 47,
   "metadata": {},
   "outputs": [
    {
     "data": {
      "text/plain": [
       "array([' Imperial / Double IPA', ' Fruit Beer', ' Pale Ale',\n",
       "       ' Weizen - Weissbier', ' White IPA', ' Kölsch',\n",
       "       ' English Pale Ale', ' Lager', ' Pumpkin Ale',\n",
       "       ' India Pale Ale - IPA', ' Session IPA', ' Blonde Ale',\n",
       "       ' Golden Ale', ' Witbier (Belgian White)', ' Amber Ale',\n",
       "       ' American Pale Ale - APA', ' Smoked Beer', ' American Amber Ale',\n",
       "       ' English IPA', ' Tripel', ' Belgian Blonde Ale',\n",
       "       ' Golden Braggot', ' American Golden Ale', ' Double Red IPA',\n",
       "       ' American IPA', ' Saison', ' Extra Pale Ale', ' Braggot',\n",
       "       ' German Ale', ' Rauchbier', ' Belgian Dubbel', ' Belgian IPA',\n",
       "       ' Cream Ale', ' Strong Ale', nan, ' Double IPA',\n",
       "       ' California Common / Steam Beer', ' Farmhouse Ale',\n",
       "       ' American Wheat', ' Spice / Herb / Vegetable',\n",
       "       ' Pilsner - Pilsen', ' Summer Ale', ' India Pale Ale',\n",
       "       ' Pilsner Ale', ' Belgian Ale', ' Biére de Garde',\n",
       "       ' Wheat Ale Ecológica', ' Marzenbier', ' IPA con algarroba',\n",
       "       ' Steam Pilsner', ' IPA Single Hop Motueka',\n",
       "       ' India Pale Ale (IPA)', ' American Pale Ale', ' America Pale Ale',\n",
       "       ' Bavarian Helles', ' Ale', ' Kolsch', ' Weizebier', ' IPA',\n",
       "       ' Weizen Weissbier', ' WeizenBock', ' Hefe Weizen', ' Weissbier',\n",
       "       ' Witbier', ' Imperial IPA', ' Imperial Pale Ale', ' Weizen',\n",
       "       ' Wit', ' English Winter Ale', ' Special Bitter', ' Pilsen',\n",
       "       ' Bávaro', ' Weizen-Weissbier', ' Pilsner', ' Scotish Ale',\n",
       "       ' Weizenbier', ' Hefe-Weizen', ' Special Grain',\n",
       "       ' Summer American Wheat', ' Bohemian Pilsen', ' Blond Ale',\n",
       "       ' Ale Northern English', ' Indian Pale Ale', ' Trigo Premium',\n",
       "       ' Pale Lager', ' Weizen Ale', ' Iber Ale', ' Mild Ale',\n",
       "       ' Fruit Ale', ' Ordinary Bitter', ' Weizenbock',\n",
       "       ' Belgian Strong Ale', ' VIPA, Valencia Indian Pale Ale',\n",
       "       ' IPA (Indian Pale Ale)', ' Extra especial Bitter',\n",
       "       ' Summer Fruit Ale', ' Belgian Golden Strong Ale',\n",
       "       ' Winter Honey Ale (Elaborada con Miel de Romero)',\n",
       "       ' Amercian Amber Ale', ' Ordinay Bitter', ' Aged Belgian Ale',\n",
       "       ' Weizen-Weissbier y Porter', ' American Brown Ale', ' Brown Ale',\n",
       "       ' Brown Ale de calabaza', ' British Strong Ale', ' Belgian Dubble',\n",
       "       ' Barley Wine', ' Smoke Flavored and Wood Aged Beer', ' Red Ale',\n",
       "       ' Abbey Dubbel', ' Envejida en barricas de Jerez',\n",
       "       ' Zwickel / Keller / Landbier', ' Märzen', ' Winter Ale',\n",
       "       ' Barley Wine Madurada', ' Smoked Brown Lager',\n",
       "       ' Extra Especial Bitter', ' Smoked Ale', ' Tropical IPA',\n",
       "       ' Altbier', ' Irish Red Ale', ' English Brown',\n",
       "       ' Bohemian Amber Ale', ' Special Ale', ' Old Ale',\n",
       "       ' European Pale Ale', ' Düsseldorf Altbier',\n",
       "       ' Brown Indian Pale Ale', ' Black Rye IPA', ' Porter',\n",
       "       ' Wood Aged Beer', ' Oatmeal Stout', ' Imperial Stout',\n",
       "       ' Session Black IPA', ' Smoke Imperial Stout', ' Stout',\n",
       "       ' Russian Imperial Stout & Imperial Stout',\n",
       "       ' Russian Imperial Stout', ' Dunkelweizen', ' Oatmeal Porter',\n",
       "       ' Extra Stout', ' Black IPA', ' Porter con miel', ' Dry Stout',\n",
       "       ' Triple Malta', ' Sweet Stout', ' Porter Ale',\n",
       "       ' Aged Scottish Ale', ' Scottish Ale', ' Imperial Red IPA',\n",
       "       ' Red IPA', ' Specialty Beer'], dtype=object)"
      ]
     },
     "execution_count": 47,
     "metadata": {},
     "output_type": "execute_result"
    }
   ],
   "source": [
    "df_soloartesanas[\"Estilo\"].unique()"
   ]
  },
  {
   "cell_type": "code",
   "execution_count": 48,
   "metadata": {},
   "outputs": [
    {
     "data": {
      "text/html": [
       "<div>\n",
       "<style scoped>\n",
       "    .dataframe tbody tr th:only-of-type {\n",
       "        vertical-align: middle;\n",
       "    }\n",
       "\n",
       "    .dataframe tbody tr th {\n",
       "        vertical-align: top;\n",
       "    }\n",
       "\n",
       "    .dataframe thead th {\n",
       "        text-align: right;\n",
       "    }\n",
       "</style>\n",
       "<table border=\"1\" class=\"dataframe\">\n",
       "  <thead>\n",
       "    <tr style=\"text-align: right;\">\n",
       "      <th></th>\n",
       "      <th>color</th>\n",
       "      <th>Estilo</th>\n",
       "      <th>Fermentación</th>\n",
       "      <th>Grano</th>\n",
       "    </tr>\n",
       "  </thead>\n",
       "  <tbody>\n",
       "    <tr>\n",
       "      <th>85</th>\n",
       "      <td>rubia</td>\n",
       "      <td>NaN</td>\n",
       "      <td>Ale</td>\n",
       "      <td>Cebada</td>\n",
       "    </tr>\n",
       "    <tr>\n",
       "      <th>172</th>\n",
       "      <td>rubia</td>\n",
       "      <td>NaN</td>\n",
       "      <td>Ale</td>\n",
       "      <td>Trigo</td>\n",
       "    </tr>\n",
       "    <tr>\n",
       "      <th>173</th>\n",
       "      <td>rubia</td>\n",
       "      <td>NaN</td>\n",
       "      <td>Ale</td>\n",
       "      <td>Cebada</td>\n",
       "    </tr>\n",
       "    <tr>\n",
       "      <th>184</th>\n",
       "      <td>rubia</td>\n",
       "      <td>NaN</td>\n",
       "      <td>Ale</td>\n",
       "      <td>Trigo</td>\n",
       "    </tr>\n",
       "    <tr>\n",
       "      <th>185</th>\n",
       "      <td>rubia</td>\n",
       "      <td>NaN</td>\n",
       "      <td>Ale</td>\n",
       "      <td>Cebada</td>\n",
       "    </tr>\n",
       "    <tr>\n",
       "      <th>190</th>\n",
       "      <td>rubia</td>\n",
       "      <td>NaN</td>\n",
       "      <td>Ale</td>\n",
       "      <td>Cebada</td>\n",
       "    </tr>\n",
       "    <tr>\n",
       "      <th>279</th>\n",
       "      <td>tostada</td>\n",
       "      <td>NaN</td>\n",
       "      <td>Ale</td>\n",
       "      <td>Trigo</td>\n",
       "    </tr>\n",
       "    <tr>\n",
       "      <th>286</th>\n",
       "      <td>tostada</td>\n",
       "      <td>NaN</td>\n",
       "      <td>Ale</td>\n",
       "      <td>Cebada</td>\n",
       "    </tr>\n",
       "    <tr>\n",
       "      <th>386</th>\n",
       "      <td>negra</td>\n",
       "      <td>NaN</td>\n",
       "      <td>Ale</td>\n",
       "      <td>Cebada</td>\n",
       "    </tr>\n",
       "    <tr>\n",
       "      <th>389</th>\n",
       "      <td>negra</td>\n",
       "      <td>NaN</td>\n",
       "      <td>Ale</td>\n",
       "      <td>Cebada</td>\n",
       "    </tr>\n",
       "    <tr>\n",
       "      <th>428</th>\n",
       "      <td>roja</td>\n",
       "      <td>NaN</td>\n",
       "      <td>Ale</td>\n",
       "      <td>Cebada</td>\n",
       "    </tr>\n",
       "  </tbody>\n",
       "</table>\n",
       "</div>"
      ],
      "text/plain": [
       "       color Estilo Fermentación   Grano\n",
       "85     rubia    NaN          Ale  Cebada\n",
       "172    rubia    NaN          Ale   Trigo\n",
       "173    rubia    NaN          Ale  Cebada\n",
       "184    rubia    NaN          Ale   Trigo\n",
       "185    rubia    NaN          Ale  Cebada\n",
       "190    rubia    NaN          Ale  Cebada\n",
       "279  tostada    NaN          Ale   Trigo\n",
       "286  tostada    NaN          Ale  Cebada\n",
       "386    negra    NaN          Ale  Cebada\n",
       "389    negra    NaN          Ale  Cebada\n",
       "428     roja    NaN          Ale  Cebada"
      ]
     },
     "execution_count": 48,
     "metadata": {},
     "output_type": "execute_result"
    }
   ],
   "source": [
    "# ¿cómo son las que no tienen estilo?\n",
    "df_estilo=df_soloartesanas[df_soloartesanas[\"Estilo\"].isna()]\n",
    "\n",
    "df_estilo=df_estilo.drop(columns=[\"id\", \"name\",\"Graduación\", \"IBU\",\"Lúpulos\",\n",
    "                                  \"European Brewing Convention (EBC)\",\"Maltas\",\n",
    "                                  'image',\"brand\",\"description\",\n",
    "                                 'Población', 'Provincia',\n",
    "                                 'Comunidad Autónoma',\n",
    "                                 'Temperatura de consumo', 'País'])\n",
    "df_estilo"
   ]
  },
  {
   "cell_type": "markdown",
   "metadata": {},
   "source": [
    "Observamos que para las 11 cervezas que no tienen clasificación de estilo podemos obtener el dato conociendo la fermentación, el color y el grano. \n",
    "Por tanto, prodecemos a obtener el estilo que más se repite en cada una de esas combinaciones y se lo añadimos a la cerveza. "
   ]
  },
  {
   "cell_type": "code",
   "execution_count": 49,
   "metadata": {},
   "outputs": [
    {
     "data": {
      "text/html": [
       "<div>\n",
       "<style scoped>\n",
       "    .dataframe tbody tr th:only-of-type {\n",
       "        vertical-align: middle;\n",
       "    }\n",
       "\n",
       "    .dataframe tbody tr th {\n",
       "        vertical-align: top;\n",
       "    }\n",
       "\n",
       "    .dataframe thead th {\n",
       "        text-align: right;\n",
       "    }\n",
       "</style>\n",
       "<table border=\"1\" class=\"dataframe\">\n",
       "  <thead>\n",
       "    <tr style=\"text-align: right;\">\n",
       "      <th></th>\n",
       "      <th>color</th>\n",
       "      <th>Estilo</th>\n",
       "      <th>Fermentación</th>\n",
       "      <th>Grano</th>\n",
       "    </tr>\n",
       "  </thead>\n",
       "  <tbody>\n",
       "    <tr>\n",
       "      <th>0</th>\n",
       "      <td>rubia</td>\n",
       "      <td>NaN</td>\n",
       "      <td>Ale</td>\n",
       "      <td>Cebada</td>\n",
       "    </tr>\n",
       "    <tr>\n",
       "      <th>1</th>\n",
       "      <td>rubia</td>\n",
       "      <td>NaN</td>\n",
       "      <td>Ale</td>\n",
       "      <td>Trigo</td>\n",
       "    </tr>\n",
       "    <tr>\n",
       "      <th>2</th>\n",
       "      <td>tostada</td>\n",
       "      <td>NaN</td>\n",
       "      <td>Ale</td>\n",
       "      <td>Trigo</td>\n",
       "    </tr>\n",
       "    <tr>\n",
       "      <th>3</th>\n",
       "      <td>tostada</td>\n",
       "      <td>NaN</td>\n",
       "      <td>Ale</td>\n",
       "      <td>Cebada</td>\n",
       "    </tr>\n",
       "    <tr>\n",
       "      <th>4</th>\n",
       "      <td>negra</td>\n",
       "      <td>NaN</td>\n",
       "      <td>Ale</td>\n",
       "      <td>Cebada</td>\n",
       "    </tr>\n",
       "    <tr>\n",
       "      <th>5</th>\n",
       "      <td>roja</td>\n",
       "      <td>NaN</td>\n",
       "      <td>Ale</td>\n",
       "      <td>Cebada</td>\n",
       "    </tr>\n",
       "  </tbody>\n",
       "</table>\n",
       "</div>"
      ],
      "text/plain": [
       "     color Estilo Fermentación   Grano\n",
       "0    rubia    NaN          Ale  Cebada\n",
       "1    rubia    NaN          Ale   Trigo\n",
       "2  tostada    NaN          Ale   Trigo\n",
       "3  tostada    NaN          Ale  Cebada\n",
       "4    negra    NaN          Ale  Cebada\n",
       "5     roja    NaN          Ale  Cebada"
      ]
     },
     "execution_count": 49,
     "metadata": {},
     "output_type": "execute_result"
    }
   ],
   "source": [
    "# Eliminamos las combinaciones que se repiten\n",
    "df_estilo.drop_duplicates(inplace=True)\n",
    "\n",
    "#inicializamos el índice\n",
    "df_estilo.reset_index(drop=True,inplace=True)\n",
    "df_estilo"
   ]
  },
  {
   "cell_type": "code",
   "execution_count": 50,
   "metadata": {},
   "outputs": [
    {
     "data": {
      "text/html": [
       "<div>\n",
       "<style scoped>\n",
       "    .dataframe tbody tr th:only-of-type {\n",
       "        vertical-align: middle;\n",
       "    }\n",
       "\n",
       "    .dataframe tbody tr th {\n",
       "        vertical-align: top;\n",
       "    }\n",
       "\n",
       "    .dataframe thead th {\n",
       "        text-align: right;\n",
       "    }\n",
       "</style>\n",
       "<table border=\"1\" class=\"dataframe\">\n",
       "  <thead>\n",
       "    <tr style=\"text-align: right;\">\n",
       "      <th></th>\n",
       "      <th>id</th>\n",
       "      <th>color</th>\n",
       "      <th>name</th>\n",
       "      <th>brand</th>\n",
       "      <th>description</th>\n",
       "      <th>image</th>\n",
       "      <th>Estilo</th>\n",
       "      <th>Graduación</th>\n",
       "      <th>Fermentación</th>\n",
       "      <th>IBU</th>\n",
       "      <th>Lúpulos</th>\n",
       "      <th>European Brewing Convention (EBC)</th>\n",
       "      <th>Maltas</th>\n",
       "      <th>Temperatura de consumo</th>\n",
       "      <th>Grano</th>\n",
       "      <th>Población</th>\n",
       "      <th>Provincia</th>\n",
       "      <th>Comunidad Autónoma</th>\n",
       "      <th>País</th>\n",
       "    </tr>\n",
       "  </thead>\n",
       "  <tbody>\n",
       "    <tr>\n",
       "      <th>428</th>\n",
       "      <td>429</td>\n",
       "      <td>roja</td>\n",
       "      <td>Arriaca IPA</td>\n",
       "      <td>(cervezas artesanas Cervezas Arriaca)</td>\n",
       "      <td>\\nArrica IPA es una de las cervezas artesanas ...</td>\n",
       "      <td>https://static2.soloartesanas.es/3441-large_de...</td>\n",
       "      <td>NaN</td>\n",
       "      <td>NaN</td>\n",
       "      <td>Ale</td>\n",
       "      <td>NaN</td>\n",
       "      <td>NaN</td>\n",
       "      <td>NaN</td>\n",
       "      <td>NaN</td>\n",
       "      <td>NaN</td>\n",
       "      <td>Cebada</td>\n",
       "      <td>Yunquera de Henares</td>\n",
       "      <td>Guadalajara</td>\n",
       "      <td>Castilla-La Mancha</td>\n",
       "      <td>España</td>\n",
       "    </tr>\n",
       "  </tbody>\n",
       "</table>\n",
       "</div>"
      ],
      "text/plain": [
       "      id color         name                                  brand  \\\n",
       "428  429  roja  Arriaca IPA  (cervezas artesanas Cervezas Arriaca)   \n",
       "\n",
       "                                           description  \\\n",
       "428  \\nArrica IPA es una de las cervezas artesanas ...   \n",
       "\n",
       "                                                 image Estilo Graduación  \\\n",
       "428  https://static2.soloartesanas.es/3441-large_de...    NaN        NaN   \n",
       "\n",
       "    Fermentación  IBU Lúpulos European Brewing Convention (EBC) Maltas  \\\n",
       "428          Ale  NaN     NaN                               NaN    NaN   \n",
       "\n",
       "    Temperatura de consumo   Grano            Población    Provincia  \\\n",
       "428                    NaN  Cebada  Yunquera de Henares  Guadalajara   \n",
       "\n",
       "     Comunidad Autónoma    País  \n",
       "428  Castilla-La Mancha  España  "
      ]
     },
     "execution_count": 50,
     "metadata": {},
     "output_type": "execute_result"
    }
   ],
   "source": [
    "# Buscamos el estilo que es la moda para cada combinación (ej.rubia & Ale & Cebada) y lo asignamos a cada cerveza sin estilo\n",
    "\n",
    "combinaciones=range(df_estilo.columns.size+1)\n",
    "\n",
    "for comb in combinaciones:\n",
    "    \n",
    "    mask=(df_soloartesanas[\"color\"]==df_estilo.loc[comb,\"color\"])&(df_soloartesanas[\"Fermentación\"]==df_estilo.loc[comb,\"Fermentación\"])&(df_soloartesanas[\"Grano\"]==df_estilo.loc[comb,\"Grano\"])\n",
    "    mk_sin_estilo=mask & df_soloartesanas[\"Estilo\"].isna()\n",
    "\n",
    "    nuevo_estilo=df_soloartesanas[mask][\"Estilo\"].mode()\n",
    "    \n",
    "    df_soloartesanas.loc[mk_sin_estilo,\"Estilo\"]=nuevo_estilo[0]\n",
    "\n",
    "# comprobamos\n",
    "df_soloartesanas[df_soloartesanas[\"Estilo\"].isna()]\n",
    "\n"
   ]
  },
  {
   "cell_type": "code",
   "execution_count": 51,
   "metadata": {},
   "outputs": [
    {
     "data": {
      "text/plain": [
       "'\\nArrica IPA\\xa0es una de las\\xa0cervezas artesanas que elabora cervezas arriaca desde Yunquera de Henares, Guadalajara.\\xa0Es una cerveza artesana IPA, Ale, con marcado carácter a lúpulo. \\nDestaca su color\\xa0color anaranjado fuerte tirando a rojizo, con una corona de espuma cremosa y de buena retención. Aromas cítricos, sobre todo a pomelo y mandarina, notas herbáceas, florales y matices afrutados.\\xa0En boca presenta un amargor medio que se disipa rápidamente dejando paso al cítrico, al pino y al caramelo.\\n¡Salud!\\n'"
      ]
     },
     "execution_count": 51,
     "metadata": {},
     "output_type": "execute_result"
    }
   ],
   "source": [
    "# queda 1 cerveza sin estilo. Vemos su descripción para buscar más información\n",
    "df_soloartesanas.loc[428,\"description\"]"
   ]
  },
  {
   "cell_type": "code",
   "execution_count": 52,
   "metadata": {},
   "outputs": [],
   "source": [
    "# Por la descripción encajaría en una Red IPA. Actualizamos el dato\n",
    "df_soloartesanas.loc[428,\"Estilo\"]=' Red IPA'"
   ]
  },
  {
   "cell_type": "code",
   "execution_count": 53,
   "metadata": {},
   "outputs": [
    {
     "data": {
      "text/plain": [
       "array([' Imperial / Double IPA', ' Fruit Beer', ' Pale Ale',\n",
       "       ' Weizen - Weissbier', ' White IPA', ' Kölsch',\n",
       "       ' English Pale Ale', ' Lager', ' Pumpkin Ale',\n",
       "       ' India Pale Ale - IPA', ' Session IPA', ' Blonde Ale',\n",
       "       ' Golden Ale', ' Witbier (Belgian White)', ' Amber Ale',\n",
       "       ' American Pale Ale - APA', ' Smoked Beer', ' American Amber Ale',\n",
       "       ' English IPA', ' Tripel', ' Belgian Blonde Ale',\n",
       "       ' Golden Braggot', ' American Golden Ale', ' Double Red IPA',\n",
       "       ' American IPA', ' Saison', ' Extra Pale Ale', ' Braggot',\n",
       "       ' German Ale', ' Rauchbier', ' Belgian Dubbel', ' Belgian IPA',\n",
       "       ' Cream Ale', ' Strong Ale', ' Double IPA',\n",
       "       ' California Common / Steam Beer', ' Farmhouse Ale',\n",
       "       ' American Wheat', ' Spice / Herb / Vegetable',\n",
       "       ' Pilsner - Pilsen', ' Summer Ale', ' India Pale Ale',\n",
       "       ' Pilsner Ale', ' Belgian Ale', ' Biére de Garde',\n",
       "       ' Wheat Ale Ecológica', ' Marzenbier', ' IPA con algarroba',\n",
       "       ' Steam Pilsner', ' IPA Single Hop Motueka',\n",
       "       ' India Pale Ale (IPA)', ' American Pale Ale', ' America Pale Ale',\n",
       "       ' Bavarian Helles', ' Ale', ' Kolsch', ' Weizebier', ' IPA',\n",
       "       ' Weizen Weissbier', ' WeizenBock', ' Hefe Weizen', ' Weissbier',\n",
       "       ' Witbier', ' Imperial IPA', ' Imperial Pale Ale', ' Weizen',\n",
       "       ' Wit', ' English Winter Ale', ' Special Bitter', ' Pilsen',\n",
       "       ' Bávaro', ' Weizen-Weissbier', ' Pilsner', ' Scotish Ale',\n",
       "       ' Weizenbier', ' Hefe-Weizen', ' Special Grain',\n",
       "       ' Summer American Wheat', ' Bohemian Pilsen', ' Blond Ale',\n",
       "       ' Ale Northern English', ' Indian Pale Ale', ' Trigo Premium',\n",
       "       ' Pale Lager', ' Weizen Ale', ' Iber Ale', ' Mild Ale',\n",
       "       ' Fruit Ale', ' Ordinary Bitter', ' Weizenbock',\n",
       "       ' Belgian Strong Ale', ' VIPA, Valencia Indian Pale Ale',\n",
       "       ' IPA (Indian Pale Ale)', ' Extra especial Bitter',\n",
       "       ' Summer Fruit Ale', ' Belgian Golden Strong Ale',\n",
       "       ' Winter Honey Ale (Elaborada con Miel de Romero)',\n",
       "       ' Amercian Amber Ale', ' Ordinay Bitter', ' Aged Belgian Ale',\n",
       "       ' Weizen-Weissbier y Porter', ' American Brown Ale', ' Brown Ale',\n",
       "       ' Brown Ale de calabaza', ' British Strong Ale', ' Belgian Dubble',\n",
       "       ' Barley Wine', ' Smoke Flavored and Wood Aged Beer', ' Red Ale',\n",
       "       ' Abbey Dubbel', ' Envejida en barricas de Jerez',\n",
       "       ' Düsseldorf Altbier', ' Zwickel / Keller / Landbier', ' Märzen',\n",
       "       ' Winter Ale', ' Barley Wine Madurada', ' Smoked Brown Lager',\n",
       "       ' Extra Especial Bitter', ' Smoked Ale', ' Tropical IPA',\n",
       "       ' Altbier', ' Irish Red Ale', ' English Brown',\n",
       "       ' Bohemian Amber Ale', ' Special Ale', ' Old Ale',\n",
       "       ' European Pale Ale', ' Brown Indian Pale Ale', ' Black Rye IPA',\n",
       "       ' Porter', ' Wood Aged Beer', ' Oatmeal Stout', ' Imperial Stout',\n",
       "       ' Session Black IPA', ' Smoke Imperial Stout', ' Stout',\n",
       "       ' Russian Imperial Stout & Imperial Stout',\n",
       "       ' Russian Imperial Stout', ' Dunkelweizen', ' Oatmeal Porter',\n",
       "       ' Extra Stout', ' Black IPA', ' Porter con miel', ' Dry Stout',\n",
       "       ' Triple Malta', ' Sweet Stout', ' Porter Ale',\n",
       "       ' Aged Scottish Ale', ' Scottish Ale', ' Imperial Red IPA',\n",
       "       ' Red IPA', ' Specialty Beer'], dtype=object)"
      ]
     },
     "execution_count": 53,
     "metadata": {},
     "output_type": "execute_result"
    }
   ],
   "source": [
    "# Comprobamos\n",
    "df_soloartesanas[\"Estilo\"].unique()"
   ]
  },
  {
   "cell_type": "code",
   "execution_count": 54,
   "metadata": {},
   "outputs": [
    {
     "data": {
      "text/plain": [
       "array([' Pale Ale', ' English Pale Ale', ' India Pale Ale - IPA',\n",
       "       ' American Pale Ale - APA', ' Extra Pale Ale', ' India Pale Ale',\n",
       "       ' India Pale Ale (IPA)', ' American Pale Ale', ' America Pale Ale',\n",
       "       ' Imperial Pale Ale', ' Indian Pale Ale',\n",
       "       ' VIPA, Valencia Indian Pale Ale', ' IPA (Indian Pale Ale)',\n",
       "       ' European Pale Ale', ' Brown Indian Pale Ale'], dtype=object)"
      ]
     },
     "execution_count": 54,
     "metadata": {},
     "output_type": "execute_result"
    }
   ],
   "source": [
    "# hay varias cervezas del mismo tipo con distinta nomenclarura\n",
    "#df_soloartesanas[df_soloartesanas[\"Estilo\"].str.contains(\"India Pale Ale\")][\"Estilo\"].unique()\n",
    "df_soloartesanas[df_soloartesanas[\"Estilo\"].str.contains(\"Pale Ale\")][\"Estilo\"].unique()"
   ]
  },
  {
   "cell_type": "code",
   "execution_count": 55,
   "metadata": {},
   "outputs": [],
   "source": [
    "# Unificamos las India Pale Ale, excepto las que tienen otros calificativos, que son Valencia y Brown:\n",
    "mask_pale_ale=df_soloartesanas[\"Estilo\"].str.contains(\"Pale Ale\")\n",
    "mask_india=df_soloartesanas[\"Estilo\"].str.contains(\"India\")\n",
    "mask_valencia=df_soloartesanas[\"Estilo\"].str.contains(\"Valencia\")\n",
    "mask_brown=df_soloartesanas[\"Estilo\"].str.contains(\"Brown\")\n",
    "\n",
    "# Asignamos ' India Pale Ale'\n",
    "df_soloartesanas.loc[(mask_pale_ale & mask_india &~ mask_valencia &~ mask_brown ),[\"Estilo\"]]=' India Pale Ale'"
   ]
  },
  {
   "cell_type": "code",
   "execution_count": 56,
   "metadata": {},
   "outputs": [
    {
     "data": {
      "text/plain": [
       " American Pale Ale - APA    11\n",
       " American Pale Ale           8\n",
       " American IPA                7\n",
       " American Amber Ale          6\n",
       " American Brown Ale          4\n",
       " American Golden Ale         1\n",
       " Summer American Wheat       1\n",
       " America Pale Ale            1\n",
       " American Wheat              1\n",
       "Name: Estilo, dtype: int64"
      ]
     },
     "execution_count": 56,
     "metadata": {},
     "output_type": "execute_result"
    }
   ],
   "source": [
    "# También hay que unificar las tipo \"American Pale Ale - APA\"\n",
    "df_soloartesanas[df_soloartesanas[\"Estilo\"].str.contains(\"America\")][\"Estilo\"].value_counts()"
   ]
  },
  {
   "cell_type": "code",
   "execution_count": 57,
   "metadata": {},
   "outputs": [],
   "source": [
    "# máscaras\n",
    "mask_america=df_soloartesanas[\"Estilo\"].str.contains(\"America\")\n",
    "\n",
    "df_soloartesanas.loc[(mask_pale_ale & mask_america ),[\"Estilo\"]]=' America Pale Ale'"
   ]
  },
  {
   "cell_type": "code",
   "execution_count": 58,
   "metadata": {},
   "outputs": [
    {
     "data": {
      "text/plain": [
       " Imperial Stout                             10\n",
       " Stout                                       8\n",
       " Russian Imperial Stout                      4\n",
       " Oatmeal Stout                               3\n",
       " Dry Stout                                   2\n",
       " Sweet Stout                                 2\n",
       " Extra Stout                                 2\n",
       " Smoke Imperial Stout                        1\n",
       " Russian Imperial Stout & Imperial Stout     1\n",
       "Name: Estilo, dtype: int64"
      ]
     },
     "execution_count": 58,
     "metadata": {},
     "output_type": "execute_result"
    }
   ],
   "source": [
    "# cervezas Stout están bien diferenciadas\n",
    "df_soloartesanas[df_soloartesanas[\"Estilo\"].str.contains(\"Stout\")][\"Estilo\"].value_counts()"
   ]
  },
  {
   "cell_type": "code",
   "execution_count": 59,
   "metadata": {},
   "outputs": [
    {
     "data": {
      "text/plain": [
       " Witbier (Belgian White)    7\n",
       " Witbier                    2\n",
       " Wit                        1\n",
       "Name: Estilo, dtype: int64"
      ]
     },
     "execution_count": 59,
     "metadata": {},
     "output_type": "execute_result"
    }
   ],
   "source": [
    "# las Witbier necesitan unificarse\n",
    "df_soloartesanas[df_soloartesanas[\"Estilo\"].str.contains(\"Wit\")][\"Estilo\"].value_counts()"
   ]
  },
  {
   "cell_type": "code",
   "execution_count": 60,
   "metadata": {},
   "outputs": [],
   "source": [
    "df_soloartesanas.loc[df_soloartesanas[\"Estilo\"].str.contains(\"Wit\"),[\"Estilo\"]]=' Witbier'"
   ]
  },
  {
   "cell_type": "code",
   "execution_count": 61,
   "metadata": {},
   "outputs": [
    {
     "data": {
      "text/plain": [
       " Weizen-Weissbier             7\n",
       " Weizen - Weissbier           7\n",
       " Weizen-Weissbier y Porter    2\n",
       " Weizen Weissbier             1\n",
       " Weissbier                    1\n",
       "Name: Estilo, dtype: int64"
      ]
     },
     "execution_count": 61,
     "metadata": {},
     "output_type": "execute_result"
    }
   ],
   "source": [
    "# detectamos que también hay que unificar \"Weizen - Weissbier\" y \"Weizen-Weissbier\"\n",
    "df_soloartesanas[df_soloartesanas[\"Estilo\"].str.contains(\"Weissbier\")][\"Estilo\"].value_counts()"
   ]
  },
  {
   "cell_type": "code",
   "execution_count": 62,
   "metadata": {},
   "outputs": [],
   "source": [
    "df_soloartesanas.loc[df_soloartesanas[\"Estilo\"].str.contains(\"Weizen-Weissbier\"),[\"Estilo\"]]=' Weizen Weissbier'\n",
    "df_soloartesanas.loc[df_soloartesanas[\"Estilo\"].str.contains(\"Weizen - Weissbier\"),[\"Estilo\"]]=' Weizen Weissbier'"
   ]
  },
  {
   "cell_type": "code",
   "execution_count": 63,
   "metadata": {},
   "outputs": [
    {
     "data": {
      "text/plain": [
       "141"
      ]
     },
     "execution_count": 63,
     "metadata": {},
     "output_type": "execute_result"
    }
   ],
   "source": [
    "df_soloartesanas[\"Estilo\"].nunique()"
   ]
  },
  {
   "cell_type": "markdown",
   "metadata": {},
   "source": [
    "Por tanto, tenemos todas las cervezas clasificadas en un total de 144 estilos posibles."
   ]
  },
  {
   "cell_type": "markdown",
   "metadata": {},
   "source": [
    "## La fermentación\n",
    "Las cervezas se clasifican en cuanto a su fermentación como Ale (alta), Lager (baja) y espontánea, aunque en esta base de datos encontramos que las cervezas vienen clasificadas en tres tipos: Ale, Lager y Mixta.\n",
    "Se ha detectado que hay 31 cervezas sin clasificar,pero que pueden ser identificadas por la información sobre su estilo. La mayoría de las cervezas tienen fermentación alta y entre ellas se encuentran las IPA, weizen, wit, stout y porter. Sin embargo, las de tipo rauchbier tienen fermentación baja."
   ]
  },
  {
   "cell_type": "code",
   "execution_count": 64,
   "metadata": {},
   "outputs": [
    {
     "data": {
      "text/plain": [
       "array(['Ale', 'Lager', nan, 'Mixta'], dtype=object)"
      ]
     },
     "execution_count": 64,
     "metadata": {},
     "output_type": "execute_result"
    }
   ],
   "source": [
    "df_soloartesanas[\"Fermentación\"].unique()"
   ]
  },
  {
   "cell_type": "code",
   "execution_count": 65,
   "metadata": {},
   "outputs": [
    {
     "name": "stdout",
     "output_type": "stream",
     "text": [
      "Sin dato: 31\n"
     ]
    },
    {
     "data": {
      "text/plain": [
       "Ale      376\n",
       "Lager     19\n",
       "Mixta      1\n",
       "Name: Fermentación, dtype: int64"
      ]
     },
     "execution_count": 65,
     "metadata": {},
     "output_type": "execute_result"
    }
   ],
   "source": [
    "print(\"Sin dato:\",df_soloartesanas[\"Fermentación\"].isna().sum())\n",
    "df_soloartesanas[\"Fermentación\"].value_counts()"
   ]
  },
  {
   "cell_type": "code",
   "execution_count": 66,
   "metadata": {},
   "outputs": [
    {
     "data": {
      "text/plain": [
       " Stout                                      2\n",
       " IPA                                        2\n",
       " Pale Ale                                   2\n",
       " Scotish Ale                                1\n",
       " American Brown Ale                         1\n",
       " Porter                                     1\n",
       " America Pale Ale                           1\n",
       " Belgian Golden Strong Ale                  1\n",
       " Sweet Stout                                1\n",
       " Rauchbier                                  1\n",
       " Black IPA                                  1\n",
       " Witbier                                    1\n",
       " Tropical IPA                               1\n",
       " Kölsch                                     1\n",
       " Double IPA                                 1\n",
       " Russian Imperial Stout & Imperial Stout    1\n",
       " Summer Fruit Ale                           1\n",
       " English Winter Ale                         1\n",
       " Abbey Dubbel                               1\n",
       " Weizen                                     1\n",
       " American IPA                               1\n",
       " Belgian Dubbel                             1\n",
       " Imperial Pale Ale                          1\n",
       " Ale                                        1\n",
       " Summer Ale                                 1\n",
       " American Amber Ale                         1\n",
       " Amber Ale                                  1\n",
       " Russian Imperial Stout                     1\n",
       "Name: Estilo, dtype: int64"
      ]
     },
     "execution_count": 66,
     "metadata": {},
     "output_type": "execute_result"
    }
   ],
   "source": [
    "# Para las que no tienen dato de fermentación ¿cuál es su estilo?\n",
    "df_soloartesanas.loc[(df_soloartesanas[\"Fermentación\"].isna()),\"Estilo\"].value_counts()"
   ]
  },
  {
   "cell_type": "code",
   "execution_count": 67,
   "metadata": {},
   "outputs": [
    {
     "name": "stdout",
     "output_type": "stream",
     "text": [
      "Sin dato: 0\n"
     ]
    },
    {
     "data": {
      "text/plain": [
       "Ale      406\n",
       "Lager     20\n",
       "Mixta      1\n",
       "Name: Fermentación, dtype: int64"
      ]
     },
     "execution_count": 67,
     "metadata": {},
     "output_type": "execute_result"
    }
   ],
   "source": [
    "# Las cervezas que tienen estilo \"Ale\", \"IPA\",\"Weizen\",\"Wit\",\"Stout\" y \"Porter\" son de fermentación Ale\n",
    "# Las tipo Rauchbier son asigno Lager\n",
    "\n",
    "# Como solamente hay 1 Rauchbier, actualizo esa con \"Lager\" \n",
    "df_soloartesanas.loc[(df_soloartesanas[\"Estilo\"].str.contains(\"Rauchbier\") & df_soloartesanas[\"Fermentación\"].isna()),[\"Fermentación\"]]='Lager'\n",
    "\n",
    "# y asigno a las demás \"Ale\"\n",
    "df_soloartesanas.loc[(df_soloartesanas[\"Fermentación\"].isna()),[\"Fermentación\"]]='Ale'\n",
    "\n",
    "# compruebo\n",
    "print(\"Sin dato:\",df_soloartesanas[\"Fermentación\"].isna().sum())\n",
    "df_soloartesanas[\"Fermentación\"].value_counts()"
   ]
  },
  {
   "cell_type": "markdown",
   "metadata": {},
   "source": [
    "Es decir, ya tenemos todas las cervezas con su tipo de fermentación."
   ]
  },
  {
   "cell_type": "markdown",
   "metadata": {},
   "source": [
    "## El amargor (IBU)\n",
    "El amargor es un rasgo característico de las cervezas y muy apreciado entre los entendidos. En nuestro conjunto de cervezas artesanas vemos que hay bastante información sobre esta propiedad, pero tenemos algunos casos sin el dato. Podemos calcularlo en función de su estilo siguiendo la información existente sobre el amargor medio en función del estilo de la cerveza.\n",
    "Para poder tratar este dato, primero vamos a unificarlo como float. Esto nos obliga a no tener nan en la columna, por lo que de momento vamos a usar un valor ficticio (999) para los faltantes y luego calcularemos su valor."
   ]
  },
  {
   "cell_type": "code",
   "execution_count": 68,
   "metadata": {},
   "outputs": [
    {
     "data": {
      "text/plain": [
       "array([' 60 IBUs', ' 38 IBUs', nan, ' 50 IBUs', ' 20 IBUs', ' 28 IBUs',\n",
       "       ' 12 IBUs', ' 10 IBUs', ' 35 IBUs', ' 26 IBUs', ' 30 IBUs',\n",
       "       ' 18 IBUs', ' 70 IBUs', ' 21 IBUs', ' 40 IBUs', ' 24 IBUs',\n",
       "       ' 13 IBUs', ' 44 IBUs', ' 23 IBUs', ' 31 IBUs', ' 45 IBUs',\n",
       "       ' 85 IBUs', ' 65 IBUs', ' 52 IBUs', ' 100 IBUs', ' 25 IBUs',\n",
       "       ' 48 IBUs', ' 22 IBUs', ' 42 IBUs', ' 14 IBUs', ' 47 IBUs',\n",
       "       ' 75 IBUs', ' 27 IBUs', ' 66 IBUs', ' 49 IBUs', ' 130 IBUs',\n",
       "       ' 13,8 IBUs', ' 110 IBUs', ' 37 IBUs', ' 46 IBUs', ' 17,9 IBUs',\n",
       "       ' 55 IBUs', ' 32 IBUs', ' 15 IBUs', ' 39 IBUs', ' 54 IBUs',\n",
       "       ' 8 IBUs', ' 19 IBUs', ' 11 IBUs', ' 80 IBUs', ' 56 IBUs',\n",
       "       ' 29 IBUs', ' 120 IBUs', ' 59 IBUs', ' 23,5 IBUs', ' 36 IBUs',\n",
       "       ' ND IBUs', ' 17 IBUs', ' 34 IBUs', ' 22,4 IBUs', ' 41 IBUs',\n",
       "       ' 43 IBUs', ' 57,7 IBUs', ' 84 IBUs', ' 62 IBUs', ' 33 IBUs',\n",
       "       ' 90 IBUs', ' 15.2 IBUs', ' 72 IBUs', ' 69 IBUs', ' 64 IBUs',\n",
       "       ' 92 IBUs', ' 9,9 IBUs', ' 150 IBUs'], dtype=object)"
      ]
     },
     "execution_count": 68,
     "metadata": {},
     "output_type": "execute_result"
    }
   ],
   "source": [
    "df_soloartesanas[\"IBU\"].unique()"
   ]
  },
  {
   "cell_type": "code",
   "execution_count": 69,
   "metadata": {},
   "outputs": [
    {
     "data": {
      "text/plain": [
       " 25 IBUs      27\n",
       " 40 IBUs      17\n",
       " 30 IBUs      16\n",
       " 20 IBUs      14\n",
       " 35 IBUs      12\n",
       "              ..\n",
       " 92 IBUs       1\n",
       " 22,4 IBUs     1\n",
       " 84 IBUs       1\n",
       " 9,9 IBUs      1\n",
       " 90 IBUs       1\n",
       "Name: IBU, Length: 73, dtype: int64"
      ]
     },
     "execution_count": 69,
     "metadata": {},
     "output_type": "execute_result"
    }
   ],
   "source": [
    "df_soloartesanas[\"IBU\"].value_counts()"
   ]
  },
  {
   "cell_type": "code",
   "execution_count": 70,
   "metadata": {},
   "outputs": [
    {
     "data": {
      "text/plain": [
       "array([ 60. ,  38. , 999. ,  50. ,  20. ,  28. ,  12. ,  10. ,  35. ,\n",
       "        26. ,  30. ,  18. ,  70. ,  21. ,  40. ,  24. ,  13. ,  44. ,\n",
       "        23. ,  31. ,  45. ,  85. ,  65. ,  52. , 100. ,  25. ,  48. ,\n",
       "        22. ,  42. ,  14. ,  47. ,  75. ,  27. ,  66. ,  49. , 130. ,\n",
       "        13.8, 110. ,  37. ,  46. ,  17.9,  55. ,  32. ,  15. ,  39. ,\n",
       "        54. ,   8. ,  19. ,  11. ,  80. ,  56. ,  29. , 120. ,  59. ,\n",
       "        23.5,  36. ,  17. ,  34. ,  22.4,  41. ,  43. ,  57.7,  84. ,\n",
       "        62. ,  33. ,  90. ,  15.2,  72. ,  69. ,  64. ,  92. ,   9.9,\n",
       "       150. ])"
      ]
     },
     "execution_count": 70,
     "metadata": {},
     "output_type": "execute_result"
    }
   ],
   "source": [
    "# limpio IBUS para dejar solo los números\n",
    "\n",
    "# Valor ficticio(999) para evitar errores con los NAN\n",
    "df_soloartesanas['IBU']=df_soloartesanas['IBU'].fillna(\"999\")\n",
    "\n",
    "# sustituir comas por puntos\n",
    "df_soloartesanas['IBU']=df_soloartesanas['IBU'].apply(lambda x: x.replace(',','.'))\n",
    "\n",
    "# extraer el dato numérico (nums antes y después de .)\n",
    "df_soloartesanas['IBU']=df_soloartesanas['IBU'].str.extract(r\"(\\d+(.\\d+){0,1})\", expand=True)[0]\n",
    "\n",
    "# transformar en float\n",
    "df_soloartesanas['IBU']=df_soloartesanas['IBU'].fillna(\"999\")\n",
    "df_soloartesanas['IBU']=df_soloartesanas['IBU'].astype('float64')\n",
    "df_soloartesanas['IBU'].unique()"
   ]
  },
  {
   "cell_type": "code",
   "execution_count": 71,
   "metadata": {},
   "outputs": [
    {
     "data": {
      "text/plain": [
       " Pale Ale               17\n",
       " Weizen Weissbier       11\n",
       " India Pale Ale          7\n",
       " Red Ale                 6\n",
       " America Pale Ale        6\n",
       "                        ..\n",
       " Steam Pilsner           1\n",
       " Wheat Ale Ecológica     1\n",
       " Trigo Premium           1\n",
       " Bávaro                  1\n",
       " Old Ale                 1\n",
       "Name: Estilo, Length: 74, dtype: int64"
      ]
     },
     "execution_count": 71,
     "metadata": {},
     "output_type": "execute_result"
    }
   ],
   "source": [
    "# ¿De qué estilo son las cervezas que no tienen dato de IBU?\n",
    "df_soloartesanas.loc[(df_soloartesanas[\"IBU\"]==999),\"Estilo\"].value_counts()"
   ]
  },
  {
   "cell_type": "code",
   "execution_count": 72,
   "metadata": {},
   "outputs": [
    {
     "data": {
      "text/html": [
       "<div>\n",
       "<style scoped>\n",
       "    .dataframe tbody tr th:only-of-type {\n",
       "        vertical-align: middle;\n",
       "    }\n",
       "\n",
       "    .dataframe tbody tr th {\n",
       "        vertical-align: top;\n",
       "    }\n",
       "\n",
       "    .dataframe thead th {\n",
       "        text-align: right;\n",
       "    }\n",
       "</style>\n",
       "<table border=\"1\" class=\"dataframe\">\n",
       "  <thead>\n",
       "    <tr style=\"text-align: right;\">\n",
       "      <th></th>\n",
       "      <th>IBU</th>\n",
       "    </tr>\n",
       "    <tr>\n",
       "      <th>Estilo</th>\n",
       "      <th></th>\n",
       "    </tr>\n",
       "  </thead>\n",
       "  <tbody>\n",
       "    <tr>\n",
       "      <th>Abbey Dubbel</th>\n",
       "      <td>21.000000</td>\n",
       "    </tr>\n",
       "    <tr>\n",
       "      <th>Aged Belgian Ale</th>\n",
       "      <td>22.000000</td>\n",
       "    </tr>\n",
       "    <tr>\n",
       "      <th>Aged Scottish Ale</th>\n",
       "      <td>25.000000</td>\n",
       "    </tr>\n",
       "    <tr>\n",
       "      <th>Ale</th>\n",
       "      <td>20.750000</td>\n",
       "    </tr>\n",
       "    <tr>\n",
       "      <th>Altbier</th>\n",
       "      <td>36.000000</td>\n",
       "    </tr>\n",
       "    <tr>\n",
       "      <th>...</th>\n",
       "      <td>...</td>\n",
       "    </tr>\n",
       "    <tr>\n",
       "      <th>White IPA</th>\n",
       "      <td>50.000000</td>\n",
       "    </tr>\n",
       "    <tr>\n",
       "      <th>Winter Ale</th>\n",
       "      <td>20.000000</td>\n",
       "    </tr>\n",
       "    <tr>\n",
       "      <th>Winter Honey Ale (Elaborada con Miel de Romero)</th>\n",
       "      <td>14.000000</td>\n",
       "    </tr>\n",
       "    <tr>\n",
       "      <th>Witbier</th>\n",
       "      <td>17.714286</td>\n",
       "    </tr>\n",
       "    <tr>\n",
       "      <th>Wood Aged Beer</th>\n",
       "      <td>60.000000</td>\n",
       "    </tr>\n",
       "  </tbody>\n",
       "</table>\n",
       "<p>106 rows × 1 columns</p>\n",
       "</div>"
      ],
      "text/plain": [
       "                                                        IBU\n",
       "Estilo                                                     \n",
       " Abbey Dubbel                                     21.000000\n",
       " Aged Belgian Ale                                 22.000000\n",
       " Aged Scottish Ale                                25.000000\n",
       " Ale                                              20.750000\n",
       " Altbier                                          36.000000\n",
       "...                                                     ...\n",
       " White IPA                                        50.000000\n",
       " Winter Ale                                       20.000000\n",
       " Winter Honey Ale (Elaborada con Miel de Romero)  14.000000\n",
       " Witbier                                          17.714286\n",
       " Wood Aged Beer                                   60.000000\n",
       "\n",
       "[106 rows x 1 columns]"
      ]
     },
     "execution_count": 72,
     "metadata": {},
     "output_type": "execute_result"
    }
   ],
   "source": [
    "# Vamos a calcular la media de IBUs de estos estilos \n",
    "df_Sin_IBU=df_soloartesanas.loc[(df_soloartesanas[\"IBU\"]!=999),(\"Estilo\",\"IBU\")]\n",
    "df_IBU_mean_by_Estilo=df_Sin_IBU.groupby(\"Estilo\").mean()\n",
    "df_IBU_mean_by_Estilo"
   ]
  },
  {
   "cell_type": "markdown",
   "metadata": {},
   "source": [
    "Según esta consulta, tenemos 107 estilos de cervezas con sus correspondientes valores medios de IBU. Pero en total contamos con 144 estilos, es decir, hay 37 tipos de cervezas de las que no tenemos ningún dato de IBU por lo que no podemos calcular su valor mediante este procedimiento."
   ]
  },
  {
   "cell_type": "code",
   "execution_count": 73,
   "metadata": {},
   "outputs": [
    {
     "data": {
      "text/plain": [
       "1       60.0\n",
       "2       38.0\n",
       "3      999.0\n",
       "4      999.0\n",
       "5       50.0\n",
       "       ...  \n",
       "430    999.0\n",
       "431    999.0\n",
       "432     24.0\n",
       "433    999.0\n",
       "434    999.0\n",
       "Name: IBU, Length: 427, dtype: float64"
      ]
     },
     "execution_count": 73,
     "metadata": {},
     "output_type": "execute_result"
    }
   ],
   "source": [
    "df_soloartesanas[\"IBU\"]"
   ]
  },
  {
   "cell_type": "code",
   "execution_count": 74,
   "metadata": {},
   "outputs": [],
   "source": [
    "# volvemos a cargar los nan en los datos falsos (999) para usar fillna\n",
    "df_soloartesanas[\"IBU\"]=df_soloartesanas[\"IBU\"].where(df_soloartesanas[\"IBU\"]!=999.0,np.nan)"
   ]
  },
  {
   "cell_type": "code",
   "execution_count": 75,
   "metadata": {},
   "outputs": [
    {
     "data": {
      "text/plain": [
       "array([ 60. ,  38. ,  28.8,  17.1,  50. ,  20. ,  28. ,  12. ,  10. ,\n",
       "        35. ,  57.8,  45.7,  26. ,  30. ,  18. ,  70. ,  21. ,  40. ,\n",
       "        24. ,  13. ,  44. ,  23. ,  31. ,  45. ,  85. ,  65. ,  52. ,\n",
       "       100. ,  25. ,  92. ,  48. ,  22. ,  42. ,  14. ,  47. ,  75. ,\n",
       "         nan,  27. ,  66. ,  49. , 130. ,  13.8, 110. ,  37. ,  46. ,\n",
       "        17.9,  33.8,  55. ,  19.6,  32. ,  15. ,  39. ,  54. ,  26.7,\n",
       "        29.5,   8. ,  19. ,  11. ,  80. ,  22.8,  17.7,  65.8,  56. ,\n",
       "        29. , 120. ,  59. ,  23.5,  36. ,  38.4,  17. ,  34. ,  27.3,\n",
       "        22.4,  41. ,  43. ,  57.7,  31.9,  84. ,  62. ,  33. ,  55.8,\n",
       "        35.1,  32.6,  90. ,  70.7,  15.2,  69.5,  43.6,  67.5,  39.5,\n",
       "        72. ,  69. ,  20.8,  64. ,   9.9,  53.5, 150. ])"
      ]
     },
     "execution_count": 75,
     "metadata": {},
     "output_type": "execute_result"
    }
   ],
   "source": [
    "# asignamos la media de IBU en función del estilo a los registros con dato de IBU = 999\n",
    "df_soloartesanas[\"IBU\"] = df_soloartesanas.groupby(['Estilo'])['IBU'].transform(lambda x: x.fillna(round(x.mean(),1)))\n",
    "#df_soloartesanas[\"IBU\"] = df_soloartesanas.groupby(['Estilo'])['IBU'].transform(lambda x: x.fillna(x.mean()))\n",
    "df_soloartesanas[\"IBU\"].unique()"
   ]
  },
  {
   "cell_type": "code",
   "execution_count": 76,
   "metadata": {},
   "outputs": [
    {
     "data": {
      "text/plain": [
       "37"
      ]
     },
     "execution_count": 76,
     "metadata": {},
     "output_type": "execute_result"
    }
   ],
   "source": [
    "df_soloartesanas[\"IBU\"].isna().sum()"
   ]
  },
  {
   "cell_type": "markdown",
   "metadata": {},
   "source": [
    "Aún tenemos 40 cervezas sin valor de IBU porque no se pudo imputar la media de su estilo (posiblemente porque son las únicas cervezas de ese estilo). Ya que no tenemos suficientes registros para tratar de completar el dato mediante machine learning, optamos por eliminarlos para dejar un listado lo más completo posible."
   ]
  },
  {
   "cell_type": "code",
   "execution_count": 77,
   "metadata": {},
   "outputs": [
    {
     "name": "stdout",
     "output_type": "stream",
     "text": [
      "<class 'pandas.core.frame.DataFrame'>\n",
      "Int64Index: 390 entries, 1 to 434\n",
      "Data columns (total 19 columns):\n",
      " #   Column                             Non-Null Count  Dtype  \n",
      "---  ------                             --------------  -----  \n",
      " 0   id                                 390 non-null    int64  \n",
      " 1   color                              390 non-null    object \n",
      " 2   name                               390 non-null    object \n",
      " 3   brand                              390 non-null    object \n",
      " 4   description                        390 non-null    object \n",
      " 5   image                              390 non-null    object \n",
      " 6   Estilo                             390 non-null    object \n",
      " 7   Graduación                         377 non-null    object \n",
      " 8   Fermentación                       390 non-null    object \n",
      " 9   IBU                                390 non-null    float64\n",
      " 10  Lúpulos                            91 non-null     object \n",
      " 11  European Brewing Convention (EBC)  101 non-null    object \n",
      " 12  Maltas                             80 non-null     object \n",
      " 13  Temperatura de consumo             123 non-null    object \n",
      " 14  Grano                              280 non-null    object \n",
      " 15  Población                          390 non-null    object \n",
      " 16  Provincia                          390 non-null    object \n",
      " 17  Comunidad Autónoma                 390 non-null    object \n",
      " 18  País                               390 non-null    object \n",
      "dtypes: float64(1), int64(1), object(17)\n",
      "memory usage: 60.9+ KB\n"
     ]
    }
   ],
   "source": [
    "df_soloartesanas.dropna(subset=['IBU'],inplace=True)\n",
    "df_soloartesanas.info()"
   ]
  },
  {
   "cell_type": "code",
   "execution_count": null,
   "metadata": {},
   "outputs": [],
   "source": []
  },
  {
   "cell_type": "code",
   "execution_count": null,
   "metadata": {},
   "outputs": [],
   "source": []
  },
  {
   "cell_type": "markdown",
   "metadata": {},
   "source": [
    "## Graduación o porcentaje de alcohol\n",
    "Otro de los rasgos que definen a una cerveza es su grado de alcohol. Este dato viene también incompleto y con distintas representaciones no numéricas. Hay que unificarlo y tratar de obtener los datos que faltan."
   ]
  },
  {
   "cell_type": "code",
   "execution_count": null,
   "metadata": {},
   "outputs": [],
   "source": []
  },
  {
   "cell_type": "code",
   "execution_count": 78,
   "metadata": {},
   "outputs": [],
   "source": [
    "# Modifico la columna de porcentaje de alcohol (ahora es texto) para dejar graduación como float\n",
    "\n",
    "# Valor ficticio(999) para evitar errores con los NAN\n",
    "df_soloartesanas['Graduación']=df_soloartesanas['Graduación'].fillna(\"999\")\n",
    "\n",
    "# sustituir comas por puntos\n",
    "df_soloartesanas['Graduación']=df_soloartesanas['Graduación'].apply(lambda x: x.replace(',','.'))\n",
    "\n",
    "# extraer el dato numérico (nums antes y después de .)\n",
    "df_soloartesanas['Graduación'] = df_soloartesanas[\"Graduación\"].str.extract(r\"(\\d+(.\\d+){0,1})\", expand=True)[0]\n",
    "\n",
    "# transformar en float\n",
    "df_soloartesanas['Graduación']=df_soloartesanas['Graduación'].astype('float64')"
   ]
  },
  {
   "cell_type": "code",
   "execution_count": 79,
   "metadata": {},
   "outputs": [
    {
     "data": {
      "text/plain": [
       "array([  8.2 ,   6.  ,   5.7 ,   4.7 ,   6.6 ,   5.4 ,   4.5 ,   3.1 ,\n",
       "         5.8 ,   6.7 ,   3.6 ,   5.1 ,   5.2 ,   5.5 ,   6.8 ,   5.6 ,\n",
       "         6.2 ,   5.  ,   6.5 ,   6.4 ,   8.5 ,   5.3 ,   7.9 ,   4.3 ,\n",
       "         8.7 ,   7.5 ,   5.9 ,   4.4 ,   4.  ,   7.2 ,   9.  ,   7.6 ,\n",
       "         8.  ,   7.1 ,   4.9 ,   9.3 , 999.  ,   4.2 ,   7.  ,   4.8 ,\n",
       "         4.6 ,   6.1 ,  10.1 ,   2.5 ,   6.3 ,   6.9 ,   3.5 ,   2.6 ,\n",
       "         7.3 ,  14.  ,   9.5 ,   7.8 ,  10.5 ,  11.  ,  11.2 ,  10.4 ,\n",
       "         5.85])"
      ]
     },
     "execution_count": 79,
     "metadata": {},
     "output_type": "execute_result"
    }
   ],
   "source": [
    "df_soloartesanas['Graduación'].unique()"
   ]
  },
  {
   "cell_type": "code",
   "execution_count": 80,
   "metadata": {},
   "outputs": [
    {
     "data": {
      "text/plain": [
       "5.50      39\n",
       "5.00      39\n",
       "4.50      27\n",
       "5.20      21\n",
       "6.00      20\n",
       "5.80      16\n",
       "4.80      16\n",
       "999.00    13\n",
       "6.50      13\n",
       "7.00      12\n",
       "5.40      12\n",
       "6.20      12\n",
       "4.70      12\n",
       "5.60      11\n",
       "7.50      11\n",
       "8.00       9\n",
       "6.40       7\n",
       "5.30       7\n",
       "5.10       6\n",
       "4.00       6\n",
       "8.50       6\n",
       "4.20       5\n",
       "6.70       5\n",
       "4.90       4\n",
       "6.10       4\n",
       "4.30       4\n",
       "6.60       4\n",
       "9.00       4\n",
       "6.80       4\n",
       "6.30       3\n",
       "5.70       3\n",
       "7.20       3\n",
       "4.60       3\n",
       "8.20       2\n",
       "5.90       2\n",
       "7.10       2\n",
       "4.40       2\n",
       "3.50       2\n",
       "14.00      1\n",
       "10.10      1\n",
       "7.30       1\n",
       "2.50       1\n",
       "7.90       1\n",
       "9.50       1\n",
       "10.50      1\n",
       "11.00      1\n",
       "6.90       1\n",
       "10.40      1\n",
       "5.85       1\n",
       "3.10       1\n",
       "7.80       1\n",
       "3.60       1\n",
       "2.60       1\n",
       "8.70       1\n",
       "7.60       1\n",
       "11.20      1\n",
       "9.30       1\n",
       "Name: Graduación, dtype: int64"
      ]
     },
     "execution_count": 80,
     "metadata": {},
     "output_type": "execute_result"
    }
   ],
   "source": [
    "df_soloartesanas['Graduación'].value_counts()"
   ]
  },
  {
   "cell_type": "code",
   "execution_count": 81,
   "metadata": {},
   "outputs": [
    {
     "data": {
      "text/html": [
       "<div>\n",
       "<style scoped>\n",
       "    .dataframe tbody tr th:only-of-type {\n",
       "        vertical-align: middle;\n",
       "    }\n",
       "\n",
       "    .dataframe tbody tr th {\n",
       "        vertical-align: top;\n",
       "    }\n",
       "\n",
       "    .dataframe thead th {\n",
       "        text-align: right;\n",
       "    }\n",
       "</style>\n",
       "<table border=\"1\" class=\"dataframe\">\n",
       "  <thead>\n",
       "    <tr style=\"text-align: right;\">\n",
       "      <th></th>\n",
       "      <th>id</th>\n",
       "      <th>color</th>\n",
       "      <th>name</th>\n",
       "      <th>brand</th>\n",
       "      <th>description</th>\n",
       "      <th>image</th>\n",
       "      <th>Estilo</th>\n",
       "      <th>Graduación</th>\n",
       "      <th>Fermentación</th>\n",
       "      <th>IBU</th>\n",
       "      <th>Lúpulos</th>\n",
       "      <th>European Brewing Convention (EBC)</th>\n",
       "      <th>Maltas</th>\n",
       "      <th>Temperatura de consumo</th>\n",
       "      <th>Grano</th>\n",
       "      <th>Población</th>\n",
       "      <th>Provincia</th>\n",
       "      <th>Comunidad Autónoma</th>\n",
       "      <th>País</th>\n",
       "    </tr>\n",
       "  </thead>\n",
       "  <tbody>\n",
       "    <tr>\n",
       "      <th>88</th>\n",
       "      <td>89</td>\n",
       "      <td>rubia</td>\n",
       "      <td>Naparbier Insider</td>\n",
       "      <td>(cervezas artesanas Naparbier)</td>\n",
       "      <td>\\nInsider es una IPA anaranjada elaborada por ...</td>\n",
       "      <td>https://static2.soloartesanas.es/2722-large_de...</td>\n",
       "      <td>India Pale Ale</td>\n",
       "      <td>999.0</td>\n",
       "      <td>Ale</td>\n",
       "      <td>57.8</td>\n",
       "      <td>NaN</td>\n",
       "      <td>NaN</td>\n",
       "      <td>NaN</td>\n",
       "      <td>NaN</td>\n",
       "      <td>Cebada</td>\n",
       "      <td>Mutilva Baja</td>\n",
       "      <td>Navarra</td>\n",
       "      <td>Navarra</td>\n",
       "      <td>España</td>\n",
       "    </tr>\n",
       "    <tr>\n",
       "      <th>97</th>\n",
       "      <td>98</td>\n",
       "      <td>rubia</td>\n",
       "      <td>Dougall's Happy Otter</td>\n",
       "      <td>(cervezas artesanas Dougall's)</td>\n",
       "      <td>\\nCerveza de temporada de Dougalls. Una Pale A...</td>\n",
       "      <td>https://static3.soloartesanas.es/1719-large_de...</td>\n",
       "      <td>Pale Ale</td>\n",
       "      <td>999.0</td>\n",
       "      <td>Ale</td>\n",
       "      <td>28.8</td>\n",
       "      <td>NaN</td>\n",
       "      <td>NaN</td>\n",
       "      <td>NaN</td>\n",
       "      <td>NaN</td>\n",
       "      <td>Cebada</td>\n",
       "      <td>Liérganes</td>\n",
       "      <td>Cantabria</td>\n",
       "      <td>Cantabria</td>\n",
       "      <td>España</td>\n",
       "    </tr>\n",
       "    <tr>\n",
       "      <th>145</th>\n",
       "      <td>146</td>\n",
       "      <td>rubia</td>\n",
       "      <td>Vier IPA</td>\n",
       "      <td>(cervezas artesanas Cervezas Vier)</td>\n",
       "      <td>\\nAnte tienes una cerveza artesana de estilo I...</td>\n",
       "      <td>https://static3.soloartesanas.es/1006-large_de...</td>\n",
       "      <td>India Pale Ale</td>\n",
       "      <td>999.0</td>\n",
       "      <td>Ale</td>\n",
       "      <td>57.8</td>\n",
       "      <td>NaN</td>\n",
       "      <td>NaN</td>\n",
       "      <td>NaN</td>\n",
       "      <td>8-12ºC</td>\n",
       "      <td>Cebada</td>\n",
       "      <td>Valladolid</td>\n",
       "      <td>Valladolid</td>\n",
       "      <td>Castilla y León</td>\n",
       "      <td>España</td>\n",
       "    </tr>\n",
       "    <tr>\n",
       "      <th>172</th>\n",
       "      <td>173</td>\n",
       "      <td>rubia</td>\n",
       "      <td>Arriaca Trigo</td>\n",
       "      <td>(cervezas artesanas Cervezas Arriaca)</td>\n",
       "      <td>\\nArrica Trigo es una de las cervezas artesana...</td>\n",
       "      <td>https://static2.soloartesanas.es/3440-large_de...</td>\n",
       "      <td>Weizen Weissbier</td>\n",
       "      <td>999.0</td>\n",
       "      <td>Ale</td>\n",
       "      <td>17.1</td>\n",
       "      <td>NaN</td>\n",
       "      <td>NaN</td>\n",
       "      <td>NaN</td>\n",
       "      <td>NaN</td>\n",
       "      <td>Trigo</td>\n",
       "      <td>Yunquera de Henares</td>\n",
       "      <td>Guadalajara</td>\n",
       "      <td>Castilla-La Mancha</td>\n",
       "      <td>España</td>\n",
       "    </tr>\n",
       "    <tr>\n",
       "      <th>197</th>\n",
       "      <td>198</td>\n",
       "      <td>rubia</td>\n",
       "      <td>Mesopotamia Pale Ale</td>\n",
       "      <td>(cervezas artesanas Abadía de Aribayos)</td>\n",
       "      <td>\\nLa cerveza artesana Mesopotamia Pale Ale que...</td>\n",
       "      <td>https://static2.soloartesanas.es/702-large_def...</td>\n",
       "      <td>Cream Ale</td>\n",
       "      <td>999.0</td>\n",
       "      <td>Ale</td>\n",
       "      <td>47.0</td>\n",
       "      <td>NaN</td>\n",
       "      <td>NaN</td>\n",
       "      <td>NaN</td>\n",
       "      <td>NaN</td>\n",
       "      <td>Cebada</td>\n",
       "      <td>Moraleja del Vino</td>\n",
       "      <td>Zamora</td>\n",
       "      <td>Andalucía</td>\n",
       "      <td>España</td>\n",
       "    </tr>\n",
       "    <tr>\n",
       "      <th>279</th>\n",
       "      <td>280</td>\n",
       "      <td>tostada</td>\n",
       "      <td>Odiel Tostada de trigo</td>\n",
       "      <td>(cervezas artesanas Cerveza Odiel)</td>\n",
       "      <td>\\nUna cerveza tostada de trigo que no se ciñe ...</td>\n",
       "      <td>https://static2.soloartesanas.es/2243-large_de...</td>\n",
       "      <td>Düsseldorf Altbier</td>\n",
       "      <td>999.0</td>\n",
       "      <td>Ale</td>\n",
       "      <td>37.0</td>\n",
       "      <td>NaN</td>\n",
       "      <td>NaN</td>\n",
       "      <td>NaN</td>\n",
       "      <td>NaN</td>\n",
       "      <td>Trigo</td>\n",
       "      <td>Valverde del Camino</td>\n",
       "      <td>Huelva</td>\n",
       "      <td>Andalucía</td>\n",
       "      <td>España</td>\n",
       "    </tr>\n",
       "    <tr>\n",
       "      <th>293</th>\n",
       "      <td>294</td>\n",
       "      <td>tostada</td>\n",
       "      <td>Pedraforca Torrada</td>\n",
       "      <td>(cervezas artesanas La Cervesera del Pedraforca)</td>\n",
       "      <td>\\nUna cerveza artesana con aroma, cuerpo y el ...</td>\n",
       "      <td>https://static1.soloartesanas.es/1490-large_de...</td>\n",
       "      <td>Brown Ale</td>\n",
       "      <td>999.0</td>\n",
       "      <td>Ale</td>\n",
       "      <td>30.0</td>\n",
       "      <td>NaN</td>\n",
       "      <td>NaN</td>\n",
       "      <td>NaN</td>\n",
       "      <td>NaN</td>\n",
       "      <td>Cebada</td>\n",
       "      <td>Saldes</td>\n",
       "      <td>Barcelona</td>\n",
       "      <td>Cataluña</td>\n",
       "      <td>España</td>\n",
       "    </tr>\n",
       "    <tr>\n",
       "      <th>353</th>\n",
       "      <td>354</td>\n",
       "      <td>negra</td>\n",
       "      <td>Arriaca Imperial Russian Stout</td>\n",
       "      <td>(cervezas artesanas Cervezas Arriaca)</td>\n",
       "      <td>\\nUna cerveza negra de tipo Ale con una gradua...</td>\n",
       "      <td>https://static3.soloartesanas.es/3446-large_de...</td>\n",
       "      <td>Russian Imperial Stout</td>\n",
       "      <td>999.0</td>\n",
       "      <td>Ale</td>\n",
       "      <td>70.7</td>\n",
       "      <td>NaN</td>\n",
       "      <td>NaN</td>\n",
       "      <td>NaN</td>\n",
       "      <td>NaN</td>\n",
       "      <td>NaN</td>\n",
       "      <td>Yunquera de Henares</td>\n",
       "      <td>Guadalajara</td>\n",
       "      <td>Castilla-La Mancha</td>\n",
       "      <td>España</td>\n",
       "    </tr>\n",
       "    <tr>\n",
       "      <th>376</th>\n",
       "      <td>377</td>\n",
       "      <td>negra</td>\n",
       "      <td>Quer Pacific Gem</td>\n",
       "      <td>(cervezas artesanas Quer Beer)</td>\n",
       "      <td>\\nPacific Gem es la cerveza artesana negra de ...</td>\n",
       "      <td>https://static1.soloartesanas.es/990-large_def...</td>\n",
       "      <td>Stout</td>\n",
       "      <td>999.0</td>\n",
       "      <td>Ale</td>\n",
       "      <td>33.0</td>\n",
       "      <td>NaN</td>\n",
       "      <td>40-45</td>\n",
       "      <td>Pale, Chocolate, Carafa, Roasted Barley, Caram...</td>\n",
       "      <td>NaN</td>\n",
       "      <td>Cebada</td>\n",
       "      <td>Berga</td>\n",
       "      <td>Barcelona</td>\n",
       "      <td>Cataluña</td>\n",
       "      <td>España</td>\n",
       "    </tr>\n",
       "    <tr>\n",
       "      <th>386</th>\n",
       "      <td>387</td>\n",
       "      <td>negra</td>\n",
       "      <td>Arriaca Porter</td>\n",
       "      <td>(cervezas artesanas Cervezas Arriaca)</td>\n",
       "      <td>\\nArrica Porter es una de las cervezas artesan...</td>\n",
       "      <td>https://static1.soloartesanas.es/3442-large_de...</td>\n",
       "      <td>Imperial Stout</td>\n",
       "      <td>999.0</td>\n",
       "      <td>Ale</td>\n",
       "      <td>69.5</td>\n",
       "      <td>NaN</td>\n",
       "      <td>NaN</td>\n",
       "      <td>NaN</td>\n",
       "      <td>NaN</td>\n",
       "      <td>Cebada</td>\n",
       "      <td>Yunquera de Henares</td>\n",
       "      <td>Guadalajara</td>\n",
       "      <td>Castilla-La Mancha</td>\n",
       "      <td>España</td>\n",
       "    </tr>\n",
       "    <tr>\n",
       "      <th>404</th>\n",
       "      <td>405</td>\n",
       "      <td>negra</td>\n",
       "      <td>Juliett</td>\n",
       "      <td>(cervezas artesanas L'anjub)</td>\n",
       "      <td>\\nL'anjub elabora de forma artesanal la cervez...</td>\n",
       "      <td>https://static2.soloartesanas.es/2742-large_de...</td>\n",
       "      <td>Extra Stout</td>\n",
       "      <td>999.0</td>\n",
       "      <td>Ale</td>\n",
       "      <td>92.0</td>\n",
       "      <td>NaN</td>\n",
       "      <td>NaN</td>\n",
       "      <td>NaN</td>\n",
       "      <td>NaN</td>\n",
       "      <td>Cebada</td>\n",
       "      <td>Flix</td>\n",
       "      <td>Tarragona</td>\n",
       "      <td>Cataluña</td>\n",
       "      <td>España</td>\n",
       "    </tr>\n",
       "    <tr>\n",
       "      <th>419</th>\n",
       "      <td>420</td>\n",
       "      <td>roja</td>\n",
       "      <td>Nómada Estepa</td>\n",
       "      <td>(cervezas artesanas Nómada Brewing)</td>\n",
       "      <td>\\nNómada Estepa es la cerveza Farmhouse Red Ho...</td>\n",
       "      <td>https://static1.soloartesanas.es/1765-large_de...</td>\n",
       "      <td>Red Ale</td>\n",
       "      <td>999.0</td>\n",
       "      <td>Ale</td>\n",
       "      <td>53.5</td>\n",
       "      <td>NaN</td>\n",
       "      <td>NaN</td>\n",
       "      <td>NaN</td>\n",
       "      <td>NaN</td>\n",
       "      <td>Cebada</td>\n",
       "      <td>Barcelona</td>\n",
       "      <td>Barcelona</td>\n",
       "      <td>Cataluña</td>\n",
       "      <td>España</td>\n",
       "    </tr>\n",
       "    <tr>\n",
       "      <th>428</th>\n",
       "      <td>429</td>\n",
       "      <td>roja</td>\n",
       "      <td>Arriaca IPA</td>\n",
       "      <td>(cervezas artesanas Cervezas Arriaca)</td>\n",
       "      <td>\\nArrica IPA es una de las cervezas artesanas ...</td>\n",
       "      <td>https://static2.soloartesanas.es/3441-large_de...</td>\n",
       "      <td>Red IPA</td>\n",
       "      <td>999.0</td>\n",
       "      <td>Ale</td>\n",
       "      <td>75.0</td>\n",
       "      <td>NaN</td>\n",
       "      <td>NaN</td>\n",
       "      <td>NaN</td>\n",
       "      <td>NaN</td>\n",
       "      <td>Cebada</td>\n",
       "      <td>Yunquera de Henares</td>\n",
       "      <td>Guadalajara</td>\n",
       "      <td>Castilla-La Mancha</td>\n",
       "      <td>España</td>\n",
       "    </tr>\n",
       "  </tbody>\n",
       "</table>\n",
       "</div>"
      ],
      "text/plain": [
       "      id    color                            name  \\\n",
       "88    89    rubia               Naparbier Insider   \n",
       "97    98    rubia           Dougall's Happy Otter   \n",
       "145  146    rubia                        Vier IPA   \n",
       "172  173    rubia                   Arriaca Trigo   \n",
       "197  198    rubia            Mesopotamia Pale Ale   \n",
       "279  280  tostada          Odiel Tostada de trigo   \n",
       "293  294  tostada              Pedraforca Torrada   \n",
       "353  354    negra  Arriaca Imperial Russian Stout   \n",
       "376  377    negra                Quer Pacific Gem   \n",
       "386  387    negra                  Arriaca Porter   \n",
       "404  405    negra                         Juliett   \n",
       "419  420     roja                   Nómada Estepa   \n",
       "428  429     roja                     Arriaca IPA   \n",
       "\n",
       "                                                brand  \\\n",
       "88                     (cervezas artesanas Naparbier)   \n",
       "97                     (cervezas artesanas Dougall's)   \n",
       "145                (cervezas artesanas Cervezas Vier)   \n",
       "172             (cervezas artesanas Cervezas Arriaca)   \n",
       "197           (cervezas artesanas Abadía de Aribayos)   \n",
       "279                (cervezas artesanas Cerveza Odiel)   \n",
       "293  (cervezas artesanas La Cervesera del Pedraforca)   \n",
       "353             (cervezas artesanas Cervezas Arriaca)   \n",
       "376                    (cervezas artesanas Quer Beer)   \n",
       "386             (cervezas artesanas Cervezas Arriaca)   \n",
       "404                      (cervezas artesanas L'anjub)   \n",
       "419               (cervezas artesanas Nómada Brewing)   \n",
       "428             (cervezas artesanas Cervezas Arriaca)   \n",
       "\n",
       "                                           description  \\\n",
       "88   \\nInsider es una IPA anaranjada elaborada por ...   \n",
       "97   \\nCerveza de temporada de Dougalls. Una Pale A...   \n",
       "145  \\nAnte tienes una cerveza artesana de estilo I...   \n",
       "172  \\nArrica Trigo es una de las cervezas artesana...   \n",
       "197  \\nLa cerveza artesana Mesopotamia Pale Ale que...   \n",
       "279  \\nUna cerveza tostada de trigo que no se ciñe ...   \n",
       "293  \\nUna cerveza artesana con aroma, cuerpo y el ...   \n",
       "353  \\nUna cerveza negra de tipo Ale con una gradua...   \n",
       "376  \\nPacific Gem es la cerveza artesana negra de ...   \n",
       "386  \\nArrica Porter es una de las cervezas artesan...   \n",
       "404  \\nL'anjub elabora de forma artesanal la cervez...   \n",
       "419  \\nNómada Estepa es la cerveza Farmhouse Red Ho...   \n",
       "428  \\nArrica IPA es una de las cervezas artesanas ...   \n",
       "\n",
       "                                                 image  \\\n",
       "88   https://static2.soloartesanas.es/2722-large_de...   \n",
       "97   https://static3.soloartesanas.es/1719-large_de...   \n",
       "145  https://static3.soloartesanas.es/1006-large_de...   \n",
       "172  https://static2.soloartesanas.es/3440-large_de...   \n",
       "197  https://static2.soloartesanas.es/702-large_def...   \n",
       "279  https://static2.soloartesanas.es/2243-large_de...   \n",
       "293  https://static1.soloartesanas.es/1490-large_de...   \n",
       "353  https://static3.soloartesanas.es/3446-large_de...   \n",
       "376  https://static1.soloartesanas.es/990-large_def...   \n",
       "386  https://static1.soloartesanas.es/3442-large_de...   \n",
       "404  https://static2.soloartesanas.es/2742-large_de...   \n",
       "419  https://static1.soloartesanas.es/1765-large_de...   \n",
       "428  https://static2.soloartesanas.es/3441-large_de...   \n",
       "\n",
       "                      Estilo  Graduación Fermentación   IBU Lúpulos  \\\n",
       "88            India Pale Ale       999.0          Ale  57.8     NaN   \n",
       "97                  Pale Ale       999.0          Ale  28.8     NaN   \n",
       "145           India Pale Ale       999.0          Ale  57.8     NaN   \n",
       "172         Weizen Weissbier       999.0          Ale  17.1     NaN   \n",
       "197                Cream Ale       999.0          Ale  47.0     NaN   \n",
       "279       Düsseldorf Altbier       999.0          Ale  37.0     NaN   \n",
       "293                Brown Ale       999.0          Ale  30.0     NaN   \n",
       "353   Russian Imperial Stout       999.0          Ale  70.7     NaN   \n",
       "376                    Stout       999.0          Ale  33.0     NaN   \n",
       "386           Imperial Stout       999.0          Ale  69.5     NaN   \n",
       "404              Extra Stout       999.0          Ale  92.0     NaN   \n",
       "419                  Red Ale       999.0          Ale  53.5     NaN   \n",
       "428                  Red IPA       999.0          Ale  75.0     NaN   \n",
       "\n",
       "    European Brewing Convention (EBC)  \\\n",
       "88                                NaN   \n",
       "97                                NaN   \n",
       "145                               NaN   \n",
       "172                               NaN   \n",
       "197                               NaN   \n",
       "279                               NaN   \n",
       "293                               NaN   \n",
       "353                               NaN   \n",
       "376                             40-45   \n",
       "386                               NaN   \n",
       "404                               NaN   \n",
       "419                               NaN   \n",
       "428                               NaN   \n",
       "\n",
       "                                                Maltas Temperatura de consumo  \\\n",
       "88                                                 NaN                    NaN   \n",
       "97                                                 NaN                    NaN   \n",
       "145                                                NaN                 8-12ºC   \n",
       "172                                                NaN                    NaN   \n",
       "197                                                NaN                    NaN   \n",
       "279                                                NaN                    NaN   \n",
       "293                                                NaN                    NaN   \n",
       "353                                                NaN                    NaN   \n",
       "376  Pale, Chocolate, Carafa, Roasted Barley, Caram...                    NaN   \n",
       "386                                                NaN                    NaN   \n",
       "404                                                NaN                    NaN   \n",
       "419                                                NaN                    NaN   \n",
       "428                                                NaN                    NaN   \n",
       "\n",
       "      Grano            Población    Provincia  Comunidad Autónoma    País  \n",
       "88   Cebada         Mutilva Baja      Navarra             Navarra  España  \n",
       "97   Cebada            Liérganes    Cantabria           Cantabria  España  \n",
       "145  Cebada           Valladolid   Valladolid     Castilla y León  España  \n",
       "172   Trigo  Yunquera de Henares  Guadalajara  Castilla-La Mancha  España  \n",
       "197  Cebada    Moraleja del Vino       Zamora           Andalucía  España  \n",
       "279   Trigo  Valverde del Camino       Huelva           Andalucía  España  \n",
       "293  Cebada               Saldes    Barcelona            Cataluña  España  \n",
       "353     NaN  Yunquera de Henares  Guadalajara  Castilla-La Mancha  España  \n",
       "376  Cebada                Berga    Barcelona            Cataluña  España  \n",
       "386  Cebada  Yunquera de Henares  Guadalajara  Castilla-La Mancha  España  \n",
       "404  Cebada                 Flix    Tarragona            Cataluña  España  \n",
       "419  Cebada            Barcelona    Barcelona            Cataluña  España  \n",
       "428  Cebada  Yunquera de Henares  Guadalajara  Castilla-La Mancha  España  "
      ]
     },
     "execution_count": 81,
     "metadata": {},
     "output_type": "execute_result"
    }
   ],
   "source": [
    "# ¿Cómo son las cervezas que no tienen dato de graducación?\n",
    "df_soloartesanas[df_soloartesanas['Graduación']==999.00]"
   ]
  },
  {
   "cell_type": "code",
   "execution_count": 82,
   "metadata": {},
   "outputs": [],
   "source": [
    "#.             ----------      SEGUIR POR AQUÍ!!!"
   ]
  },
  {
   "cell_type": "code",
   "execution_count": 83,
   "metadata": {},
   "outputs": [
    {
     "name": "stdout",
     "output_type": "stream",
     "text": [
      "<class 'pandas.core.frame.DataFrame'>\n",
      "Int64Index: 390 entries, 1 to 434\n",
      "Data columns (total 19 columns):\n",
      " #   Column                             Non-Null Count  Dtype  \n",
      "---  ------                             --------------  -----  \n",
      " 0   id                                 390 non-null    int64  \n",
      " 1   color                              390 non-null    object \n",
      " 2   name                               390 non-null    object \n",
      " 3   brand                              390 non-null    object \n",
      " 4   description                        390 non-null    object \n",
      " 5   image                              390 non-null    object \n",
      " 6   Estilo                             390 non-null    object \n",
      " 7   Graduación                         390 non-null    float64\n",
      " 8   Fermentación                       390 non-null    object \n",
      " 9   IBU                                390 non-null    float64\n",
      " 10  Lúpulos                            91 non-null     object \n",
      " 11  European Brewing Convention (EBC)  101 non-null    object \n",
      " 12  Maltas                             80 non-null     object \n",
      " 13  Temperatura de consumo             123 non-null    object \n",
      " 14  Grano                              280 non-null    object \n",
      " 15  Población                          390 non-null    object \n",
      " 16  Provincia                          390 non-null    object \n",
      " 17  Comunidad Autónoma                 390 non-null    object \n",
      " 18  País                               390 non-null    object \n",
      "dtypes: float64(2), int64(1), object(16)\n",
      "memory usage: 60.9+ KB\n"
     ]
    }
   ],
   "source": [
    "df_soloartesanas.info()"
   ]
  },
  {
   "cell_type": "markdown",
   "metadata": {},
   "source": [
    "### Características que están completas\n",
    "Veamos cómo son las características que no tienen datos nulos, como son el color, nombre, marca...\n"
   ]
  },
  {
   "cell_type": "code",
   "execution_count": 84,
   "metadata": {},
   "outputs": [
    {
     "data": {
      "text/plain": [
       "(cervezas artesanas Birra & Blues)        13\n",
       "(cervezas artesanas Cervezas Arriaca)     11\n",
       "(cervezas artesanas Althaia Artesana)      9\n",
       "(cervezas artesanas Dawat)                 9\n",
       "(cervezas artesanas Sagra)                 7\n",
       "                                          ..\n",
       "(cervezas artesanas Pato Nero)             1\n",
       "(cervezas artesanas Del Pueblo)            1\n",
       "(cervezas artesanas Er Boquerón)           1\n",
       "(cervezas artesanas Cerveza del Jerte)     1\n",
       "(cervezas artesanas Cervezas Nel)          1\n",
       "Name: brand, Length: 139, dtype: int64"
      ]
     },
     "execution_count": 84,
     "metadata": {},
     "output_type": "execute_result"
    }
   ],
   "source": [
    "df_soloartesanas['brand'].value_counts()"
   ]
  },
  {
   "cell_type": "code",
   "execution_count": 85,
   "metadata": {},
   "outputs": [],
   "source": [
    "# eliminar \"cervezas artesanas \" y los paréntesis en el campo \"brand\"\n",
    "df_soloartesanas['brand']=df_soloartesanas['brand'].apply(lambda x: x.replace('(cervezas artesanas ',''))\n",
    "df_soloartesanas['brand']=df_soloartesanas['brand'].apply(lambda x: x.replace(')',''))"
   ]
  },
  {
   "cell_type": "code",
   "execution_count": 86,
   "metadata": {},
   "outputs": [
    {
     "data": {
      "text/plain": [
       "id                                                                                 252\n",
       "color                                                                            rubia\n",
       "name                                                                              Clot\n",
       "brand                                                                         Birra 08\n",
       "description                          \\nCerveza Clot, así se llama la cerveza artesa...\n",
       "image                                https://static3.soloartesanas.es/143-large_def...\n",
       "Estilo                                                                        Pale Ale\n",
       "Graduación                                                                         4.3\n",
       "Fermentación                                                                       Ale\n",
       "IBU                                                                                 35\n",
       "Lúpulos                                                                        Fuggles\n",
       "European Brewing Convention (EBC)                                                   15\n",
       "Maltas                                                                             NaN\n",
       "Temperatura de consumo                                                             NaN\n",
       "Grano                                                                            Trigo\n",
       "Población                                                                    Barcelona\n",
       "Provincia                                                                    Barcelona\n",
       "Comunidad Autónoma                                                            Cataluña\n",
       "País                                                                            España\n",
       "Name: 251, dtype: object"
      ]
     },
     "execution_count": 86,
     "metadata": {},
     "output_type": "execute_result"
    }
   ],
   "source": [
    "# ejemplo de una cerveza\n",
    "df_soloartesanas.iloc[223]"
   ]
  },
  {
   "cell_type": "code",
   "execution_count": 87,
   "metadata": {},
   "outputs": [
    {
     "data": {
      "text/plain": [
       "Index(['id', 'color', 'name', 'brand', 'description', 'image', 'Estilo',\n",
       "       'Graduación', 'Fermentación', 'IBU', 'Lúpulos',\n",
       "       'European Brewing Convention (EBC)', 'Maltas', 'Temperatura de consumo',\n",
       "       'Grano', 'Población', 'Provincia', 'Comunidad Autónoma', 'País'],\n",
       "      dtype='object')"
      ]
     },
     "execution_count": 87,
     "metadata": {},
     "output_type": "execute_result"
    }
   ],
   "source": [
    "df_soloartesanas.columns"
   ]
  },
  {
   "cell_type": "code",
   "execution_count": 88,
   "metadata": {},
   "outputs": [
    {
     "data": {
      "text/plain": [
       "array(['rubia', 'tostada', 'negra', 'blanca', 'roja'], dtype=object)"
      ]
     },
     "execution_count": 88,
     "metadata": {},
     "output_type": "execute_result"
    }
   ],
   "source": [
    "df_soloartesanas[\"color\"].unique()"
   ]
  },
  {
   "cell_type": "code",
   "execution_count": 89,
   "metadata": {},
   "outputs": [
    {
     "data": {
      "text/plain": [
       "array(['Alegría & Boris Brew Ipanosuarus Rex', 'Roy The Bull Mango',\n",
       "       'Marijuana', 'Arriaca Trigo (lata)', 'Bertus White IPA',\n",
       "       'Bertus Summer Ale', 'Bertus Carpe Diem', '90 Varas La Mala',\n",
       "       '90 Varas Zerezo', 'Althaia Rabosa', 'Mica Raíz',\n",
       "       'Arriaca Session IPA (lata)', 'OOB Hoppy Blonde',\n",
       "       'Familia Serra Maula', 'Familia Serra Butoni',\n",
       "       'Familia Serra Mussa', 'Sargs IPA', 'Birra & Blues Mago de Oz',\n",
       "       'Laugar Basurde', 'Laugar EPA!', 'Birra & Blues Smoke my Beer',\n",
       "       'Birra & Blues Amber', 'Birra & Blues IPA Blues',\n",
       "       'Birra & Blues Tripel', 'Birra & Blues La Rubia',\n",
       "       'Birra & Blues Doble Malta', 'Madriz Chueca', 'Alma Turdetana',\n",
       "       'La Virgen IPA', 'La Quarantamaula American Pale Ale',\n",
       "       'La Quarantamaula American Golden Ale', '3Monos Vito Hopleone',\n",
       "       '3Monos Dirty Harry', '3Monos Monkey Business',\n",
       "       '3Monos Golden Ape', 'Skunk Diaple',\n",
       "       'The Flying Inn Liquid Nemesis',\n",
       "       'The Flying Inn Telepathic War Elephant', 'Sikaru Larak',\n",
       "       'Lagarta', 'Althaia Mistral', 'Ballut Hispanic', 'Engendro',\n",
       "       'Happy Hoppy', 'Golden', 'Pure Botanics IPA 3',\n",
       "       'Dawat Orange & Lemon', 'Dawat Trigo', 'Aloja', \"S'Agüia\",\n",
       "       'AIR26 American IPA', 'Sex Museum', 'Shizun', 'Garagart Hop Reef',\n",
       "       'Cap Blanc', 'Golden Sin Gluten', 'Del Pueblo Original', 'Hoppy',\n",
       "       'The Walking Coeliacs (sin gluten)',\n",
       "       'Alice The Dog Eats Melanoidin', 'Negra Miel', 'Uxama Oro',\n",
       "       'Amor Amargo', 'Quijota Aniversario', 'Lager Ahumada',\n",
       "       'Tropical IPA', 'Kadabra Pale Ecológica', 'Dead Monk', 'Sargs APA',\n",
       "       'Hoppy Pato', 'Cañonita Pale Ale', 'Argantonio', 'Gargoris',\n",
       "       'Norax', 'Habis', 'Gerión', 'Escape', 'Arriaca IPA (Lata)',\n",
       "       'Arriaca Rubia (lata)', 'Odiel Rubia de trigo',\n",
       "       'La Pirata ¡Ay Carmela!', 'Naparbier Insider',\n",
       "       'Little Bichos Bogavante', 'Nurse Palecilina', 'Nurse IPAprofeno',\n",
       "       'Speranto Birdo IPA', 'Goose Pale Ale', 'Smach Pale Ale',\n",
       "       'Libre American Wit Ale', \"Dougall's Happy Otter\", 'Hop-Jam',\n",
       "       'Beauty: Cerveza de Aloe Vera', 'Cartujana APA',\n",
       "       'Naparbier Sunset', 'Zeta Hop', 'La Maldita Jineta',\n",
       "       'La Maldita Volandera', 'Enigma Premium Ale', 'Gaitanejo',\n",
       "       'Speranto Blanka Tigro', 'Speranto Zamenhof', 'Arriaca Centeno',\n",
       "       'Colegiata Gold', 'Santo Cristo Pale Ale', 'Ballut Terapia',\n",
       "       'Ballut Ballut', 'Génesis Mediterrania', 'Génesis Taronja',\n",
       "       'Red Courtesy', 'Pedraforca Rossa', 'La Virgen Veraniega',\n",
       "       'Garagart Hopster Party', 'Auriun Loira', \"Kel's\", 'Monteña',\n",
       "       'Fort Motueka', 'Fort IPA', 'La Quince HOP FICTION',\n",
       "       'Menduiña Barda', 'Marina Summer Ale', 'Marina Pale Ale',\n",
       "       'Rondadora Blanca', 'Minairons Fulla Daurada ', 'Matoll Saüc',\n",
       "       'Matoll Blat', 'Matoll Rossa', \"L'Ombria Blat\",\n",
       "       'Sevebrau Ex 1 IPA', 'Sevebrau Weizen Trigo', 'Mica Oro',\n",
       "       'Vier IPA', 'Moon Pale Ale', 'Quer Blat', 'Cibeles Trigo',\n",
       "       'Cibeles Imperial IPA', 'Cibeles IPA Dryhopping', 'Cibeles Rubia',\n",
       "       'Maier Aniversario', 'Maier Triple Dorada',\n",
       "       'Gothia Launia Flor Fresca', 'Maier Pale Ale', 'Gothia Launia IPA',\n",
       "       'SanFrutos Trigo  ', 'Milana Trigo', 'Milana Bonita',\n",
       "       'La Pirata La Tremenda', 'La Pirata Súria', 'Quijota Rubia',\n",
       "       \"Dougall's Invierno\", 'La Vidigonera', 'Mammooth Granada Fósil',\n",
       "       'Mammooth Pale Ale', '1521', 'Catalina', 'Arriaca Trigo',\n",
       "       'Arriaca Rubia', 'Dawat 7', 'Dawat 5', 'Dawat 2',\n",
       "       'Immortèla Ostiu ', 'Immortèla Originau', 'Rubia Bárbara', 'Zerb',\n",
       "       'Labrit', 'San Cernin', 'As de Picas (Piques)',\n",
       "       'As de Corazones (Cors)', 'Arcadia Blond Ale', 'Lluna Eclipsi',\n",
       "       'Lluna de Blat', 'Desiderata Doble Fermentación ',\n",
       "       'Desiderata Pilsen Aromatica', 'Abadía Española', 'Dorada', 'Roya',\n",
       "       'Artesana nº 3', 'Artesana nº1', 'Oripell', 'Mesopotamia Pale Ale',\n",
       "       'Z-Rubia', 'HOPe Citric', 'Kettal Trillo',\n",
       "       'Archi Pilsen Bohemia Premium', 'Barbière Belgian White Ale',\n",
       "       'Gram Freda', 'Althaia Blonde Ale', 'Viento Sur', 'UnaRubia',\n",
       "       'La Virgen Madrid 360', 'La Virgen Madrid Lager', 'Tenuis Maxime',\n",
       "       'Bizarra Trigo', 'Bizarra Rubia', 'Califa IPA', 'Califa Rubia',\n",
       "       'Cerveza JK Daurada', 'Kadabra Golden Ale ', 'Kadabra IPA',\n",
       "       'Kadabra Belgian White ', 'Gamus Lager', 'Gamus Ginger ',\n",
       "       'Bleder Presen', 'Cerex Pilsen', 'Gredos Doble Malta',\n",
       "       'Gredos Rubia', 'Palau Bitter', 'Palau Weizenbock',\n",
       "       'Burro de Sancho Rubia', 'Sagra IPA', 'Sagra Premium',\n",
       "       'Tyris Original', 'Virtus Trigo', 'Virtus IPA', 'Virtus Pilsen',\n",
       "       'La Loba', 'Leyenda', 'Raquera', 'Freya', 'Odin', 'Er Boquerón',\n",
       "       'La Socarrada', 'Barceloneta', 'Eko´s 2.0', 'Clot', 'Blat Ràner ',\n",
       "       'Lug', '1907', 'Baturra Rubia ', 'Calotte Couvee', 'Coubeen',\n",
       "       'Calotte', 'Gisberga Selección (6 Porter y 6 Trigo)',\n",
       "       'Gisberga de Trigo', '90 Varas Segovilla', 'OOB Roasted Amber Ale',\n",
       "       'La Txika de la Cerveza Bizi Bizi', 'Sargs Amber Ale',\n",
       "       'Laugar Kiskale', 'Birra & Blues La Negra',\n",
       "       'Birra & Blues John Lee Blues', 'La Quarantamaula Belgian Dubbel',\n",
       "       'Matadragons', 'Sant Rock',\n",
       "       'Dawat One-Off Inch Smoked Beer Bourbon', 'Corazón de Enebro',\n",
       "       'TR25 Dubbel', 'BAR28 American Pale Ale', 'Black Geisha',\n",
       "       'Pale Ale', 'Toro', '7 Maltas', 'Odiel Tostada de trigo',\n",
       "       'Nurse Vetusta', 'Cerveza San Gabriel', 'Goose Blates',\n",
       "       'Cerex Castaña', 'Smach Brown Ale', 'Alegría del Barrio',\n",
       "       'Alegría del Sur', 'Althaia IPA', 'Enigma Origen',\n",
       "       'Colegiata Reserva', 'Santo Cristo con Castaña Asada',\n",
       "       'Pedraforca Torrada con Setas', 'Pedraforca Torrada',\n",
       "       'Garagart Gorritxo', 'Art Coure', 'Menduiña Santa Compaña',\n",
       "       'Menduiña María Soliña', 'Menduiña Duir',\n",
       "       'Santa Pau Blowing in the Wing', 'Boira', 'Minairons Sacs de Rocs',\n",
       "       'Mica Cuarzo', 'La Maldita Originale', 'Matoll Torrada',\n",
       "       'Sevebrau Buzzos APA', 'Maier Especial', 'SanFrutos Especial  ',\n",
       "       'Milana Shipa', 'Milana Tostada', 'La Pirata Viakrucis',\n",
       "       'Quijota Morena', '25', 'Navarrería', 'Redín', 'Arcadia Lepus',\n",
       "       'Lluna Bruna', 'Tostada', 'Z-Abadía', 'HOPe Bohemic',\n",
       "       'Gram Quirat', 'Althaia Brown Ale', 'La Virgen Jamonera',\n",
       "       'Bizarra Tostada ', 'Califa Morena', 'Auténtica',\n",
       "       'Bleder Foc de Drac', 'Cerex Ibérica de Bellota', 'Univérsitas',\n",
       "       'Paquita Brown', 'Virtus Roja', 'Tres Mares', 'Thor', 'Eixample',\n",
       "       'Baturra Tostada ', 'Althaia Mascarat', 'Arriaca Porter (lata)',\n",
       "       'Althaia Sidama', 'Birra & Blues Black Blues', '3Monos Black Soul',\n",
       "       'Sikaru Girsu', 'Dawat Pure Café', 'ISR31 Stout',\n",
       "       'Althaia Winter Ale', 'Medical Stout',\n",
       "       'Arriaca Imperial Russian Stout', 'Astarté',\n",
       "       \"Dougall's Session Stout\", 'Odiel Negra de trigo', 'Nurse 1984',\n",
       "       'Nómada Mole Negro', 'Hendrix', 'Ballut Zaina',\n",
       "       'Mesopotamia Imperial StoutZ', 'Pedraforca Negra',\n",
       "       'Art Fosca Stout', 'Menduiña Demo Neghro',\n",
       "       'Santa Pau & Vic Brewery A Black Adabra',\n",
       "       'Mustache Negra Marinera', 'Murex Pasas Triple Malta', 'Kabuto',\n",
       "       'Sevebrau Serona Strong Ale', 'Vier Negrón', 'Moon Three Threads',\n",
       "       'Quer Pacific Gem', 'Cibeles Stout', 'Gothia Launia Porter',\n",
       "       'Milana Vudú', 'Milana Black feet', 'La Pirata Black Block',\n",
       "       'La Pirata Black Storms', 'Quijota Negra', 'Mammooth Hecate',\n",
       "       'Fray Tomás', 'Arriaca Porter', 'Estafeta',\n",
       "       'As de Tréboles (Trèbols)', 'Lluna Negra', 'Artesana nº 9',\n",
       "       'Kettal Yunque', 'La Virgen Negra', 'Bizarra Black IPA',\n",
       "       'Cerveza JK Nit', 'Bleder Cova de Drac', 'Etiqueta Negra',\n",
       "       'Cueva de Salamanca', 'Palau Porter', 'Sagra Bohío', 'Skadi',\n",
       "       'Juliett', 'TAM Couvee', 'TAM', 'Gisberga Porter',\n",
       "       'Birra & Blues Red Wheat', 'Drink Me Alive!',\n",
       "       'Mustache Blanca de Trigo', 'Sagra Blanca de Trigo',\n",
       "       'Birra & Blues Barón Rojo', 'Birra & Blues Tostada',\n",
       "       'The Flying Inn Plague Carnival', 'Dawat Pedro Ximénez',\n",
       "       'Nómada Estepa', 'Enigma Complutum', 'Bizarra Red Demon',\n",
       "       'Kadabra Red Ale', \"Marina Devil's IPA\", 'Matoll Roja',\n",
       "       \"L'Ombria Red\", 'Vier Red', 'Moon Verata', 'Arriaca IPA',\n",
       "       'Lluna Happy Flower', \"Dragon's Breath\", 'Gram Prima', 'Nordeste',\n",
       "       'Burro de Sancho Roja', 'Sagra Roja'], dtype=object)"
      ]
     },
     "execution_count": 89,
     "metadata": {},
     "output_type": "execute_result"
    }
   ],
   "source": [
    "df_soloartesanas[\"name\"].unique()"
   ]
  },
  {
   "cell_type": "code",
   "execution_count": 90,
   "metadata": {},
   "outputs": [
    {
     "data": {
      "text/plain": [
       "array(['Cervezas Alegría', 'Roy The Bull', 'Marijuana',\n",
       "       'Cervezas Arriaca', 'Bertus', '90 Varas', 'Althaia Artesana',\n",
       "       'Cervezas Mica', 'OOB', 'Familia Serra', 'Sargs', 'Birra & Blues',\n",
       "       'Laugar', 'Madriz', 'Alma Turdetana', 'Cerveza La Virgen',\n",
       "       'La Quarantamaula', '3Monos', 'Ordio Minero', 'The Flying Inn',\n",
       "       'Fundación Badalona Capaç', 'Cervecera Libre', 'Cerveza Ballut',\n",
       "       'Castelló Beer Factory', 'Dawat', \"L'anjub\", 'Cervesa Marina',\n",
       "       'Quana', 'Panda Beer', 'Garagart', 'Ausesken', 'Del Pueblo',\n",
       "       'Bonvivant', 'La Calavera', 'Arévaka', 'Tyris', 'Cervezas Quijota',\n",
       "       'Cervezas Abadía', 'Morlaco Beer', 'Kadabra', 'Espina de Ferro',\n",
       "       'Pato Nero', 'Cañonita', 'Cerveza Tartessos',\n",
       "       'As Cervesa Artesana', 'Cerveza Odiel', 'Cerveses La Pirata',\n",
       "       'Naparbier', 'Mateo & Bernabé', 'Nurse', 'Cervezas Speranto',\n",
       "       'Goose', 'Smach', 'Cervezas Libre', \"Dougall's\", 'Drunken Bros',\n",
       "       'Beauty', 'Cartujana', 'Zeta Beer', 'Cerveza La Maldita',\n",
       "       'Cervezas Enigma', 'Cervezas Gaitanejo', 'Cervezas Colegiata',\n",
       "       'Santo Cristo', 'Cerveza Génesis', 'Red Courtesy',\n",
       "       'La Cervesera del Pedraforca', 'Cervexa Auriun', \"Cervecera Kel's\",\n",
       "       'Cerveza del Jerte', 'Fort', 'La Quince', 'Menduiña',\n",
       "       'Cerveza La Rondadora', 'Els Minairons', 'Matoll', \"L'Ombria\",\n",
       "       'Cervezas Sevebrau', 'Cervezas Vier', 'Cervesa Artesana Moon',\n",
       "       'Quer Beer', 'Cervezas La Cibeles', 'Cerveza Maier',\n",
       "       'Gothia Launia', 'Cervezas SanFrutos', 'Cerveza Milana',\n",
       "       'La Vidigonera', 'Cervezas Mammooth', 'Torquemada',\n",
       "       'Biera Aranesa', 'Cervezas Nel', 'ZerB', 'Cerveza Arcadia',\n",
       "       'Cerveses Lluna', 'Desiderata', 'Cervezas Roya', 'Cerveza Galana',\n",
       "       'Oripell', 'Abadía de Aribayos', 'HOPe Artesana', 'Kettal',\n",
       "       'Cerveza Archi', 'Barbière', 'Cervesa Gram', 'Cerveza La Grúa',\n",
       "       'UnaRubia', 'Cerveza Tenuis', 'Bizarra', 'Califa', 'JK', 'Gamus',\n",
       "       'Fortiverd', 'Cerveza Cerex', 'Cerveza Gredos', 'Cervesa Palau',\n",
       "       'Sagra', 'Virtus', 'Lest', 'Er Boquerón', 'La Socarrada',\n",
       "       'Birra 08', 'La Baturra', 'Hort del barret', 'Gisberga',\n",
       "       'La Txika de la Cerveza', 'Ruda', 'Osborne', 'Cerveza San Gabriel',\n",
       "       'Art Cervesers', 'Santa Pau', 'Boira', 'Ginesart',\n",
       "       'Cerveza Helmántica', 'Nómada Brewing', 'Mustache Cervezas',\n",
       "       'Cervezas Murex', 'Senador Volstead', 'Bronhër', 'Tastet'],\n",
       "      dtype=object)"
      ]
     },
     "execution_count": 90,
     "metadata": {},
     "output_type": "execute_result"
    }
   ],
   "source": [
    "df_soloartesanas[\"brand\"].unique()"
   ]
  },
  {
   "cell_type": "markdown",
   "metadata": {},
   "source": [
    "### Columnas con poca información"
   ]
  },
  {
   "cell_type": "markdown",
   "metadata": {},
   "source": [
    "Del resto de columnas vemos que faltan también muchos datos en 'Lúpulos', 'European Brewing Convention (EBC)', 'Maltas' y 'Temperatura de consumo'. El dato del tipo de grano no está completo pero podría resultar interesante de modo que por ahora lo vamos a mantener."
   ]
  },
  {
   "cell_type": "code",
   "execution_count": 91,
   "metadata": {},
   "outputs": [],
   "source": [
    "df_soloartesanas.drop(columns=[ 'Lúpulos', 'European Brewing Convention (EBC)', 'Maltas', 'Temperatura de consumo'], inplace=True)"
   ]
  },
  {
   "cell_type": "code",
   "execution_count": 92,
   "metadata": {},
   "outputs": [
    {
     "name": "stdout",
     "output_type": "stream",
     "text": [
      "<class 'pandas.core.frame.DataFrame'>\n",
      "Int64Index: 390 entries, 1 to 434\n",
      "Data columns (total 15 columns):\n",
      " #   Column              Non-Null Count  Dtype  \n",
      "---  ------              --------------  -----  \n",
      " 0   id                  390 non-null    int64  \n",
      " 1   color               390 non-null    object \n",
      " 2   name                390 non-null    object \n",
      " 3   brand               390 non-null    object \n",
      " 4   description         390 non-null    object \n",
      " 5   image               390 non-null    object \n",
      " 6   Estilo              390 non-null    object \n",
      " 7   Graduación          390 non-null    float64\n",
      " 8   Fermentación        390 non-null    object \n",
      " 9   IBU                 390 non-null    float64\n",
      " 10  Grano               280 non-null    object \n",
      " 11  Población           390 non-null    object \n",
      " 12  Provincia           390 non-null    object \n",
      " 13  Comunidad Autónoma  390 non-null    object \n",
      " 14  País                390 non-null    object \n",
      "dtypes: float64(2), int64(1), object(12)\n",
      "memory usage: 48.8+ KB\n"
     ]
    }
   ],
   "source": [
    "df_soloartesanas.info()"
   ]
  },
  {
   "cell_type": "markdown",
   "metadata": {},
   "source": [
    "### Unificamos el tipo de grano\n",
    "A pesar de que este dato falta en bastantes registros, lo dejamos porque puede ser interesante para pintar. Para ello, primero unificamos los datos ya que algunos están escritos de varias formas."
   ]
  },
  {
   "cell_type": "code",
   "execution_count": 93,
   "metadata": {},
   "outputs": [
    {
     "data": {
      "text/plain": [
       "array([nan, 'Cebada', 'Trigo', 'Avena', 'Arroz', 'Cebada y trigo',\n",
       "       'Trigo y cebada (50%)', 'Cebada y Trigo', 'Cebada y avena'],\n",
       "      dtype=object)"
      ]
     },
     "execution_count": 93,
     "metadata": {},
     "output_type": "execute_result"
    }
   ],
   "source": [
    "df_soloartesanas[\"Grano\"].unique()"
   ]
  },
  {
   "cell_type": "code",
   "execution_count": 94,
   "metadata": {},
   "outputs": [
    {
     "data": {
      "text/plain": [
       "Cebada                  231\n",
       "Trigo                    38\n",
       "Avena                     4\n",
       "Trigo y cebada (50%)      2\n",
       "Cebada y Trigo            2\n",
       "Cebada y avena            1\n",
       "Cebada y trigo            1\n",
       "Arroz                     1\n",
       "Name: Grano, dtype: int64"
      ]
     },
     "execution_count": 94,
     "metadata": {},
     "output_type": "execute_result"
    }
   ],
   "source": [
    "df_soloartesanas[\"Grano\"].value_counts()"
   ]
  },
  {
   "cell_type": "code",
   "execution_count": 95,
   "metadata": {},
   "outputs": [],
   "source": [
    "# Unifico cebada y trigo\n",
    "df_soloartesanas.loc[df_soloartesanas[\"Grano\"]=='Trigo y cebada (50%)',\"Grano\"]='Cebada y trigo'\n",
    "df_soloartesanas.loc[df_soloartesanas[\"Grano\"]=='Cebada y Trigo',\"Grano\"]='Cebada y trigo'"
   ]
  },
  {
   "cell_type": "code",
   "execution_count": 96,
   "metadata": {},
   "outputs": [
    {
     "data": {
      "text/plain": [
       "Cebada            231\n",
       "Trigo              38\n",
       "Cebada y trigo      5\n",
       "Avena               4\n",
       "Cebada y avena      1\n",
       "Arroz               1\n",
       "Name: Grano, dtype: int64"
      ]
     },
     "execution_count": 96,
     "metadata": {},
     "output_type": "execute_result"
    }
   ],
   "source": [
    "df_soloartesanas[\"Grano\"].value_counts()"
   ]
  },
  {
   "cell_type": "code",
   "execution_count": 97,
   "metadata": {},
   "outputs": [],
   "source": [
    "df_soloartesanas.to_csv(\"data/soloartesanas_limpio.csv\", sep = ';', index = False)"
   ]
  },
  {
   "cell_type": "code",
   "execution_count": 98,
   "metadata": {},
   "outputs": [
    {
     "name": "stdout",
     "output_type": "stream",
     "text": [
      "<class 'pandas.core.frame.DataFrame'>\n",
      "Int64Index: 390 entries, 1 to 434\n",
      "Data columns (total 15 columns):\n",
      " #   Column              Non-Null Count  Dtype  \n",
      "---  ------              --------------  -----  \n",
      " 0   id                  390 non-null    int64  \n",
      " 1   color               390 non-null    object \n",
      " 2   name                390 non-null    object \n",
      " 3   brand               390 non-null    object \n",
      " 4   description         390 non-null    object \n",
      " 5   image               390 non-null    object \n",
      " 6   Estilo              390 non-null    object \n",
      " 7   Graduación          390 non-null    float64\n",
      " 8   Fermentación        390 non-null    object \n",
      " 9   IBU                 390 non-null    float64\n",
      " 10  Grano               280 non-null    object \n",
      " 11  Población           390 non-null    object \n",
      " 12  Provincia           390 non-null    object \n",
      " 13  Comunidad Autónoma  390 non-null    object \n",
      " 14  País                390 non-null    object \n",
      "dtypes: float64(2), int64(1), object(12)\n",
      "memory usage: 48.8+ KB\n"
     ]
    }
   ],
   "source": [
    "df_soloartesanas.info()"
   ]
  },
  {
   "cell_type": "code",
   "execution_count": null,
   "metadata": {},
   "outputs": [],
   "source": []
  }
 ],
 "metadata": {
  "kernelspec": {
   "display_name": "Python 3",
   "language": "python",
   "name": "python3"
  },
  "language_info": {
   "codemirror_mode": {
    "name": "ipython",
    "version": 3
   },
   "file_extension": ".py",
   "mimetype": "text/x-python",
   "name": "python",
   "nbconvert_exporter": "python",
   "pygments_lexer": "ipython3",
   "version": "3.8.3"
  }
 },
 "nbformat": 4,
 "nbformat_minor": 4
}
