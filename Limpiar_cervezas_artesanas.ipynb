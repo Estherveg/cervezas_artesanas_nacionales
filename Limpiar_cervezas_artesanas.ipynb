{
 "cells": [
  {
   "cell_type": "markdown",
   "metadata": {},
   "source": [
    "# Tratamiento del fichero csv de cervezas obtenido de la web *soloartesanas.es*"
   ]
  },
  {
   "cell_type": "code",
   "execution_count": 1,
   "metadata": {},
   "outputs": [],
   "source": [
    "import numpy as np\n",
    "import pandas as pd\n",
    "import yaml\n",
    "\n",
    "#pd.options.display.max_colwidth = 300"
   ]
  },
  {
   "cell_type": "code",
   "execution_count": 2,
   "metadata": {},
   "outputs": [],
   "source": [
    "# Importo el fichero \"soloartesanas.csv\""
   ]
  },
  {
   "cell_type": "code",
   "execution_count": 3,
   "metadata": {},
   "outputs": [
    {
     "data": {
      "text/html": [
       "<div>\n",
       "<style scoped>\n",
       "    .dataframe tbody tr th:only-of-type {\n",
       "        vertical-align: middle;\n",
       "    }\n",
       "\n",
       "    .dataframe tbody tr th {\n",
       "        vertical-align: top;\n",
       "    }\n",
       "\n",
       "    .dataframe thead th {\n",
       "        text-align: right;\n",
       "    }\n",
       "</style>\n",
       "<table border=\"1\" class=\"dataframe\">\n",
       "  <thead>\n",
       "    <tr style=\"text-align: right;\">\n",
       "      <th></th>\n",
       "      <th>Unnamed: 0</th>\n",
       "      <th>id</th>\n",
       "      <th>color</th>\n",
       "      <th>name</th>\n",
       "      <th>brand</th>\n",
       "      <th>rate_beer</th>\n",
       "      <th>features</th>\n",
       "      <th>description</th>\n",
       "      <th>image</th>\n",
       "    </tr>\n",
       "  </thead>\n",
       "  <tbody>\n",
       "    <tr>\n",
       "      <th>0</th>\n",
       "      <td>0</td>\n",
       "      <td>1</td>\n",
       "      <td>rubia</td>\n",
       "      <td>Arriaca Radler, cerveza artesana con limón (lata)</td>\n",
       "      <td>(cervezas artesanas Cervezas Arriaca)</td>\n",
       "      <td>NaN</td>\n",
       "      <td>{'Estilo de cerveza': ' Blonde Ale', 'Graduaci...</td>\n",
       "      <td>\\nLa primera cerveza Radler artesana creada en...</td>\n",
       "      <td>https://static2.soloartesanas.es/3437-large_de...</td>\n",
       "    </tr>\n",
       "    <tr>\n",
       "      <th>1</th>\n",
       "      <td>1</td>\n",
       "      <td>2</td>\n",
       "      <td>rubia</td>\n",
       "      <td>Alegría &amp; Boris Brew Ipanosuarus Rex</td>\n",
       "      <td>(cervezas artesanas Cervezas Alegría)</td>\n",
       "      <td>NaN</td>\n",
       "      <td>{'Estilo de cerveza': ' Imperial / Double IPA'...</td>\n",
       "      <td>\\nUna doble IPA rubia, potente y seca. Elabora...</td>\n",
       "      <td>https://static3.soloartesanas.es/3333-large_de...</td>\n",
       "    </tr>\n",
       "    <tr>\n",
       "      <th>2</th>\n",
       "      <td>2</td>\n",
       "      <td>3</td>\n",
       "      <td>rubia</td>\n",
       "      <td>Roy The Bull Mango</td>\n",
       "      <td>(cervezas artesanas Roy The Bull)</td>\n",
       "      <td>NaN</td>\n",
       "      <td>{'Estilo de cerveza': ' Fruit Beer', 'Graduaci...</td>\n",
       "      <td>\\nAquí está la primera cerveza de Roy The Bull...</td>\n",
       "      <td>https://static3.soloartesanas.es/3332-large_de...</td>\n",
       "    </tr>\n",
       "    <tr>\n",
       "      <th>3</th>\n",
       "      <td>3</td>\n",
       "      <td>4</td>\n",
       "      <td>rubia</td>\n",
       "      <td>Marijuana</td>\n",
       "      <td>(cervezas artesanas Marijuana)</td>\n",
       "      <td>NaN</td>\n",
       "      <td>{'Estilo de cerveza': ' Pale Ale', 'Graduación...</td>\n",
       "      <td>\\nLa única cerveza cerveza artesana que podrás...</td>\n",
       "      <td>https://static1.soloartesanas.es/3223-large_de...</td>\n",
       "    </tr>\n",
       "    <tr>\n",
       "      <th>4</th>\n",
       "      <td>4</td>\n",
       "      <td>5</td>\n",
       "      <td>rubia</td>\n",
       "      <td>Arriaca Trigo (lata)</td>\n",
       "      <td>(cervezas artesanas Cervezas Arriaca)</td>\n",
       "      <td>NaN</td>\n",
       "      <td>{'Estilo de cerveza': ' Weizen - Weissbier', '...</td>\n",
       "      <td>\\nUna cerveza de trigo muy afrutada y ligera. ...</td>\n",
       "      <td>https://static2.soloartesanas.es/3449-large_de...</td>\n",
       "    </tr>\n",
       "  </tbody>\n",
       "</table>\n",
       "</div>"
      ],
      "text/plain": [
       "   Unnamed: 0  id  color                                               name  \\\n",
       "0           0   1  rubia  Arriaca Radler, cerveza artesana con limón (lata)   \n",
       "1           1   2  rubia               Alegría & Boris Brew Ipanosuarus Rex   \n",
       "2           2   3  rubia                                 Roy The Bull Mango   \n",
       "3           3   4  rubia                                          Marijuana   \n",
       "4           4   5  rubia                               Arriaca Trigo (lata)   \n",
       "\n",
       "                                   brand rate_beer  \\\n",
       "0  (cervezas artesanas Cervezas Arriaca)       NaN   \n",
       "1  (cervezas artesanas Cervezas Alegría)       NaN   \n",
       "2      (cervezas artesanas Roy The Bull)       NaN   \n",
       "3         (cervezas artesanas Marijuana)       NaN   \n",
       "4  (cervezas artesanas Cervezas Arriaca)       NaN   \n",
       "\n",
       "                                            features  \\\n",
       "0  {'Estilo de cerveza': ' Blonde Ale', 'Graduaci...   \n",
       "1  {'Estilo de cerveza': ' Imperial / Double IPA'...   \n",
       "2  {'Estilo de cerveza': ' Fruit Beer', 'Graduaci...   \n",
       "3  {'Estilo de cerveza': ' Pale Ale', 'Graduación...   \n",
       "4  {'Estilo de cerveza': ' Weizen - Weissbier', '...   \n",
       "\n",
       "                                         description  \\\n",
       "0  \\nLa primera cerveza Radler artesana creada en...   \n",
       "1  \\nUna doble IPA rubia, potente y seca. Elabora...   \n",
       "2  \\nAquí está la primera cerveza de Roy The Bull...   \n",
       "3  \\nLa única cerveza cerveza artesana que podrás...   \n",
       "4  \\nUna cerveza de trigo muy afrutada y ligera. ...   \n",
       "\n",
       "                                               image  \n",
       "0  https://static2.soloartesanas.es/3437-large_de...  \n",
       "1  https://static3.soloartesanas.es/3333-large_de...  \n",
       "2  https://static3.soloartesanas.es/3332-large_de...  \n",
       "3  https://static1.soloartesanas.es/3223-large_de...  \n",
       "4  https://static2.soloartesanas.es/3449-large_de...  "
      ]
     },
     "execution_count": 3,
     "metadata": {},
     "output_type": "execute_result"
    }
   ],
   "source": [
    "df_soloartesanas=pd.read_csv(\"data/df_soloartesanas.csv\", sep=\";\")\n",
    "df_soloartesanas.head()"
   ]
  },
  {
   "cell_type": "code",
   "execution_count": 4,
   "metadata": {},
   "outputs": [
    {
     "name": "stdout",
     "output_type": "stream",
     "text": [
      "<class 'pandas.core.frame.DataFrame'>\n",
      "RangeIndex: 435 entries, 0 to 434\n",
      "Data columns (total 9 columns):\n",
      " #   Column       Non-Null Count  Dtype \n",
      "---  ------       --------------  ----- \n",
      " 0   Unnamed: 0   435 non-null    int64 \n",
      " 1   id           435 non-null    int64 \n",
      " 2   color        435 non-null    object\n",
      " 3   name         435 non-null    object\n",
      " 4   brand        435 non-null    object\n",
      " 5   rate_beer    157 non-null    object\n",
      " 6   features     435 non-null    object\n",
      " 7   description  433 non-null    object\n",
      " 8   image        435 non-null    object\n",
      "dtypes: int64(2), object(7)\n",
      "memory usage: 30.7+ KB\n"
     ]
    }
   ],
   "source": [
    "df_soloartesanas.info()"
   ]
  },
  {
   "cell_type": "code",
   "execution_count": 5,
   "metadata": {},
   "outputs": [
    {
     "data": {
      "text/html": [
       "<div>\n",
       "<style scoped>\n",
       "    .dataframe tbody tr th:only-of-type {\n",
       "        vertical-align: middle;\n",
       "    }\n",
       "\n",
       "    .dataframe tbody tr th {\n",
       "        vertical-align: top;\n",
       "    }\n",
       "\n",
       "    .dataframe thead th {\n",
       "        text-align: right;\n",
       "    }\n",
       "</style>\n",
       "<table border=\"1\" class=\"dataframe\">\n",
       "  <thead>\n",
       "    <tr style=\"text-align: right;\">\n",
       "      <th></th>\n",
       "      <th>Unnamed: 0</th>\n",
       "      <th>id</th>\n",
       "      <th>name</th>\n",
       "      <th>price</th>\n",
       "      <th>descr_short</th>\n",
       "      <th>descr_full</th>\n",
       "      <th>image</th>\n",
       "      <th>brand</th>\n",
       "      <th>ean</th>\n",
       "      <th>Estilo</th>\n",
       "      <th>...</th>\n",
       "      <th>Porcentaje_Alcohol</th>\n",
       "      <th>Volumen_cl</th>\n",
       "      <th>Tipo Fermentación</th>\n",
       "      <th>Maltas</th>\n",
       "      <th>Lúpulos</th>\n",
       "      <th>IBU</th>\n",
       "      <th>Color</th>\n",
       "      <th>Envase</th>\n",
       "      <th>Otros ingredientes</th>\n",
       "      <th>Levadura</th>\n",
       "    </tr>\n",
       "  </thead>\n",
       "  <tbody>\n",
       "    <tr>\n",
       "      <th>0</th>\n",
       "      <td>0</td>\n",
       "      <td>lb_1</td>\n",
       "      <td>Anchor Porter</td>\n",
       "      <td>2.90</td>\n",
       "      <td>Porter</td>\n",
       "      <td>Cerveza negra, cremosa, con aromas a chocolate...</td>\n",
       "      <td>https://www.labirratorium.com/41-large_default...</td>\n",
       "      <td>Anchor Brewing Company (Sapporo)</td>\n",
       "      <td>7.278300e+10</td>\n",
       "      <td>AMERICAN PORTER</td>\n",
       "      <td>...</td>\n",
       "      <td>5,6</td>\n",
       "      <td>35.5</td>\n",
       "      <td>Ale</td>\n",
       "      <td>2-Row Pale. Caramelo, Chocolate, Black</td>\n",
       "      <td>Northern Brewer</td>\n",
       "      <td>20.0</td>\n",
       "      <td>Negro</td>\n",
       "      <td>Botella</td>\n",
       "      <td>NaN</td>\n",
       "      <td>NaN</td>\n",
       "    </tr>\n",
       "    <tr>\n",
       "      <th>1</th>\n",
       "      <td>1</td>\n",
       "      <td>lb_2</td>\n",
       "      <td>Störtebeker Schwarz-Bier</td>\n",
       "      <td>2.40</td>\n",
       "      <td>Cerveza negra de baja fermentación</td>\n",
       "      <td>Cerveza negra de baja fermentación de estilo S...</td>\n",
       "      <td>https://www.labirratorium.com/488-large_defaul...</td>\n",
       "      <td>Störtebeker</td>\n",
       "      <td>4.014807e+12</td>\n",
       "      <td>SCHWARZBIER</td>\n",
       "      <td>...</td>\n",
       "      <td>5</td>\n",
       "      <td>50</td>\n",
       "      <td>Lager (Baja Fermentación)</td>\n",
       "      <td>Cebada</td>\n",
       "      <td>NaN</td>\n",
       "      <td>20.0</td>\n",
       "      <td>Negro</td>\n",
       "      <td>Botella</td>\n",
       "      <td>NaN</td>\n",
       "      <td>NaN</td>\n",
       "    </tr>\n",
       "    <tr>\n",
       "      <th>2</th>\n",
       "      <td>2</td>\n",
       "      <td>lb_3</td>\n",
       "      <td>Weihenstephaner Vitus</td>\n",
       "      <td>2.65</td>\n",
       "      <td>Weizenbock</td>\n",
       "      <td>Cerveza refrescante de trigo fuerte y aromátic...</td>\n",
       "      <td>https://www.labirratorium.com/43-large_default...</td>\n",
       "      <td>Weihenstephan</td>\n",
       "      <td>4.105120e+12</td>\n",
       "      <td>TRIGO ALEMÁN (WEIZENDOPPELBOCK)</td>\n",
       "      <td>...</td>\n",
       "      <td>7,7</td>\n",
       "      <td>50</td>\n",
       "      <td>Ale (Alta Fermentación)</td>\n",
       "      <td>Trigo y Cebada</td>\n",
       "      <td>NaN</td>\n",
       "      <td>20.0</td>\n",
       "      <td>Amarillo dorado</td>\n",
       "      <td>Botella</td>\n",
       "      <td>NaN</td>\n",
       "      <td>NaN</td>\n",
       "    </tr>\n",
       "    <tr>\n",
       "      <th>3</th>\n",
       "      <td>3</td>\n",
       "      <td>lb_4</td>\n",
       "      <td>Bavaria Wit 0.0%</td>\n",
       "      <td>1.60</td>\n",
       "      <td>Cerveza holandesa de trigo sin alcohol, de col...</td>\n",
       "      <td>Cerveza holandesa sin alcohol, de color amaril...</td>\n",
       "      <td>https://www.labirratorium.com/53-large_default...</td>\n",
       "      <td>Bavaria</td>\n",
       "      <td>NaN</td>\n",
       "      <td>SIN ALCOHOL</td>\n",
       "      <td>...</td>\n",
       "      <td>0.0</td>\n",
       "      <td>33</td>\n",
       "      <td>Ale (Alta Fermentación)</td>\n",
       "      <td>NaN</td>\n",
       "      <td>NaN</td>\n",
       "      <td>20.0</td>\n",
       "      <td>Amarillo pálido</td>\n",
       "      <td>Botella</td>\n",
       "      <td>NaN</td>\n",
       "      <td>NaN</td>\n",
       "    </tr>\n",
       "    <tr>\n",
       "      <th>4</th>\n",
       "      <td>4</td>\n",
       "      <td>lb_5</td>\n",
       "      <td>Laugar EPA! Euskadiko Pale Ale</td>\n",
       "      <td>2.55</td>\n",
       "      <td>American Pale Ale</td>\n",
       "      <td>American Pale Ale de 5.2% ABV elaborada con lú...</td>\n",
       "      <td>https://www.labirratorium.com/11103-large_defa...</td>\n",
       "      <td>Laugar</td>\n",
       "      <td>NaN</td>\n",
       "      <td>APA (AMERICAN PALE ALE)</td>\n",
       "      <td>...</td>\n",
       "      <td>5.4</td>\n",
       "      <td>33</td>\n",
       "      <td>Ale (Alta Fermentación)</td>\n",
       "      <td>Cebada</td>\n",
       "      <td>Cascade, Chinook y Columbus</td>\n",
       "      <td>40.0</td>\n",
       "      <td>Amarillo dorado</td>\n",
       "      <td>Botella</td>\n",
       "      <td>NaN</td>\n",
       "      <td>NaN</td>\n",
       "    </tr>\n",
       "  </tbody>\n",
       "</table>\n",
       "<p>5 rows × 21 columns</p>\n",
       "</div>"
      ],
      "text/plain": [
       "   Unnamed: 0    id                            name  price  \\\n",
       "0           0  lb_1                   Anchor Porter   2.90   \n",
       "1           1  lb_2        Störtebeker Schwarz-Bier   2.40   \n",
       "2           2  lb_3           Weihenstephaner Vitus   2.65   \n",
       "3           3  lb_4                Bavaria Wit 0.0%   1.60   \n",
       "4           4  lb_5  Laugar EPA! Euskadiko Pale Ale   2.55   \n",
       "\n",
       "                                         descr_short  \\\n",
       "0                                             Porter   \n",
       "1                Cerveza negra de baja fermentación    \n",
       "2                                         Weizenbock   \n",
       "3  Cerveza holandesa de trigo sin alcohol, de col...   \n",
       "4                                  American Pale Ale   \n",
       "\n",
       "                                          descr_full  \\\n",
       "0  Cerveza negra, cremosa, con aromas a chocolate...   \n",
       "1  Cerveza negra de baja fermentación de estilo S...   \n",
       "2  Cerveza refrescante de trigo fuerte y aromátic...   \n",
       "3  Cerveza holandesa sin alcohol, de color amaril...   \n",
       "4  American Pale Ale de 5.2% ABV elaborada con lú...   \n",
       "\n",
       "                                               image  \\\n",
       "0  https://www.labirratorium.com/41-large_default...   \n",
       "1  https://www.labirratorium.com/488-large_defaul...   \n",
       "2  https://www.labirratorium.com/43-large_default...   \n",
       "3  https://www.labirratorium.com/53-large_default...   \n",
       "4  https://www.labirratorium.com/11103-large_defa...   \n",
       "\n",
       "                              brand           ean  \\\n",
       "0  Anchor Brewing Company (Sapporo)  7.278300e+10   \n",
       "1                       Störtebeker  4.014807e+12   \n",
       "2                     Weihenstephan  4.105120e+12   \n",
       "3                           Bavaria           NaN   \n",
       "4                            Laugar           NaN   \n",
       "\n",
       "                            Estilo  ... Porcentaje_Alcohol Volumen_cl  \\\n",
       "0                  AMERICAN PORTER  ...                5,6       35.5   \n",
       "1                      SCHWARZBIER  ...                  5         50   \n",
       "2  TRIGO ALEMÁN (WEIZENDOPPELBOCK)  ...                7,7         50   \n",
       "3                      SIN ALCOHOL  ...                0.0         33   \n",
       "4          APA (AMERICAN PALE ALE)  ...                5.4         33   \n",
       "\n",
       "           Tipo Fermentación                                  Maltas  \\\n",
       "0                        Ale  2-Row Pale. Caramelo, Chocolate, Black   \n",
       "1  Lager (Baja Fermentación)                                  Cebada   \n",
       "2    Ale (Alta Fermentación)                          Trigo y Cebada   \n",
       "3    Ale (Alta Fermentación)                                     NaN   \n",
       "4    Ale (Alta Fermentación)                                  Cebada   \n",
       "\n",
       "                       Lúpulos   IBU            Color   Envase  \\\n",
       "0              Northern Brewer  20.0            Negro  Botella   \n",
       "1                          NaN  20.0            Negro  Botella   \n",
       "2                          NaN  20.0  Amarillo dorado  Botella   \n",
       "3                          NaN  20.0  Amarillo pálido  Botella   \n",
       "4  Cascade, Chinook y Columbus  40.0  Amarillo dorado  Botella   \n",
       "\n",
       "  Otros ingredientes Levadura  \n",
       "0                NaN      NaN  \n",
       "1                NaN      NaN  \n",
       "2                NaN      NaN  \n",
       "3                NaN      NaN  \n",
       "4                NaN      NaN  \n",
       "\n",
       "[5 rows x 21 columns]"
      ]
     },
     "execution_count": 5,
     "metadata": {},
     "output_type": "execute_result"
    }
   ],
   "source": [
    "# Importamos un fichero con cervezas artesanas internacionales por si nos sirve para completar\n",
    "# el que usaremos en el estudio\n",
    "df_aux=pd.read_csv(\"data/Labirratorum.csv\", sep=\",\")\n",
    "df_aux.head()"
   ]
  },
  {
   "cell_type": "markdown",
   "metadata": {},
   "source": [
    "## Limpieza inicial del fichero\n",
    "Revisión inicial del dataframe para eliminar columnas inncecesarias, agrupar información, unificar tipos y contenidos, etc. de modo que se pueda realizar después un análisis de la información.\n",
    "\n",
    "Para empezar, gran parte de la información está recogida en el campo \"features\" que tiene estructura de diccionario y al que habrá que extraer la información separándola en columnas."
   ]
  },
  {
   "cell_type": "code",
   "execution_count": 6,
   "metadata": {},
   "outputs": [
    {
     "data": {
      "text/plain": [
       "\"{'Estilo de cerveza': ' Stout', 'Graduación alcohólica': ' 4,2% Alc./Vol.', 'Amargor (según la Unidad Internacional de Amargor)': ' 40 IBUs', 'Color': 'Negra', 'Grano': 'Avena', 'Fermentación': 'Ale', 'European Brewing Convention (EBC)': '110', 'Maltas': 'Maris Otter Floor Malt, Chocolate, Roasted Barley, Crystal y Avena', 'Lúpulos': 'Cascade', 'Población': 'Liérganes', 'Provincia': 'Cantabria', 'Comunidad Autónoma': 'Cantabria', 'País': 'España'}\""
      ]
     },
     "execution_count": 6,
     "metadata": {},
     "output_type": "execute_result"
    }
   ],
   "source": [
    "# Veo cómo es el campo \"features\" con un ejemplo\n",
    "df_soloartesanas.iloc[355, :]['features']"
   ]
  },
  {
   "cell_type": "code",
   "execution_count": 7,
   "metadata": {},
   "outputs": [
    {
     "data": {
      "text/plain": [
       "array([\"{'Estilo de cerveza': ' Amber Ale', 'Graduación alcohólica': ' 5.3% Alc./Vol.', 'Amargor (según la Unidad Internacional de Amargor)': ' 30 IBUs', 'Color': 'Tostada', 'Grano': 'Cebada', 'Fermentación': 'Ale', 'European Brewing Convention (EBC)': '40', 'Maltas': 'Pale Ale, Crystal, Victoria y CaraAroma', 'Lúpulos': 'Kent Golding y Fuggles', 'Población': 'Oviedo', 'Provincia': 'Asturias', 'Comunidad Autónoma': 'Asturias', 'País': 'España', 'Temperatura de consumo': '10-13ºC', 'Vaso recomendado': 'Vaso ancho'}\"],\n",
       "      dtype=object)"
      ]
     },
     "execution_count": 7,
     "metadata": {},
     "output_type": "execute_result"
    }
   ],
   "source": [
    "# para ver las características del registro más largo\n",
    "\n",
    "df_soloartesanas[\"num_caract\"]= df_soloartesanas['features'].apply(len)\n",
    "\n",
    "features_mas_largo=df_soloartesanas[df_soloartesanas[\"num_caract\"]==df_soloartesanas[\"num_caract\"].max()]['features']\n",
    "df_soloartesanas.drop(columns=\"num_caract\",inplace=True)\n",
    "\n",
    "features_mas_largo.values"
   ]
  },
  {
   "cell_type": "code",
   "execution_count": 8,
   "metadata": {},
   "outputs": [
    {
     "data": {
      "text/plain": [
       "0      {'Estilo de cerveza': ' Blonde Ale', 'Graduaci...\n",
       "1      {'Estilo de cerveza': ' Imperial / Double IPA'...\n",
       "2      {'Estilo de cerveza': ' Fruit Beer', 'Graduaci...\n",
       "3      {'Estilo de cerveza': ' Pale Ale', 'Graduación...\n",
       "4      {'Estilo de cerveza': ' Weizen - Weissbier', '...\n",
       "                             ...                        \n",
       "430    {'Estilo de cerveza': ' English Pale Ale', 'Gr...\n",
       "431    {'Estilo de cerveza': ' Red Ale', 'Graduación ...\n",
       "432    {'Estilo de cerveza': ' Irish Red Ale', 'Gradu...\n",
       "433    {'Estilo de cerveza': ' Red Ale', 'Graduación ...\n",
       "434    {'Estilo de cerveza': ' Red Ale', 'Graduación ...\n",
       "Name: features, Length: 435, dtype: object"
      ]
     },
     "execution_count": 8,
     "metadata": {},
     "output_type": "execute_result"
    }
   ],
   "source": [
    "# Hay que transformar la columna de features, que es un diccionario, en varias columnas \n",
    "df_soloartesanas['features']"
   ]
  },
  {
   "cell_type": "code",
   "execution_count": 9,
   "metadata": {},
   "outputs": [
    {
     "name": "stderr",
     "output_type": "stream",
     "text": [
      "<ipython-input-9-f3f490e69a13>:4: YAMLLoadWarning: calling yaml.load() without Loader=... is deprecated, as the default Loader is unsafe. Please read https://msg.pyyaml.org/load for full details.\n",
      "  df_soloartesanas['features'] = df_soloartesanas.features.map(lambda x: yaml.load(x))\n"
     ]
    }
   ],
   "source": [
    "# aplicar yaml a columna features y convertirla en diccionario aplicando map\n",
    "# Para un registro sería: mi_dict2 = yaml.load(df_soloartesanas.features[0])\n",
    "\n",
    "df_soloartesanas['features'] = df_soloartesanas.features.map(lambda x: yaml.load(x))"
   ]
  },
  {
   "cell_type": "code",
   "execution_count": 10,
   "metadata": {},
   "outputs": [
    {
     "data": {
      "text/plain": [
       "0      {'Estilo de cerveza': ' Blonde Ale', 'Graduaci...\n",
       "1      {'Estilo de cerveza': ' Imperial / Double IPA'...\n",
       "2      {'Estilo de cerveza': ' Fruit Beer', 'Graduaci...\n",
       "3      {'Estilo de cerveza': ' Pale Ale', 'Graduación...\n",
       "4      {'Estilo de cerveza': ' Weizen - Weissbier', '...\n",
       "                             ...                        \n",
       "430    {'Estilo de cerveza': ' English Pale Ale', 'Gr...\n",
       "431    {'Estilo de cerveza': ' Red Ale', 'Graduación ...\n",
       "432    {'Estilo de cerveza': ' Irish Red Ale', 'Gradu...\n",
       "433    {'Estilo de cerveza': ' Red Ale', 'Graduación ...\n",
       "434    {'Estilo de cerveza': ' Red Ale', 'Graduación ...\n",
       "Name: features, Length: 435, dtype: object"
      ]
     },
     "execution_count": 10,
     "metadata": {},
     "output_type": "execute_result"
    }
   ],
   "source": [
    "df_soloartesanas['features']"
   ]
  },
  {
   "cell_type": "code",
   "execution_count": 11,
   "metadata": {},
   "outputs": [
    {
     "name": "stdout",
     "output_type": "stream",
     "text": [
      "Unnamed: 0                                                   355\n",
      "id                                                           356\n",
      "color                                                      negra\n",
      "name                                     Dougall's Session Stout\n",
      "brand                             (cervezas artesanas Dougall's)\n",
      "rate_beer                                               92 / 100\n",
      "features       {'Estilo de cerveza': ' Stout', 'Graduación al...\n",
      "description    \\nDougalls Session Stout es una excelente cerv...\n",
      "image          https://static3.soloartesanas.es/2095-large_de...\n",
      "Name: 355, dtype: object\n"
     ]
    }
   ],
   "source": [
    "# veo un ejemplo\n",
    "print(df_soloartesanas.iloc[355, :])"
   ]
  },
  {
   "cell_type": "code",
   "execution_count": 12,
   "metadata": {},
   "outputs": [],
   "source": [
    "# Separo en columnas cada clave/valor del dicc de features\n",
    "\n",
    "df_soloartesanas = pd.concat([df_soloartesanas.drop(['features'], axis=1), df_soloartesanas['features'].apply(pd.Series)], axis=1)"
   ]
  },
  {
   "cell_type": "code",
   "execution_count": 13,
   "metadata": {},
   "outputs": [
    {
     "data": {
      "text/html": [
       "<div>\n",
       "<style scoped>\n",
       "    .dataframe tbody tr th:only-of-type {\n",
       "        vertical-align: middle;\n",
       "    }\n",
       "\n",
       "    .dataframe tbody tr th {\n",
       "        vertical-align: top;\n",
       "    }\n",
       "\n",
       "    .dataframe thead th {\n",
       "        text-align: right;\n",
       "    }\n",
       "</style>\n",
       "<table border=\"1\" class=\"dataframe\">\n",
       "  <thead>\n",
       "    <tr style=\"text-align: right;\">\n",
       "      <th></th>\n",
       "      <th>Unnamed: 0</th>\n",
       "      <th>id</th>\n",
       "      <th>color</th>\n",
       "      <th>name</th>\n",
       "      <th>brand</th>\n",
       "      <th>rate_beer</th>\n",
       "      <th>description</th>\n",
       "      <th>image</th>\n",
       "      <th>Estilo de cerveza</th>\n",
       "      <th>Graduación alcohólica</th>\n",
       "      <th>...</th>\n",
       "      <th>Comunidad Autónoma</th>\n",
       "      <th>Lúpulos</th>\n",
       "      <th>European Brewing Convention (EBC)</th>\n",
       "      <th>Maltas</th>\n",
       "      <th>Temperatura de consumo</th>\n",
       "      <th>Vaso recomendado</th>\n",
       "      <th>Grano</th>\n",
       "      <th>Sin gluten</th>\n",
       "      <th>Ecológica</th>\n",
       "      <th>País</th>\n",
       "    </tr>\n",
       "  </thead>\n",
       "  <tbody>\n",
       "    <tr>\n",
       "      <th>0</th>\n",
       "      <td>0</td>\n",
       "      <td>1</td>\n",
       "      <td>rubia</td>\n",
       "      <td>Arriaca Radler, cerveza artesana con limón (lata)</td>\n",
       "      <td>(cervezas artesanas Cervezas Arriaca)</td>\n",
       "      <td>NaN</td>\n",
       "      <td>\\nLa primera cerveza Radler artesana creada en...</td>\n",
       "      <td>https://static2.soloartesanas.es/3437-large_de...</td>\n",
       "      <td>Blonde Ale</td>\n",
       "      <td>2,7% Alc./Vol.</td>\n",
       "      <td>...</td>\n",
       "      <td>NaN</td>\n",
       "      <td>NaN</td>\n",
       "      <td>NaN</td>\n",
       "      <td>NaN</td>\n",
       "      <td>NaN</td>\n",
       "      <td>NaN</td>\n",
       "      <td>NaN</td>\n",
       "      <td>NaN</td>\n",
       "      <td>NaN</td>\n",
       "      <td>NaN</td>\n",
       "    </tr>\n",
       "    <tr>\n",
       "      <th>1</th>\n",
       "      <td>1</td>\n",
       "      <td>2</td>\n",
       "      <td>rubia</td>\n",
       "      <td>Alegría &amp; Boris Brew Ipanosuarus Rex</td>\n",
       "      <td>(cervezas artesanas Cervezas Alegría)</td>\n",
       "      <td>NaN</td>\n",
       "      <td>\\nUna doble IPA rubia, potente y seca. Elabora...</td>\n",
       "      <td>https://static3.soloartesanas.es/3333-large_de...</td>\n",
       "      <td>Imperial / Double IPA</td>\n",
       "      <td>8,2% Alc./Vol.</td>\n",
       "      <td>...</td>\n",
       "      <td>Valencia</td>\n",
       "      <td>NaN</td>\n",
       "      <td>NaN</td>\n",
       "      <td>NaN</td>\n",
       "      <td>NaN</td>\n",
       "      <td>NaN</td>\n",
       "      <td>NaN</td>\n",
       "      <td>NaN</td>\n",
       "      <td>NaN</td>\n",
       "      <td>NaN</td>\n",
       "    </tr>\n",
       "  </tbody>\n",
       "</table>\n",
       "<p>2 rows × 25 columns</p>\n",
       "</div>"
      ],
      "text/plain": [
       "   Unnamed: 0  id  color                                               name  \\\n",
       "0           0   1  rubia  Arriaca Radler, cerveza artesana con limón (lata)   \n",
       "1           1   2  rubia               Alegría & Boris Brew Ipanosuarus Rex   \n",
       "\n",
       "                                   brand rate_beer  \\\n",
       "0  (cervezas artesanas Cervezas Arriaca)       NaN   \n",
       "1  (cervezas artesanas Cervezas Alegría)       NaN   \n",
       "\n",
       "                                         description  \\\n",
       "0  \\nLa primera cerveza Radler artesana creada en...   \n",
       "1  \\nUna doble IPA rubia, potente y seca. Elabora...   \n",
       "\n",
       "                                               image       Estilo de cerveza  \\\n",
       "0  https://static2.soloartesanas.es/3437-large_de...              Blonde Ale   \n",
       "1  https://static3.soloartesanas.es/3333-large_de...   Imperial / Double IPA   \n",
       "\n",
       "  Graduación alcohólica  ... Comunidad Autónoma Lúpulos  \\\n",
       "0        2,7% Alc./Vol.  ...                NaN     NaN   \n",
       "1        8,2% Alc./Vol.  ...           Valencia     NaN   \n",
       "\n",
       "  European Brewing Convention (EBC) Maltas Temperatura de consumo  \\\n",
       "0                               NaN    NaN                    NaN   \n",
       "1                               NaN    NaN                    NaN   \n",
       "\n",
       "  Vaso recomendado Grano Sin gluten Ecológica País  \n",
       "0              NaN   NaN        NaN       NaN  NaN  \n",
       "1              NaN   NaN        NaN       NaN  NaN  \n",
       "\n",
       "[2 rows x 25 columns]"
      ]
     },
     "execution_count": 13,
     "metadata": {},
     "output_type": "execute_result"
    }
   ],
   "source": [
    "df_soloartesanas.head(2)"
   ]
  },
  {
   "cell_type": "code",
   "execution_count": 14,
   "metadata": {},
   "outputs": [
    {
     "name": "stdout",
     "output_type": "stream",
     "text": [
      "<class 'pandas.core.frame.DataFrame'>\n",
      "RangeIndex: 435 entries, 0 to 434\n",
      "Data columns (total 25 columns):\n",
      " #   Column                                              Non-Null Count  Dtype \n",
      "---  ------                                              --------------  ----- \n",
      " 0   Unnamed: 0                                          435 non-null    int64 \n",
      " 1   id                                                  435 non-null    int64 \n",
      " 2   color                                               435 non-null    object\n",
      " 3   name                                                435 non-null    object\n",
      " 4   brand                                               435 non-null    object\n",
      " 5   rate_beer                                           157 non-null    object\n",
      " 6   description                                         433 non-null    object\n",
      " 7   image                                               435 non-null    object\n",
      " 8   Estilo de cerveza                                   419 non-null    object\n",
      " 9   Graduación alcohólica                               415 non-null    object\n",
      " 10  Color                                               418 non-null    object\n",
      " 11  Fermentación                                        399 non-null    object\n",
      " 12  Amargor (según la Unidad Internacional de Amargor)  275 non-null    object\n",
      " 13  Población                                           409 non-null    object\n",
      " 14  Provincia                                           426 non-null    object\n",
      " 15  Comunidad Autónoma                                  424 non-null    object\n",
      " 16  Lúpulos                                             99 non-null     object\n",
      " 17  European Brewing Convention (EBC)                   101 non-null    object\n",
      " 18  Maltas                                              87 non-null     object\n",
      " 19  Temperatura de consumo                              137 non-null    object\n",
      " 20  Vaso recomendado                                    52 non-null     object\n",
      " 21  Grano                                               310 non-null    object\n",
      " 22  Sin gluten                                          2 non-null      object\n",
      " 23  Ecológica                                           3 non-null      object\n",
      " 24  País                                                45 non-null     object\n",
      "dtypes: int64(2), object(23)\n",
      "memory usage: 85.1+ KB\n"
     ]
    }
   ],
   "source": [
    "# Compruebo las nuevas columnas de features, tus tipos y misings\n",
    "df_soloartesanas.info()"
   ]
  },
  {
   "cell_type": "code",
   "execution_count": 15,
   "metadata": {},
   "outputs": [],
   "source": [
    "# Algunas de estas nuevas columnas las podré borrar si no aportan información y no están en los otros ficheros\n",
    "# Otras las puedo unir en una única columna, como el origen\n",
    "# Algunas características que no estén completas, si aparecen en otros ficheros, las dejaré con sus NAN\n",
    "# En la app podrán seleccionarse los campos a desplegar en función de si hay dato"
   ]
  },
  {
   "cell_type": "code",
   "execution_count": 16,
   "metadata": {},
   "outputs": [
    {
     "name": "stdout",
     "output_type": "stream",
     "text": [
      " \n"
     ]
    }
   ],
   "source": [
    "'''\n",
    "RangeIndex: 435 entries, 0 to 434\n",
    "Data columns (total 25 columns):\n",
    " #   Column                                              Non-Null Count  Dtype \n",
    "---  ------                                              --------------  ----- \n",
    " 0   Unnamed: 0                                          435 non-null    int64 -- Borrar\n",
    " 1   id                                                  435 non-null    int64 \n",
    " 2   color                                               435 non-null    object\n",
    " 3   name                                                435 non-null    object\n",
    " 4   brand                                               435 non-null    object\n",
    " 5   rate_beer                                           157 non-null    object -- Borrar\n",
    " 6   description                                         433 non-null    object -- completar\n",
    " 7   image                                               435 non-null    object\n",
    " 8   Estilo de cerveza                                   419 non-null    object\n",
    " 9   Graduación alcohólica                               415 non-null    object\n",
    " 10  Color                                               418 non-null    object -- Borrar (duplicada)\n",
    " 11  Fermentación                                        399 non-null    object\n",
    " 12  Amargor (según la Unidad Internacional de Amargor)  275 non-null    object\n",
    " 13  Población                                           409 non-null    object -- Unificar en \"Origen\"\n",
    " 14  Provincia                                           426 non-null    object -- Unificar en \"Origen\"\n",
    " 15  Comunidad Autónoma                                  424 non-null    object -- Unificar en \"Origen\"\n",
    " 16  Lúpulos                                             99 non-null     object\n",
    " 17  European Brewing Convention (EBC)                   101 non-null    object\n",
    " 18  Maltas                                              87 non-null     object\n",
    " 19  Temperatura de consumo                              137 non-null    object\n",
    " 20  Vaso recomendado                                    52 non-null     object -- Borrar/añadir a descr\n",
    " 21  Grano                                               310 non-null    object\n",
    " 22  Sin gluten                                          2 non-null      object -- Borrar\n",
    " 23  Ecológica                                           3 non-null      object -- Borrar\n",
    " 24  País                                                45 non-null     object -- Unificar en \"Origen\"\n",
    "dtypes: int64(2), object(23)\n",
    "\n",
    "'''\n",
    "print(\" \")"
   ]
  },
  {
   "cell_type": "code",
   "execution_count": 17,
   "metadata": {},
   "outputs": [
    {
     "data": {
      "text/plain": [
       "['\\nUna cerveza artesana para disfrutar del buen tiempo y del calor que recorre nuestra geografía durante los meses cálidos. Los chicos de La Virgen elaboran La Virgen Veraniega para época\\xa0estival con fecha límite de producción, Septiembre. Y lo hacen para ofrecerte una cerveza genuina y adaptada a las exigencias meteorológicas del calor.\\nEs una cerveza de estilo Pale Ale que usa levadura de alta fermentación California Lager. Todo acompañado de una incipiente presencia de amargor con un gran equilibrio a malta, hace de ella una cerveza artesana muy refrescante.\\nDisfruta y refréscate este verano\\n']"
      ]
     },
     "execution_count": 17,
     "metadata": {},
     "output_type": "execute_result"
    }
   ],
   "source": [
    "# compruebo si las cervezas sin gluten y las ecológicas tienen esa info en su descripción (se podrían borrar)\n",
    "sin=df_soloartesanas[df_soloartesanas[\"Sin gluten\"]=='No'][\"description\"]\n",
    "list(sin)"
   ]
  },
  {
   "cell_type": "code",
   "execution_count": 18,
   "metadata": {},
   "outputs": [
    {
     "data": {
      "text/plain": [
       "['\\nLlega una nueva evolución de Armando... que ahora se convierte en \"The Tree Man\", una cerveza orgánica y ecológica (como toda artesana, sin aditivos ni conservantes ni colorantes ni acelerantes). Una cerveza 100% natural.\\nDisfruta de esta cerveza de estilo Pale Ale de corte inglés, fresca y con aromas y matices a frutas tropicales.\\n',\n",
       " '\\nBeauy es una cerveza completa. Es una gran cerveza: es ecológica, es artesana y uno de sus principales componentes es el Aloe Vera.\\nLas base en una Pale Ale de estilo americano, sobre la que se elabora esta cerveza vegetal suave, equilibrada y ligera. Gran presencia dorada en copa, de la que saldran los primeros aromas de miel y caramelo, y al instante llegará el herbal del aloe. En boca resulta poco amarga y muy fresca, creando una cerveza muy fácil de beber.\\nDisfruta de la buena cerveza\\n']"
      ]
     },
     "execution_count": 18,
     "metadata": {},
     "output_type": "execute_result"
    }
   ],
   "source": [
    "sin=df_soloartesanas[df_soloartesanas[\"Ecológica\"]=='Sí'][\"description\"]\n",
    "list(sin)"
   ]
  },
  {
   "cell_type": "code",
   "execution_count": 19,
   "metadata": {},
   "outputs": [],
   "source": [
    "# borro las columnas que no aportan valor por estar repetidas o tener muy pocos datos: \n",
    "# \"Unnamed: 0\",\"Vaso recomendado\",\"Sin gluten\",\"Ecológica\" y \"Color\"\n",
    "\n",
    "df_soloartesanas.drop(columns=[\"Unnamed: 0\",\"rate_beer\",\"Color\",\"Vaso recomendado\",\"Sin gluten\",\"Ecológica\"], inplace=True)"
   ]
  },
  {
   "cell_type": "code",
   "execution_count": 20,
   "metadata": {},
   "outputs": [
    {
     "name": "stdout",
     "output_type": "stream",
     "text": [
      "<class 'pandas.core.frame.DataFrame'>\n",
      "RangeIndex: 435 entries, 0 to 434\n",
      "Data columns (total 19 columns):\n",
      " #   Column                                              Non-Null Count  Dtype \n",
      "---  ------                                              --------------  ----- \n",
      " 0   id                                                  435 non-null    int64 \n",
      " 1   color                                               435 non-null    object\n",
      " 2   name                                                435 non-null    object\n",
      " 3   brand                                               435 non-null    object\n",
      " 4   description                                         433 non-null    object\n",
      " 5   image                                               435 non-null    object\n",
      " 6   Estilo de cerveza                                   419 non-null    object\n",
      " 7   Graduación alcohólica                               415 non-null    object\n",
      " 8   Fermentación                                        399 non-null    object\n",
      " 9   Amargor (según la Unidad Internacional de Amargor)  275 non-null    object\n",
      " 10  Población                                           409 non-null    object\n",
      " 11  Provincia                                           426 non-null    object\n",
      " 12  Comunidad Autónoma                                  424 non-null    object\n",
      " 13  Lúpulos                                             99 non-null     object\n",
      " 14  European Brewing Convention (EBC)                   101 non-null    object\n",
      " 15  Maltas                                              87 non-null     object\n",
      " 16  Temperatura de consumo                              137 non-null    object\n",
      " 17  Grano                                               310 non-null    object\n",
      " 18  País                                                45 non-null     object\n",
      "dtypes: int64(1), object(18)\n",
      "memory usage: 64.7+ KB\n"
     ]
    }
   ],
   "source": [
    "df_soloartesanas.info()"
   ]
  },
  {
   "cell_type": "code",
   "execution_count": 21,
   "metadata": {},
   "outputs": [
    {
     "data": {
      "text/html": [
       "<div>\n",
       "<style scoped>\n",
       "    .dataframe tbody tr th:only-of-type {\n",
       "        vertical-align: middle;\n",
       "    }\n",
       "\n",
       "    .dataframe tbody tr th {\n",
       "        vertical-align: top;\n",
       "    }\n",
       "\n",
       "    .dataframe thead th {\n",
       "        text-align: right;\n",
       "    }\n",
       "</style>\n",
       "<table border=\"1\" class=\"dataframe\">\n",
       "  <thead>\n",
       "    <tr style=\"text-align: right;\">\n",
       "      <th></th>\n",
       "      <th>id</th>\n",
       "      <th>color</th>\n",
       "      <th>name</th>\n",
       "      <th>brand</th>\n",
       "      <th>description</th>\n",
       "      <th>image</th>\n",
       "      <th>Estilo de cerveza</th>\n",
       "      <th>Graduación alcohólica</th>\n",
       "      <th>Fermentación</th>\n",
       "      <th>Amargor (según la Unidad Internacional de Amargor)</th>\n",
       "      <th>Población</th>\n",
       "      <th>Provincia</th>\n",
       "      <th>Comunidad Autónoma</th>\n",
       "      <th>Lúpulos</th>\n",
       "      <th>European Brewing Convention (EBC)</th>\n",
       "      <th>Maltas</th>\n",
       "      <th>Temperatura de consumo</th>\n",
       "      <th>Grano</th>\n",
       "      <th>País</th>\n",
       "    </tr>\n",
       "  </thead>\n",
       "  <tbody>\n",
       "    <tr>\n",
       "      <th>171</th>\n",
       "      <td>172</td>\n",
       "      <td>rubia</td>\n",
       "      <td>Catalina</td>\n",
       "      <td>(cervezas artesanas Torquemada)</td>\n",
       "      <td>NaN</td>\n",
       "      <td>https://static2.soloartesanas.es/886-large_def...</td>\n",
       "      <td>Pilsner</td>\n",
       "      <td>4,8% Alc./Vol.</td>\n",
       "      <td>Ale</td>\n",
       "      <td>NaN</td>\n",
       "      <td>Torquemada</td>\n",
       "      <td>Palencia</td>\n",
       "      <td>Castilla y León</td>\n",
       "      <td>NaN</td>\n",
       "      <td>NaN</td>\n",
       "      <td>NaN</td>\n",
       "      <td>2-4ºC</td>\n",
       "      <td>Cebada</td>\n",
       "      <td>NaN</td>\n",
       "    </tr>\n",
       "    <tr>\n",
       "      <th>223</th>\n",
       "      <td>224</td>\n",
       "      <td>rubia</td>\n",
       "      <td>Illusió</td>\n",
       "      <td>(cervezas artesanas Ginesart)</td>\n",
       "      <td>NaN</td>\n",
       "      <td>https://static2.soloartesanas.es/2664-large_de...</td>\n",
       "      <td>Iber Ale</td>\n",
       "      <td>5,0% Alc./Vol.</td>\n",
       "      <td>Ale</td>\n",
       "      <td>NaN</td>\n",
       "      <td>Ginesart</td>\n",
       "      <td>Tarragona</td>\n",
       "      <td>Cataluña</td>\n",
       "      <td>Cascade y Saaz. Salvo</td>\n",
       "      <td>NaN</td>\n",
       "      <td>Pale ale, Pilsen y de trigo</td>\n",
       "      <td>8-12 ºC</td>\n",
       "      <td>Trigo</td>\n",
       "      <td>NaN</td>\n",
       "    </tr>\n",
       "  </tbody>\n",
       "</table>\n",
       "</div>"
      ],
      "text/plain": [
       "      id  color      name                            brand description  \\\n",
       "171  172  rubia  Catalina  (cervezas artesanas Torquemada)         NaN   \n",
       "223  224  rubia   Illusió    (cervezas artesanas Ginesart)         NaN   \n",
       "\n",
       "                                                 image Estilo de cerveza  \\\n",
       "171  https://static2.soloartesanas.es/886-large_def...           Pilsner   \n",
       "223  https://static2.soloartesanas.es/2664-large_de...          Iber Ale   \n",
       "\n",
       "    Graduación alcohólica Fermentación  \\\n",
       "171        4,8% Alc./Vol.          Ale   \n",
       "223        5,0% Alc./Vol.          Ale   \n",
       "\n",
       "    Amargor (según la Unidad Internacional de Amargor)   Población  Provincia  \\\n",
       "171                                                NaN  Torquemada   Palencia   \n",
       "223                                                NaN    Ginesart  Tarragona   \n",
       "\n",
       "    Comunidad Autónoma                Lúpulos  \\\n",
       "171    Castilla y León                    NaN   \n",
       "223           Cataluña  Cascade y Saaz. Salvo   \n",
       "\n",
       "    European Brewing Convention (EBC)                       Maltas  \\\n",
       "171                               NaN                          NaN   \n",
       "223                               NaN  Pale ale, Pilsen y de trigo   \n",
       "\n",
       "    Temperatura de consumo   Grano País  \n",
       "171                  2-4ºC  Cebada  NaN  \n",
       "223                8-12 ºC   Trigo  NaN  "
      ]
     },
     "execution_count": 21,
     "metadata": {},
     "output_type": "execute_result"
    }
   ],
   "source": [
    "# veo qué cervezas están sin descripción\n",
    "df_soloartesanas[df_soloartesanas[\"description\"].isna()]"
   ]
  },
  {
   "cell_type": "code",
   "execution_count": 22,
   "metadata": {},
   "outputs": [],
   "source": [
    "# Añado una descripción de las cervezas que faltan y que encuentro en otras webs\n",
    "df_soloartesanas.loc[171,\"description\"]=\"Se trata de una cerveza rubia tipo Pils, ligera y refrescante a base de malta Pilsner y lúpulos alemanes y checos. Catalina debe su nombre al nacimiento, el 14 de enero de 1507, de la Infanta Catalina de Austria (reina de Portugal) en la localidad Torquemada. Hija de Juana de Castilla y Felipe de Habsburgo. La cerveza Catalina es una cerveza rubia brillante, ligeramente amarga, con olores a cereal y una espuma equilibrada. El contenido alcohólico es de 4,8% Vol. lo que hace que esta cerveza sea la más ligera de toda la gama. Temperatura de consumo recomendada: 2º-4º\"\n",
    "df_soloartesanas.loc[223,\"description\"]=\"Estilo cervecero: Iber Ale. Cerveza rubia de alta fermentación adaptada al estilo de nuestro país. Nota de cata: Toda la intensidad del lúpulo en combinación con la malta, para hacer pasar la sed. Ingredientes: Malta Pale ale, Pilsen y de trigo. de los lúpulos: Cascade y Saaz. Levadura. Temperatura de consumo: entre 8 y 12 º C Graduación alcohólica: 5% Alc. Vol.\""
   ]
  },
  {
   "cell_type": "code",
   "execution_count": 23,
   "metadata": {},
   "outputs": [
    {
     "data": {
      "text/plain": [
       "'Estilo cervecero: Iber Ale. Cerveza rubia de alta fermentación adaptada al estilo de nuestro país. Nota de cata: Toda la intensidad del lúpulo en combinación con la malta, para hacer pasar la sed. Ingredientes: Malta Pale ale, Pilsen y de trigo. de los lúpulos: Cascade y Saaz. Levadura. Temperatura de consumo: entre 8 y 12 º C Graduación alcohólica: 5% Alc. Vol.'"
      ]
     },
     "execution_count": 23,
     "metadata": {},
     "output_type": "execute_result"
    }
   ],
   "source": [
    "df_soloartesanas.iloc[223][\"description\"]"
   ]
  },
  {
   "cell_type": "markdown",
   "metadata": {},
   "source": [
    "### Unifico la información sobre el origen de fabricación\n",
    "Por la propia página web sabemos que todas las cervezas son de origen español, pero revisamos los datos para ver si falta información y si hay uniformidad en la nomenclaruta."
   ]
  },
  {
   "cell_type": "code",
   "execution_count": 24,
   "metadata": {},
   "outputs": [
    {
     "name": "stdout",
     "output_type": "stream",
     "text": [
      "Sin país:  390\n"
     ]
    },
    {
     "data": {
      "text/plain": [
       "País\n",
       "ESpaña     1\n",
       "España    44\n",
       "Name: id, dtype: int64"
      ]
     },
     "execution_count": 24,
     "metadata": {},
     "output_type": "execute_result"
    }
   ],
   "source": [
    "# compruebo que efectivamente solo hay cervezas españolas\n",
    "print(\"Sin país: \", df_soloartesanas[\"País\"].isna().sum())\n",
    "df_soloartesanas.groupby(\"País\")[\"id\"].nunique()"
   ]
  },
  {
   "cell_type": "markdown",
   "metadata": {},
   "source": [
    "Hay demasiadas cervezas sin identifiador de país. Puedo forzar la columna y poner en todas \"España\", pero antes voy a comprobar los otros campos sobre población, provincia y comunidad autónoma, para asegurarme de que no hay cervezas de otros.\n",
    "\n",
    "Del total de 435 tenemos datos sobre:\n",
    "- Población:                                           409 \n",
    "- Provincia:                                           426 \n",
    "- Comunidad Autónoma:                                 424 \n",
    "\n"
   ]
  },
  {
   "cell_type": "code",
   "execution_count": 25,
   "metadata": {},
   "outputs": [
    {
     "data": {
      "text/plain": [
       "array([nan, 'Valencia', 'Pontevedra', 'Ávila', 'Guadalajara', 'Barcelona',\n",
       "       'Segovia', 'Alicante', 'Burgos', 'La Rioja', 'Vizcaya', 'Madrid',\n",
       "       'Córdoba', 'Málaga', 'Teruel', 'Valladolid', 'Badajoz',\n",
       "       'Castellón', 'Cuenca', 'Tarragona', 'Girona', 'Álava', 'Albacete',\n",
       "       'Soria', 'Lugo', 'Navarra', 'León', 'Palencia', 'Murcia', 'Huelva',\n",
       "       'Asturias', 'Toledo', 'Cantabria', 'Sevilla', 'Ciudad Real',\n",
       "       'Orense', 'La Coruña', 'Huesca', 'Lérida', 'Cádiz', 'Granada',\n",
       "       'Guipúzcoa', 'Zaragoza', 'Zamora', 'Salamanca', 'Cáceres'],\n",
       "      dtype=object)"
      ]
     },
     "execution_count": 25,
     "metadata": {},
     "output_type": "execute_result"
    }
   ],
   "source": [
    "# Compruebo las provincias que aparecen\n",
    "df_soloartesanas[\"Provincia\"].unique()"
   ]
  },
  {
   "cell_type": "code",
   "execution_count": 26,
   "metadata": {},
   "outputs": [
    {
     "data": {
      "text/plain": [
       "array([nan, 'Valencia', 'Galicia', 'Castilla y León',\n",
       "       'Castilla-La Mancha', 'Cataluña', 'La Rioja', 'País Vasco',\n",
       "       'Madrid', 'Andalucía', 'Aragón', 'Extremadura', 'Navarra',\n",
       "       'Murcia', 'Asturias', 'Canarias', 'Cantabria'], dtype=object)"
      ]
     },
     "execution_count": 26,
     "metadata": {},
     "output_type": "execute_result"
    }
   ],
   "source": [
    "# Estas son las CC.AA que aparecen\n",
    "df_soloartesanas[\"Comunidad Autónoma\"].unique()"
   ]
  },
  {
   "cell_type": "code",
   "execution_count": 27,
   "metadata": {},
   "outputs": [
    {
     "data": {
      "text/plain": [
       "0         NaN\n",
       "29        NaN\n",
       "30        NaN\n",
       "41        NaN\n",
       "63     Girona\n",
       "69        NaN\n",
       "230       NaN\n",
       "351    Girona\n",
       "352    Girona\n",
       "372       NaN\n",
       "396       NaN\n",
       "Name: Provincia, dtype: object"
      ]
     },
     "execution_count": 27,
     "metadata": {},
     "output_type": "execute_result"
    }
   ],
   "source": [
    "# ¿Que CCAA faltan de las que sí sabemos la provincia?\n",
    "df_soloartesanas[df_soloartesanas[\"Comunidad Autónoma\"].isna()][\"Provincia\"]\n"
   ]
  },
  {
   "cell_type": "code",
   "execution_count": 28,
   "metadata": {},
   "outputs": [],
   "source": [
    "# como son todas de Girona, actualizamos la CCAA con Cataluña\n",
    "mask=(df_soloartesanas[\"Comunidad Autónoma\"].isna()) & (df_soloartesanas[\"Provincia\"]==\"Girona\")\n",
    "df_soloartesanas.loc[mask,\"Comunidad Autónoma\"]=\"Cataluña\""
   ]
  },
  {
   "cell_type": "code",
   "execution_count": 29,
   "metadata": {},
   "outputs": [
    {
     "data": {
      "text/plain": [
       "0      NaN\n",
       "29     NaN\n",
       "30     NaN\n",
       "41     NaN\n",
       "69     NaN\n",
       "230    NaN\n",
       "372    NaN\n",
       "396    NaN\n",
       "Name: Provincia, dtype: object"
      ]
     },
     "execution_count": 29,
     "metadata": {},
     "output_type": "execute_result"
    }
   ],
   "source": [
    "# comprobamos que se han actualizado bien\n",
    "df_soloartesanas[df_soloartesanas[\"Comunidad Autónoma\"].isna()][\"Provincia\"]"
   ]
  },
  {
   "cell_type": "code",
   "execution_count": 30,
   "metadata": {},
   "outputs": [
    {
     "data": {
      "text/plain": [
       "0           NaN\n",
       "29          NaN\n",
       "30          NaN\n",
       "41          NaN\n",
       "69          NaN\n",
       "230         NaN\n",
       "257    Cataluña\n",
       "372         NaN\n",
       "396         NaN\n",
       "Name: Comunidad Autónoma, dtype: object"
      ]
     },
     "execution_count": 30,
     "metadata": {},
     "output_type": "execute_result"
    }
   ],
   "source": [
    "# A la inversa, en las provincias faltan ¿cuál es la CC.AA.?\n",
    "df_soloartesanas[df_soloartesanas[\"Provincia\"].isna()][\"Comunidad Autónoma\"]"
   ]
  },
  {
   "cell_type": "markdown",
   "metadata": {},
   "source": [
    "Comprobamos que las 8 provincias que faltan no tienen información sobre CC.AA, salvo 1 que es de Cataluña.\n",
    "El siguiente paso será averiguar qué información tenemos y falta respecto a la población de origen, para ver si se pueden completar las otras columnas."
   ]
  },
  {
   "cell_type": "code",
   "execution_count": 31,
   "metadata": {},
   "outputs": [
    {
     "data": {
      "text/plain": [
       "0             NaN\n",
       "29            NaN\n",
       "30            NaN\n",
       "41            NaN\n",
       "69            NaN\n",
       "230           NaN\n",
       "257    Granollers\n",
       "372           NaN\n",
       "396           NaN\n",
       "Name: Población, dtype: object"
      ]
     },
     "execution_count": 31,
     "metadata": {},
     "output_type": "execute_result"
    }
   ],
   "source": [
    "# Por un lado, en las provincias que faltan ¿cuál es población?\n",
    "df_soloartesanas[df_soloartesanas[\"Provincia\"].isna()][\"Población\"]"
   ]
  },
  {
   "cell_type": "code",
   "execution_count": 32,
   "metadata": {},
   "outputs": [
    {
     "data": {
      "text/plain": [
       "0      NaN\n",
       "29     NaN\n",
       "30     NaN\n",
       "41     NaN\n",
       "69     NaN\n",
       "230    NaN\n",
       "372    NaN\n",
       "396    NaN\n",
       "Name: Población, dtype: object"
      ]
     },
     "execution_count": 32,
     "metadata": {},
     "output_type": "execute_result"
    }
   ],
   "source": [
    "# Lo mismo para las CC.AA.\n",
    "df_soloartesanas[df_soloartesanas[\"Comunidad Autónoma\"].isna()][\"Población\"]"
   ]
  },
  {
   "cell_type": "markdown",
   "metadata": {},
   "source": [
    "Con la información de la columna \"Población\" solamente podemos completar los datos del registro 257 (Granollers), que corresponden a la provincia de Barcelona en Cataluña."
   ]
  },
  {
   "cell_type": "code",
   "execution_count": 33,
   "metadata": {},
   "outputs": [],
   "source": [
    "# Actualizo el registro 257 (Granollers)\n",
    "df_soloartesanas.loc[257,\"Provincia\"]=\"Barcelona\""
   ]
  },
  {
   "cell_type": "code",
   "execution_count": 34,
   "metadata": {},
   "outputs": [
    {
     "name": "stdout",
     "output_type": "stream",
     "text": [
      "Cervezas con población de origen 409\n",
      "Cervezas con provincia 427\n",
      "Cervezas con CC.AA 427\n"
     ]
    }
   ],
   "source": [
    "print(\"Cervezas con población de origen\",df_soloartesanas[\"Población\"].count())\n",
    "print(\"Cervezas con provincia\",df_soloartesanas[\"Provincia\"].count())\n",
    "print(\"Cervezas con CC.AA\",df_soloartesanas[\"Comunidad Autónoma\"].count())\n"
   ]
  },
  {
   "cell_type": "markdown",
   "metadata": {},
   "source": [
    "Esto significa que de las 435 cervezas recogidas 409 tienen toda la información, 8 no tienen ningún dato sobre procedencia y 18 tienen información regional.\n",
    "Dada esta circunstancia, se decide:\n",
    "1. Eliminar los 8 registros con origen totalmente desconocido.\n",
    "2. Conservar los 18 incompletos, indicando que la población de origen está \"sin especificar\". \n",
    "3. Unificar como país España\n",
    "\n",
    "Con ello, conseguiríamos un dataset con 427 registros documentados."
   ]
  },
  {
   "cell_type": "code",
   "execution_count": 35,
   "metadata": {},
   "outputs": [],
   "source": [
    "# Elimino los 8 registros sin ninguna información sobre su origien\n",
    "mask=df_soloartesanas[df_soloartesanas[\"Comunidad Autónoma\"].isna()]\n",
    "df_soloartesanas=df_soloartesanas.drop(mask.index)\n"
   ]
  },
  {
   "cell_type": "code",
   "execution_count": 36,
   "metadata": {},
   "outputs": [
    {
     "data": {
      "text/plain": [
       "18        Valencia\n",
       "27          Madrid\n",
       "39      Valladolid\n",
       "40      Valladolid\n",
       "88         Navarra\n",
       "94       Barcelona\n",
       "97       Cantabria\n",
       "172    Guadalajara\n",
       "173    Guadalajara\n",
       "263        Vizcaya\n",
       "283         Madrid\n",
       "347         Girona\n",
       "353    Guadalajara\n",
       "386    Guadalajara\n",
       "417     Valladolid\n",
       "419      Barcelona\n",
       "421      Salamanca\n",
       "428    Guadalajara\n",
       "Name: Provincia, dtype: object"
      ]
     },
     "execution_count": 36,
     "metadata": {},
     "output_type": "execute_result"
    }
   ],
   "source": [
    "# ¿Cuáles son las poblaciones que faltan?\n",
    "df_soloartesanas[df_soloartesanas[\"Población\"].isna()][\"Provincia\"]"
   ]
  },
  {
   "cell_type": "code",
   "execution_count": 37,
   "metadata": {},
   "outputs": [
    {
     "data": {
      "text/plain": [
       "array(['Valencia', 'Madrid', 'Valladolid', 'Navarra', 'Barcelona',\n",
       "       'Cantabria', 'Guadalajara', 'Vizcaya', 'Girona', 'Salamanca'],\n",
       "      dtype=object)"
      ]
     },
     "execution_count": 37,
     "metadata": {},
     "output_type": "execute_result"
    }
   ],
   "source": [
    "# guardo las provincias de las poblaciones que faltan\n",
    "prov_para_pobl=df_soloartesanas[df_soloartesanas[\"Población\"].isna()][\"Provincia\"].unique()\n",
    "prov_para_pobl"
   ]
  },
  {
   "cell_type": "code",
   "execution_count": 44,
   "metadata": {},
   "outputs": [
    {
     "data": {
      "text/html": [
       "<div>\n",
       "<style scoped>\n",
       "    .dataframe tbody tr th:only-of-type {\n",
       "        vertical-align: middle;\n",
       "    }\n",
       "\n",
       "    .dataframe tbody tr th {\n",
       "        vertical-align: top;\n",
       "    }\n",
       "\n",
       "    .dataframe thead th {\n",
       "        text-align: right;\n",
       "    }\n",
       "</style>\n",
       "<table border=\"1\" class=\"dataframe\">\n",
       "  <thead>\n",
       "    <tr style=\"text-align: right;\">\n",
       "      <th></th>\n",
       "      <th>id</th>\n",
       "      <th>color</th>\n",
       "      <th>name</th>\n",
       "      <th>brand</th>\n",
       "      <th>description</th>\n",
       "      <th>image</th>\n",
       "      <th>Estilo de cerveza</th>\n",
       "      <th>Graduación alcohólica</th>\n",
       "      <th>Fermentación</th>\n",
       "      <th>Amargor (según la Unidad Internacional de Amargor)</th>\n",
       "      <th>Población</th>\n",
       "      <th>Provincia</th>\n",
       "      <th>Comunidad Autónoma</th>\n",
       "      <th>Lúpulos</th>\n",
       "      <th>European Brewing Convention (EBC)</th>\n",
       "      <th>Maltas</th>\n",
       "      <th>Temperatura de consumo</th>\n",
       "      <th>Grano</th>\n",
       "      <th>País</th>\n",
       "    </tr>\n",
       "  </thead>\n",
       "  <tbody>\n",
       "    <tr>\n",
       "      <th>18</th>\n",
       "      <td>19</td>\n",
       "      <td>rubia</td>\n",
       "      <td>Birra &amp; Blues Mago de Oz</td>\n",
       "      <td>(cervezas artesanas Birra &amp; Blues)</td>\n",
       "      <td>\\nLa banda de rock Mago de Oz ya tiene su prop...</td>\n",
       "      <td>https://static1.soloartesanas.es/3014-large_de...</td>\n",
       "      <td>Blonde Ale</td>\n",
       "      <td>4,5% Alc./Vol.</td>\n",
       "      <td>Ale</td>\n",
       "      <td>21 IBUs</td>\n",
       "      <td>NaN</td>\n",
       "      <td>Valencia</td>\n",
       "      <td>Valencia</td>\n",
       "      <td>NaN</td>\n",
       "      <td>7</td>\n",
       "      <td>NaN</td>\n",
       "      <td>NaN</td>\n",
       "      <td>NaN</td>\n",
       "      <td>NaN</td>\n",
       "    </tr>\n",
       "  </tbody>\n",
       "</table>\n",
       "</div>"
      ],
      "text/plain": [
       "    id  color                      name                               brand  \\\n",
       "18  19  rubia  Birra & Blues Mago de Oz  (cervezas artesanas Birra & Blues)   \n",
       "\n",
       "                                          description  \\\n",
       "18  \\nLa banda de rock Mago de Oz ya tiene su prop...   \n",
       "\n",
       "                                                image Estilo de cerveza  \\\n",
       "18  https://static1.soloartesanas.es/3014-large_de...        Blonde Ale   \n",
       "\n",
       "   Graduación alcohólica Fermentación  \\\n",
       "18        4,5% Alc./Vol.          Ale   \n",
       "\n",
       "   Amargor (según la Unidad Internacional de Amargor) Población Provincia  \\\n",
       "18                                            21 IBUs       NaN  Valencia   \n",
       "\n",
       "   Comunidad Autónoma Lúpulos European Brewing Convention (EBC) Maltas  \\\n",
       "18           Valencia     NaN                                 7    NaN   \n",
       "\n",
       "   Temperatura de consumo Grano País  \n",
       "18                    NaN   NaN  NaN  "
      ]
     },
     "execution_count": 44,
     "metadata": {},
     "output_type": "execute_result"
    }
   ],
   "source": [
    "# ejemplo para comprobar\n",
    "mask_prov_ej=(df_soloartesanas[\"Provincia\"]=='Valencia') \n",
    "mask_sin_pobl_ej=mask_prov_ej & (df_soloartesanas[\"Población\"].isna())\n",
    "df_soloartesanas[mask_sin_pobl_ej]"
   ]
  },
  {
   "cell_type": "code",
   "execution_count": 45,
   "metadata": {},
   "outputs": [
    {
     "data": {
      "text/plain": [
       "0    Massalfassar\n",
       "dtype: object"
      ]
     },
     "execution_count": 45,
     "metadata": {},
     "output_type": "execute_result"
    }
   ],
   "source": [
    "prov_moda_ej=df_soloartesanas[mask_prov_ej][\"Población\"].mode()\n",
    "prov_moda_ej"
   ]
  },
  {
   "cell_type": "code",
   "execution_count": 46,
   "metadata": {},
   "outputs": [
    {
     "data": {
      "text/html": [
       "<div>\n",
       "<style scoped>\n",
       "    .dataframe tbody tr th:only-of-type {\n",
       "        vertical-align: middle;\n",
       "    }\n",
       "\n",
       "    .dataframe tbody tr th {\n",
       "        vertical-align: top;\n",
       "    }\n",
       "\n",
       "    .dataframe thead th {\n",
       "        text-align: right;\n",
       "    }\n",
       "</style>\n",
       "<table border=\"1\" class=\"dataframe\">\n",
       "  <thead>\n",
       "    <tr style=\"text-align: right;\">\n",
       "      <th></th>\n",
       "      <th>id</th>\n",
       "      <th>color</th>\n",
       "      <th>name</th>\n",
       "      <th>brand</th>\n",
       "      <th>description</th>\n",
       "      <th>image</th>\n",
       "      <th>Estilo de cerveza</th>\n",
       "      <th>Graduación alcohólica</th>\n",
       "      <th>Fermentación</th>\n",
       "      <th>Amargor (según la Unidad Internacional de Amargor)</th>\n",
       "      <th>Población</th>\n",
       "      <th>Provincia</th>\n",
       "      <th>Comunidad Autónoma</th>\n",
       "      <th>Lúpulos</th>\n",
       "      <th>European Brewing Convention (EBC)</th>\n",
       "      <th>Maltas</th>\n",
       "      <th>Temperatura de consumo</th>\n",
       "      <th>Grano</th>\n",
       "      <th>País</th>\n",
       "    </tr>\n",
       "  </thead>\n",
       "  <tbody>\n",
       "  </tbody>\n",
       "</table>\n",
       "</div>"
      ],
      "text/plain": [
       "Empty DataFrame\n",
       "Columns: [id, color, name, brand, description, image, Estilo de cerveza, Graduación alcohólica, Fermentación, Amargor (según la Unidad Internacional de Amargor), Población, Provincia, Comunidad Autónoma, Lúpulos, European Brewing Convention (EBC), Maltas, Temperatura de consumo, Grano, País]\n",
       "Index: []"
      ]
     },
     "execution_count": 46,
     "metadata": {},
     "output_type": "execute_result"
    }
   ],
   "source": [
    "# Para completar el dato de población, les voy a asignar por defecto\n",
    "# la población que sea la moda en esa provincia\n",
    "\n",
    "\n",
    "'''\n",
    "    mask=(df_soloartesanas[\"color\"]==df_estilo.loc[comb,\"color\"])&(df_soloartesanas[\"Fermentación\"]==df_estilo.loc[comb,\"Fermentación\"])&(df_soloartesanas[\"Grano\"]==df_estilo.loc[comb,\"Grano\"])\n",
    "    mk_sin_estilo=mask & df_soloartesanas[\"Estilo\"].isna()\n",
    "\n",
    "    nuevo_estilo=df_soloartesanas[mask][\"Estilo\"].mode()\n",
    "    \n",
    "    df_soloartesanas.loc[mk_sin_estilo,\"Estilo\"]=nuevo_estilo[0]\n",
    "\n",
    "\n",
    "'''\n",
    "\n",
    "for provincia in prov_para_pobl:\n",
    "    mask_prov=(df_soloartesanas[\"Provincia\"]==provincia) \n",
    "    mask_sin_pobl=mask_prov & (df_soloartesanas[\"Población\"].isna())\n",
    "    prov_moda=df_soloartesanas[mask_prov][\"Población\"].mode()\n",
    "    \n",
    "    df_soloartesanas.loc[mask_sin_pobl,\"Población\"]=prov_moda[0]\n",
    "\n",
    "# comprobamos\n",
    "df_soloartesanas[df_soloartesanas[\"Población\"].isna()]\n",
    "\n",
    "\n"
   ]
  },
  {
   "cell_type": "code",
   "execution_count": 49,
   "metadata": {},
   "outputs": [
    {
     "data": {
      "text/plain": [
       "'Massalfassar'"
      ]
     },
     "execution_count": 49,
     "metadata": {},
     "output_type": "execute_result"
    }
   ],
   "source": [
    "# ejemplo para comprobar\n",
    "df_soloartesanas.loc[18,\"Población\"]"
   ]
  },
  {
   "cell_type": "code",
   "execution_count": null,
   "metadata": {},
   "outputs": [],
   "source": [
    "# Asigno \"sin especificar\" a las poblaciones que faltan pero sí conocemos su provincia y CC.AA\n",
    "df_soloartesanas[\"Población\"]=df_soloartesanas[\"Población\"].fillna(\"sin especificar\")"
   ]
  },
  {
   "cell_type": "code",
   "execution_count": null,
   "metadata": {},
   "outputs": [],
   "source": [
    "df_soloartesanas.info()"
   ]
  },
  {
   "cell_type": "code",
   "execution_count": null,
   "metadata": {},
   "outputs": [],
   "source": [
    "df_soloartesanas.columns"
   ]
  },
  {
   "cell_type": "code",
   "execution_count": null,
   "metadata": {},
   "outputs": [],
   "source": [
    "# Unifico el campo \"País\" que tiene Nan y distintas grafías\n",
    "df_soloartesanas[\"País\"]=\"España\"\n",
    "\n",
    "# Muevo las columnas para que la información sobre la procedencia esté ordenada y al final del dataset\n",
    "df_soloartesanas=df_soloartesanas[['id', 'color', 'name', 'brand', 'description', 'image',\n",
    "       'Estilo de cerveza', 'Graduación alcohólica', 'Fermentación',\n",
    "       'Amargor (según la Unidad Internacional de Amargor)', 'Lúpulos',\n",
    "       'European Brewing Convention (EBC)', 'Maltas', 'Temperatura de consumo',\n",
    "       'Grano', 'Población',\n",
    "       'Provincia', 'Comunidad Autónoma', 'País']]\n"
   ]
  },
  {
   "cell_type": "markdown",
   "metadata": {},
   "source": [
    "## Normalización de datos específicos sobre cervezas\n",
    "A continuación se procede a revisar las columnas con información específica sobre las características de las cervezas, con el objetivo de que los datos sean uniformes y los tipos se correspondan con ellos. También se cambiarán los nombres de algunas columnas que resultan demasiado largos para trabajar."
   ]
  },
  {
   "cell_type": "code",
   "execution_count": null,
   "metadata": {},
   "outputs": [],
   "source": [
    "df_soloartesanas.columns"
   ]
  },
  {
   "cell_type": "code",
   "execution_count": null,
   "metadata": {},
   "outputs": [],
   "source": [
    "'''\n",
    "Como prueba. \n",
    "Hago una copia del df tal cual está en este punto para quitar todos los nulos \n",
    "y ver cómo se quedaría un a versión reducida pero completa\n",
    "'''\n",
    "\n",
    "df_sin_nulos=df_soloartesanas"
   ]
  },
  {
   "cell_type": "code",
   "execution_count": null,
   "metadata": {},
   "outputs": [],
   "source": [
    "# cambio nombres de columnas demasiado largos\n",
    "df_soloartesanas.rename(columns={'Estilo de cerveza':\"Estilo\",'Graduación alcohólica':\"Graduación\",'Amargor (según la Unidad Internacional de Amargor)':\"IBU\", },inplace=True)"
   ]
  },
  {
   "cell_type": "code",
   "execution_count": null,
   "metadata": {},
   "outputs": [],
   "source": [
    "# Modifico la columna de porcentaje de alcohol (ahora es texto) para dejar graduación como float\n",
    "\n",
    "# Valor ficticio(999) para evitar errores con los NAN\n",
    "df_soloartesanas['Graduación']=df_soloartesanas['Graduación'].fillna(\"999\")\n",
    "\n",
    "# sustituir comas por puntos\n",
    "df_soloartesanas['Graduación']=df_soloartesanas['Graduación'].apply(lambda x: x.replace(',','.'))\n",
    "\n",
    "# extraer el dato numérico (nums antes y después de .)\n",
    "df_soloartesanas['Graduación'] = df_soloartesanas[\"Graduación\"].str.extract(r\"(\\d+(.\\d+){0,1})\", expand=True)[0]\n",
    "\n",
    "# transformar en float\n",
    "df_soloartesanas['Graduación']=df_soloartesanas['Graduación'].astype('float64')"
   ]
  },
  {
   "cell_type": "code",
   "execution_count": null,
   "metadata": {},
   "outputs": [],
   "source": [
    "df_soloartesanas['Graduación'].unique()"
   ]
  },
  {
   "cell_type": "code",
   "execution_count": null,
   "metadata": {},
   "outputs": [],
   "source": [
    "df_soloartesanas['Graduación'].value_counts()"
   ]
  },
  {
   "cell_type": "code",
   "execution_count": null,
   "metadata": {},
   "outputs": [],
   "source": [
    "# ¿Cómo son las cervezas que no tienen dato de graducación?df_soloartesanas[df_soloartesanas['Graduación']==999.00]"
   ]
  },
  {
   "cell_type": "code",
   "execution_count": null,
   "metadata": {},
   "outputs": [],
   "source": [
    "df_soloartesanas.loc[172,\"description\"]"
   ]
  },
  {
   "cell_type": "code",
   "execution_count": null,
   "metadata": {},
   "outputs": [],
   "source": [
    "df_soloartesanas[\"IBU\"].unique()"
   ]
  },
  {
   "cell_type": "code",
   "execution_count": null,
   "metadata": {},
   "outputs": [],
   "source": [
    "df_soloartesanas[\"IBU\"].value_counts()"
   ]
  },
  {
   "cell_type": "code",
   "execution_count": null,
   "metadata": {},
   "outputs": [],
   "source": [
    "# limpio IBUS para dejar solo los números\n",
    "\n",
    "# Valor ficticio(999) para evitar errores con los NAN\n",
    "df_soloartesanas['IBU']=df_soloartesanas['IBU'].fillna(\"999\")\n",
    "\n",
    "# sustituir comas por puntos\n",
    "df_soloartesanas['IBU']=df_soloartesanas['IBU'].apply(lambda x: x.replace(',','.'))\n",
    "\n",
    "# extraer el dato numérico (nums antes y después de .)\n",
    "df_soloartesanas['IBU']=df_soloartesanas['IBU'].str.extract(r\"(\\d+(.\\d+){0,1})\", expand=True)[0]\n",
    "\n",
    "# transformar en float\n",
    "df_soloartesanas['IBU']=df_soloartesanas['IBU'].fillna(\"999\")\n",
    "df_soloartesanas['IBU']=df_soloartesanas['IBU'].astype('float64')\n",
    "df_soloartesanas['IBU'].unique()"
   ]
  },
  {
   "cell_type": "code",
   "execution_count": null,
   "metadata": {},
   "outputs": [],
   "source": [
    "df_soloartesanas.info()"
   ]
  },
  {
   "cell_type": "code",
   "execution_count": null,
   "metadata": {},
   "outputs": [],
   "source": [
    "df_soloartesanas['brand'].value_counts()"
   ]
  },
  {
   "cell_type": "code",
   "execution_count": null,
   "metadata": {},
   "outputs": [],
   "source": [
    "# eliminar \"cervezas artesanas \" y los paréntesis en el campo \"brand\"\n",
    "df_soloartesanas['brand']=df_soloartesanas['brand'].apply(lambda x: x.replace('(cervezas artesanas ',''))\n",
    "df_soloartesanas['brand']=df_soloartesanas['brand'].apply(lambda x: x.replace(')',''))"
   ]
  },
  {
   "cell_type": "code",
   "execution_count": null,
   "metadata": {},
   "outputs": [],
   "source": [
    "# ejemplo de una cerveza\n",
    "df_soloartesanas.iloc[223]"
   ]
  },
  {
   "cell_type": "code",
   "execution_count": null,
   "metadata": {},
   "outputs": [],
   "source": [
    "df_soloartesanas.columns"
   ]
  },
  {
   "cell_type": "code",
   "execution_count": null,
   "metadata": {},
   "outputs": [],
   "source": [
    "df_soloartesanas[\"color\"].unique()"
   ]
  },
  {
   "cell_type": "code",
   "execution_count": null,
   "metadata": {},
   "outputs": [],
   "source": [
    "df_soloartesanas[\"name\"].unique()"
   ]
  },
  {
   "cell_type": "code",
   "execution_count": null,
   "metadata": {},
   "outputs": [],
   "source": [
    "df_soloartesanas[\"brand\"].unique()"
   ]
  },
  {
   "cell_type": "markdown",
   "metadata": {},
   "source": [
    "### Datos sobre el estilo de las cervezas\n",
    "Uno de los datos más importantes en la valoración de las cervezas es su estilo. Encontramos que este campo tiene algunos registros sin especificar, por lo que buscamos la manera de completar la información basándonos en otros datos o, de manera puntual, buscando el estilo para unos casos concretos.\n"
   ]
  },
  {
   "cell_type": "code",
   "execution_count": null,
   "metadata": {},
   "outputs": [],
   "source": [
    "df_soloartesanas[\"Estilo\"].value_counts()"
   ]
  },
  {
   "cell_type": "code",
   "execution_count": null,
   "metadata": {},
   "outputs": [],
   "source": [
    "df_soloartesanas[\"Estilo\"].nunique()"
   ]
  },
  {
   "cell_type": "code",
   "execution_count": null,
   "metadata": {},
   "outputs": [],
   "source": [
    "df_soloartesanas[\"Estilo\"].unique()"
   ]
  },
  {
   "cell_type": "code",
   "execution_count": null,
   "metadata": {},
   "outputs": [],
   "source": [
    "# ¿cómo son las que no tienen estilo?\n",
    "df_estilo=df_soloartesanas[df_soloartesanas[\"Estilo\"].isna()]\n",
    "\n",
    "df_estilo=df_estilo.drop(columns=[\"id\", \"name\",\"Graduación\", \"IBU\",\"Lúpulos\",\n",
    "                                  \"European Brewing Convention (EBC)\",\"Maltas\",\n",
    "                                  'image',\"brand\",\"description\",\n",
    "                                 'Población', 'Provincia',\n",
    "                                 'Comunidad Autónoma',\n",
    "                                 'Temperatura de consumo', 'País'])\n",
    "df_estilo"
   ]
  },
  {
   "cell_type": "markdown",
   "metadata": {},
   "source": [
    "Observamos que para las 11 cervezas que no tienen clasificación de estilo podemos obtener el dato conociendo la fermentación, el color y el grano. \n",
    "Por tanto, prodecemos a obtener el estilo que más se repite en cada una de esas combinaciones y se lo añadimos a la cerveza. "
   ]
  },
  {
   "cell_type": "code",
   "execution_count": null,
   "metadata": {},
   "outputs": [],
   "source": [
    "# Eliminamos las combinaciones que se repiten\n",
    "df_estilo.drop_duplicates(inplace=True)\n",
    "\n",
    "#inicializamos el índice\n",
    "df_estilo.reset_index(drop=True,inplace=True)\n",
    "df_estilo"
   ]
  },
  {
   "cell_type": "code",
   "execution_count": null,
   "metadata": {},
   "outputs": [],
   "source": [
    "# Buscamos el estilo que es la moda para cada combinación (ej.rubia & Ale & Cebada) y lo asignamos a cada cerveza sin estilo\n",
    "\n",
    "combinaciones=range(df_estilo.columns.size+1)\n",
    "\n",
    "for comb in combinaciones:\n",
    "    \n",
    "    mask=(df_soloartesanas[\"color\"]==df_estilo.loc[comb,\"color\"])&(df_soloartesanas[\"Fermentación\"]==df_estilo.loc[comb,\"Fermentación\"])&(df_soloartesanas[\"Grano\"]==df_estilo.loc[comb,\"Grano\"])\n",
    "    mk_sin_estilo=mask & df_soloartesanas[\"Estilo\"].isna()\n",
    "\n",
    "    nuevo_estilo=df_soloartesanas[mask][\"Estilo\"].mode()\n",
    "    \n",
    "    df_soloartesanas.loc[mk_sin_estilo,\"Estilo\"]=nuevo_estilo[0]\n",
    "\n",
    "# comprobamos\n",
    "df_soloartesanas[df_soloartesanas[\"Estilo\"].isna()]\n"
   ]
  },
  {
   "cell_type": "code",
   "execution_count": null,
   "metadata": {},
   "outputs": [],
   "source": [
    "# queda 1 cerveza sin estilo. Vemos su descripción para buscar más información\n",
    "df_soloartesanas.loc[428,\"description\"]"
   ]
  },
  {
   "cell_type": "code",
   "execution_count": null,
   "metadata": {},
   "outputs": [],
   "source": [
    "# Por la descripción encajaría en una Red IPA. Actualizamos el dato\n",
    "df_soloartesanas.loc[428,\"Estilo\"]=' Red IPA'"
   ]
  },
  {
   "cell_type": "code",
   "execution_count": null,
   "metadata": {},
   "outputs": [],
   "source": [
    "df_soloartesanas[\"Estilo\"].unique()"
   ]
  },
  {
   "cell_type": "code",
   "execution_count": null,
   "metadata": {},
   "outputs": [],
   "source": [
    "# hay varias cervezas del mismo tipo con distinta nomenclarura\n",
    "#df_soloartesanas[df_soloartesanas[\"Estilo\"].str.contains(\"India Pale Ale\")][\"Estilo\"].unique()\n",
    "df_soloartesanas[df_soloartesanas[\"Estilo\"].str.contains(\"Pale Ale\")][\"Estilo\"].unique()"
   ]
  },
  {
   "cell_type": "code",
   "execution_count": null,
   "metadata": {},
   "outputs": [],
   "source": [
    "# Unificamos las India Pale Ale, excepto las que tienen otros calificativos, que son Valencia y Brown:\n",
    "mask_pale_ale=df_soloartesanas[\"Estilo\"].str.contains(\"Pale Ale\")\n",
    "mask_india=df_soloartesanas[\"Estilo\"].str.contains(\"India\")\n",
    "mask_valencia=df_soloartesanas[\"Estilo\"].str.contains(\"Valencia\")\n",
    "mask_brown=df_soloartesanas[\"Estilo\"].str.contains(\"Brown\")\n",
    "\n",
    "# Asignamos ' India Pale Ale'\n",
    "df_soloartesanas.loc[(mask_pale_ale & mask_india &~ mask_valencia &~ mask_brown ),[\"Estilo\"]]=' India Pale Ale'"
   ]
  },
  {
   "cell_type": "code",
   "execution_count": null,
   "metadata": {},
   "outputs": [],
   "source": [
    "# También hay que unificar las tipo \"American Pale Ale - APA\"\n",
    "df_soloartesanas[df_soloartesanas[\"Estilo\"].str.contains(\"America\")][\"Estilo\"].value_counts()"
   ]
  },
  {
   "cell_type": "code",
   "execution_count": null,
   "metadata": {},
   "outputs": [],
   "source": [
    "# máscaras\n",
    "mask_america=df_soloartesanas[\"Estilo\"].str.contains(\"America\")\n",
    "\n",
    "df_soloartesanas.loc[(mask_pale_ale & mask_america ),[\"Estilo\"]]=' America Pale Ale'"
   ]
  },
  {
   "cell_type": "code",
   "execution_count": null,
   "metadata": {},
   "outputs": [],
   "source": [
    "# cervezas Stout están bien diferenciadas\n",
    "df_soloartesanas[df_soloartesanas[\"Estilo\"].str.contains(\"Stout\")][\"Estilo\"].value_counts()"
   ]
  },
  {
   "cell_type": "code",
   "execution_count": null,
   "metadata": {},
   "outputs": [],
   "source": [
    "# las Witbier necesitan unificarse\n",
    "df_soloartesanas[df_soloartesanas[\"Estilo\"].str.contains(\"Wit\")][\"Estilo\"].value_counts()"
   ]
  },
  {
   "cell_type": "code",
   "execution_count": null,
   "metadata": {},
   "outputs": [],
   "source": [
    "df_soloartesanas.loc[df_soloartesanas[\"Estilo\"].str.contains(\"Wit\"),[\"Estilo\"]]=' Witbier'"
   ]
  },
  {
   "cell_type": "markdown",
   "metadata": {},
   "source": [
    "## La fermentación\n",
    "Las cervezas se clasifican en cuanto a su fermentación como Ale (alta), Lager (baja) y espontánea, aunque en esta base de datos encontramos que las cervezas vienen clasificadas en tres tipos: Ale, Lager y Mixta.\n",
    "Se ha detectado que hay 31 cervezas sin clasificar,pero que pueden ser identificadas por la información sobre su estilo. La mayoría de las cervezas tienen fermentación alta y entre ellas se encuentran las IPA, weizen, wit, stout y porter. Sin embargo, las de tipo rauchbier tienen fermentación baja."
   ]
  },
  {
   "cell_type": "code",
   "execution_count": null,
   "metadata": {},
   "outputs": [],
   "source": [
    "df_soloartesanas[\"Fermentación\"].unique()"
   ]
  },
  {
   "cell_type": "code",
   "execution_count": null,
   "metadata": {},
   "outputs": [],
   "source": [
    "print(\"Sin dato:\",df_soloartesanas[\"Fermentación\"].isna().sum())\n",
    "df_soloartesanas[\"Fermentación\"].value_counts()"
   ]
  },
  {
   "cell_type": "code",
   "execution_count": null,
   "metadata": {},
   "outputs": [],
   "source": [
    "# Para las que no tienen dato de fermentación ¿cuál es su estilo?\n",
    "#mask=df_soloartesanas[\"Fermentación\"].isna()\n",
    "df_soloartesanas.loc[(df_soloartesanas[\"Fermentación\"].isna()),\"Estilo\"].value_counts()"
   ]
  },
  {
   "cell_type": "code",
   "execution_count": null,
   "metadata": {},
   "outputs": [],
   "source": [
    "# Las cervezas que tienen estilo \"Ale\", \"IPA\",\"Weizen\",\"Wit\",\"Stout\" y \"Porter\" son de fermentación Ale\n",
    "# Las tipo Rauchbier son asigno Lager\n",
    "\n",
    "# Como solamente hay 1 Rauchbier, actualizo esa con \"Lager\" \n",
    "df_soloartesanas.loc[(df_soloartesanas[\"Estilo\"].str.contains(\"Rauchbier\") & df_soloartesanas[\"Fermentación\"].isna()),[\"Fermentación\"]]='Lager'\n",
    "\n",
    "# y asigno a las demás \"Ale\"\n",
    "df_soloartesanas.loc[(df_soloartesanas[\"Fermentación\"].isna()),[\"Fermentación\"]]='Ale'\n",
    "\n",
    "# compruebo\n",
    "print(\"Sin dato:\",df_soloartesanas[\"Fermentación\"].isna().sum())\n",
    "df_soloartesanas[\"Fermentación\"].value_counts()"
   ]
  },
  {
   "cell_type": "code",
   "execution_count": null,
   "metadata": {},
   "outputs": [],
   "source": [
    "df_soloartesanas[\"IBU\"].unique()"
   ]
  },
  {
   "cell_type": "code",
   "execution_count": null,
   "metadata": {},
   "outputs": [],
   "source": [
    "df_soloartesanas[\"Lúpulos\"].unique()"
   ]
  },
  {
   "cell_type": "code",
   "execution_count": null,
   "metadata": {},
   "outputs": [],
   "source": [
    "df_soloartesanas[\"European Brewing Convention (EBC)\"].unique()"
   ]
  },
  {
   "cell_type": "code",
   "execution_count": null,
   "metadata": {},
   "outputs": [],
   "source": [
    "df_soloartesanas[\"Maltas\"].unique()"
   ]
  },
  {
   "cell_type": "code",
   "execution_count": null,
   "metadata": {},
   "outputs": [],
   "source": [
    "df_soloartesanas[\"Temperatura de consumo\"].unique()"
   ]
  },
  {
   "cell_type": "markdown",
   "metadata": {},
   "source": [
    "### Unificamos el tipo de grano\n",
    "A pesar de que este dato falta en bastantes registros, lo dejamos porque puede ser interesante para pintar. Para ello, primero unificamos los datos ya que algunos están escritos de varias formas."
   ]
  },
  {
   "cell_type": "code",
   "execution_count": null,
   "metadata": {},
   "outputs": [],
   "source": [
    "df_soloartesanas[\"Grano\"].unique()"
   ]
  },
  {
   "cell_type": "code",
   "execution_count": null,
   "metadata": {},
   "outputs": [],
   "source": [
    "df_soloartesanas[\"Grano\"].value_counts()"
   ]
  },
  {
   "cell_type": "code",
   "execution_count": null,
   "metadata": {},
   "outputs": [],
   "source": [
    "# Unifico cebada y trigo\n",
    "granos=(df_soloartesanas[\"Grano\"]=='Cebada y trigo') | (df_soloartesanas[\"Grano\"]=='Trigo y cebada (50%)') | (df_soloartesanas[\"Grano\"]=='Cebada y Trigo')\n",
    "df_soloartesanas.loc[granos,\"Grano\"]='Cebada y trigo'\n"
   ]
  },
  {
   "cell_type": "code",
   "execution_count": null,
   "metadata": {},
   "outputs": [],
   "source": [
    "df_soloartesanas.to_csv(\"data/soloartesanas_limpio.csv\", sep = ';', index = False)"
   ]
  },
  {
   "cell_type": "code",
   "execution_count": null,
   "metadata": {},
   "outputs": [],
   "source": [
    "df_soloartesanas.info()"
   ]
  },
  {
   "cell_type": "code",
   "execution_count": null,
   "metadata": {},
   "outputs": [],
   "source": []
  }
 ],
 "metadata": {
  "kernelspec": {
   "display_name": "Python 3",
   "language": "python",
   "name": "python3"
  },
  "language_info": {
   "codemirror_mode": {
    "name": "ipython",
    "version": 3
   },
   "file_extension": ".py",
   "mimetype": "text/x-python",
   "name": "python",
   "nbconvert_exporter": "python",
   "pygments_lexer": "ipython3",
   "version": "3.8.3"
  }
 },
 "nbformat": 4,
 "nbformat_minor": 4
}
